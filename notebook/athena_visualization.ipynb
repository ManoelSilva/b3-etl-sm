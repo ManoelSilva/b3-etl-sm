{
 "cells": [
  {
   "cell_type": "code",
   "execution_count": 1,
   "id": "f8533acf51b9f507",
   "metadata": {
    "ExecuteTime": {
     "end_time": "2025-07-14T21:53:20.727289Z",
     "start_time": "2025-07-14T21:53:20.707330Z"
    }
   },
   "outputs": [],
   "source": [
    "# B3 Data Visualization Dashboard\n",
    "\n",
    "# This notebook contains visualizations and analyses of B3 data stored in the AWS Glue Data Catalog."
   ]
  },
  {
   "cell_type": "code",
   "execution_count": 2,
   "id": "3a8ba0ef",
   "metadata": {
    "ExecuteTime": {
     "end_time": "2025-07-14T21:53:33.422117Z",
     "start_time": "2025-07-14T21:53:21.601416Z"
    }
   },
   "outputs": [
    {
     "name": "stdout",
     "output_type": "stream",
     "text": [
      "Requirement already satisfied: PyAthena in d:\\users\\manoeljr\\projetos\\b3-etl-sm\\.venv\\lib\\site-packages (3.14.1)\n",
      "Requirement already satisfied: pandas in d:\\users\\manoeljr\\projetos\\b3-etl-sm\\.venv\\lib\\site-packages (2.3.1)\n",
      "Requirement already satisfied: plotly in d:\\users\\manoeljr\\projetos\\b3-etl-sm\\.venv\\lib\\site-packages (6.2.0)\n",
      "Requirement already satisfied: boto3 in d:\\users\\manoeljr\\projetos\\b3-etl-sm\\.venv\\lib\\site-packages (1.38.45)\n",
      "Requirement already satisfied: sqlalchemy in d:\\users\\manoeljr\\projetos\\b3-etl-sm\\.venv\\lib\\site-packages (2.0.41)\n",
      "Requirement already satisfied: botocore>=1.29.4 in d:\\users\\manoeljr\\projetos\\b3-etl-sm\\.venv\\lib\\site-packages (from PyAthena) (1.38.45)\n",
      "Requirement already satisfied: fsspec in d:\\users\\manoeljr\\projetos\\b3-etl-sm\\.venv\\lib\\site-packages (from PyAthena) (2025.5.1)\n",
      "Requirement already satisfied: python-dateutil in d:\\users\\manoeljr\\projetos\\b3-etl-sm\\.venv\\lib\\site-packages (from PyAthena) (2.9.0.post0)\n",
      "Requirement already satisfied: tenacity>=4.1.0 in d:\\users\\manoeljr\\projetos\\b3-etl-sm\\.venv\\lib\\site-packages (from PyAthena) (9.1.2)\n",
      "Requirement already satisfied: numpy>=1.26.0 in d:\\users\\manoeljr\\projetos\\b3-etl-sm\\.venv\\lib\\site-packages (from pandas) (2.3.1)\n",
      "Requirement already satisfied: pytz>=2020.1 in d:\\users\\manoeljr\\projetos\\b3-etl-sm\\.venv\\lib\\site-packages (from pandas) (2025.2)\n",
      "Requirement already satisfied: tzdata>=2022.7 in d:\\users\\manoeljr\\projetos\\b3-etl-sm\\.venv\\lib\\site-packages (from pandas) (2025.2)\n",
      "Requirement already satisfied: narwhals>=1.15.1 in d:\\users\\manoeljr\\projetos\\b3-etl-sm\\.venv\\lib\\site-packages (from plotly) (1.46.0)\n",
      "Requirement already satisfied: packaging in d:\\users\\manoeljr\\projetos\\b3-etl-sm\\.venv\\lib\\site-packages (from plotly) (25.0)\n",
      "Requirement already satisfied: jmespath<2.0.0,>=0.7.1 in d:\\users\\manoeljr\\projetos\\b3-etl-sm\\.venv\\lib\\site-packages (from boto3) (1.0.1)\n",
      "Requirement already satisfied: s3transfer<0.14.0,>=0.13.0 in d:\\users\\manoeljr\\projetos\\b3-etl-sm\\.venv\\lib\\site-packages (from boto3) (0.13.0)\n",
      "Requirement already satisfied: urllib3!=2.2.0,<3,>=1.25.4 in d:\\users\\manoeljr\\projetos\\b3-etl-sm\\.venv\\lib\\site-packages (from botocore>=1.29.4->PyAthena) (2.5.0)\n",
      "Requirement already satisfied: six>=1.5 in d:\\users\\manoeljr\\projetos\\b3-etl-sm\\.venv\\lib\\site-packages (from python-dateutil->PyAthena) (1.17.0)\n",
      "Requirement already satisfied: greenlet>=1 in d:\\users\\manoeljr\\projetos\\b3-etl-sm\\.venv\\lib\\site-packages (from sqlalchemy) (3.2.3)\n",
      "Requirement already satisfied: typing-extensions>=4.6.0 in d:\\users\\manoeljr\\projetos\\b3-etl-sm\\.venv\\lib\\site-packages (from sqlalchemy) (4.14.1)\n",
      "Note: you may need to restart the kernel to use updated packages.\n"
     ]
    }
   ],
   "source": [
    "# Installation of required libraries\n",
    "%pip install PyAthena pandas plotly boto3 sqlalchemy"
   ]
  },
  {
   "cell_type": "code",
   "execution_count": 3,
   "id": "97e4d2a5",
   "metadata": {
    "ExecuteTime": {
     "end_time": "2025-07-14T21:54:00.850742Z",
     "start_time": "2025-07-14T21:53:35.545693Z"
    }
   },
   "outputs": [],
   "source": [
    "# Import libraries\n",
    "import os\n",
    "import pandas as pd\n",
    "import plotly.express as px\n",
    "import plotly.graph_objects as go"
   ]
  },
  {
   "cell_type": "code",
   "execution_count": 4,
   "id": "8e49d80f",
   "metadata": {
    "ExecuteTime": {
     "end_time": "2025-07-14T21:54:00.920970Z",
     "start_time": "2025-07-14T21:54:00.892561Z"
    }
   },
   "outputs": [],
   "source": [
    "# Connection settings (adjust as needed)\n",
    "AWS_REGION = os.getenv('AWS_REGION', 'us-east-1')\n",
    "S3_STAGING_DIR = os.getenv('S3_STAGING_DIR', 's3://861115334572-athena/b3-visualization/')\n",
    "DATABASE = 'default'\n",
    "TABLE = 'b3_tbl_refined'"
   ]
  },
  {
   "cell_type": "code",
   "execution_count": 5,
   "id": "575e19ac",
   "metadata": {
    "ExecuteTime": {
     "end_time": "2025-07-14T21:54:01.753797Z",
     "start_time": "2025-07-14T21:54:01.746702Z"
    }
   },
   "outputs": [],
   "source": [
    "# SQL query to obtain the required data\n",
    "df_query = f'''\n",
    "SELECT code, reference_date, part, ticker\n",
    "FROM {TABLE}\n",
    "WHERE reference_date IS NOT NULL AND part IS NOT NULL AND ticker IS NOT NULL\n",
    "AND code IN ('ITUB4', 'BPAC11', 'PETR4', 'VALE3', 'BBAS3')\n",
    "ORDER BY reference_date, ticker\n",
    "'''"
   ]
  },
  {
   "cell_type": "code",
   "execution_count": 6,
   "id": "d803056e",
   "metadata": {
    "ExecuteTime": {
     "end_time": "2025-07-14T21:54:03.745686Z",
     "start_time": "2025-07-14T21:54:02.260939Z"
    }
   },
   "outputs": [],
   "source": [
    "# Connection to Athena\n",
    "from sqlalchemy.engine import create_engine\n",
    "\n",
    "conn_str = (\n",
    "    f\"awsathena+rest://@athena.{AWS_REGION}.amazonaws.com:443/{DATABASE}\"\n",
    "    f\"?s3_staging_dir={S3_STAGING_DIR}\"\n",
    ")\n",
    "\n",
    "conn = create_engine(conn_str)"
   ]
  },
  {
   "cell_type": "code",
   "execution_count": 7,
   "id": "c6258e12",
   "metadata": {
    "ExecuteTime": {
     "end_time": "2025-07-14T21:54:09.365352Z",
     "start_time": "2025-07-14T21:54:03.818878Z"
    }
   },
   "outputs": [
    {
     "name": "stdout",
     "output_type": "stream",
     "text": [
      "Executing Athena query...\n"
     ]
    }
   ],
   "source": [
    "# Executes the query and loads into DataFrame\n",
    "print('Executing Athena query...')\n",
    "df = pd.read_sql(df_query, conn)"
   ]
  },
  {
   "cell_type": "code",
   "execution_count": 8,
   "id": "84d7ed336b1a238b",
   "metadata": {
    "ExecuteTime": {
     "end_time": "2025-07-14T21:54:09.632893Z",
     "start_time": "2025-07-14T21:54:09.553550Z"
    }
   },
   "outputs": [
    {
     "name": "stdout",
     "output_type": "stream",
     "text": [
      "Sample of the data:\n",
      "     code reference_date    part        ticker\n",
      "0   BBAS3     2025-06-20   2.889        BRASIL\n",
      "1  BPAC11     2025-06-20   2.507    BTGP BANCO\n",
      "2   ITUB4     2025-06-20   8.166  ITAUUNIBANCO\n",
      "3   PETR4     2025-06-20   6.765     PETROBRAS\n",
      "4   VALE3     2025-06-20  10.199          VALE\n"
     ]
    }
   ],
   "source": [
    "# Convert reference_date to datetime\n",
    "if not pd.api.types.is_datetime64_any_dtype(df['reference_date']):\n",
    "    df['reference_date'] = pd.to_datetime(df['reference_date'])\n",
    "\n",
    "print('Sample of the data:')\n",
    "print(df.head())"
   ]
  },
  {
   "cell_type": "code",
   "execution_count": 9,
   "id": "79db36eb",
   "metadata": {
    "ExecuteTime": {
     "end_time": "2025-07-14T21:54:10.960284Z",
     "start_time": "2025-07-14T21:54:10.126908Z"
    }
   },
   "outputs": [
    {
     "data": {
      "application/vnd.plotly.v1+json": {
       "config": {
        "plotlyServerURL": "https://plot.ly"
       },
       "data": [
        {
         "hovertemplate": "Ticker=BRASIL<br>Reference Date=%{x}<br>Participation=%{y}<extra></extra>",
         "legendgroup": "BRASIL",
         "line": {
          "color": "#636efa",
          "dash": "solid"
         },
         "marker": {
          "symbol": "circle"
         },
         "mode": "lines",
         "name": "BRASIL",
         "orientation": "v",
         "showlegend": true,
         "type": "scatter",
         "x": [
          "2025-06-20T00:00:00.000000000",
          "2025-06-21T00:00:00.000000000",
          "2025-06-22T00:00:00.000000000",
          "2025-06-23T00:00:00.000000000",
          "2025-06-24T00:00:00.000000000",
          "2025-06-25T00:00:00.000000000",
          "2025-06-26T00:00:00.000000000",
          "2025-06-27T00:00:00.000000000",
          "2025-06-28T00:00:00.000000000",
          "2025-06-29T00:00:00.000000000",
          "2025-06-30T00:00:00.000000000",
          "2025-07-01T00:00:00.000000000",
          "2025-07-02T00:00:00.000000000",
          "2025-07-03T00:00:00.000000000",
          "2025-07-04T00:00:00.000000000",
          "2025-07-05T00:00:00.000000000",
          "2025-07-06T00:00:00.000000000",
          "2025-07-07T00:00:00.000000000",
          "2025-07-08T00:00:00.000000000",
          "2025-07-09T00:00:00.000000000",
          "2025-07-10T00:00:00.000000000",
          "2025-07-11T00:00:00.000000000",
          "2025-07-12T00:00:00.000000000",
          "2025-07-13T00:00:00.000000000",
          "2025-07-14T00:00:00.000000000",
          "2025-07-15T00:00:00.000000000",
          "2025-07-16T00:00:00.000000000",
          "2025-07-17T00:00:00.000000000"
         ],
         "xaxis": "x",
         "y": {
          "bdata": "6SYxCKwcB0BMN4lBYOUGQEw3iUFg5QZATDeJQWDlBkC4HoXrUbgGQMuhRbbz/QZA1XjpJjEIB0CTGARWDi0HQFyPwvUoXAdAXI/C9ShcB0Bcj8L1KFwHQDvfT42XbgdAVOOlm8QgB0Cyne+nxksHQB1aZDvfTwdAMQisHFpkB0AxCKwcWmQHQDEIrBxaZAdAsp3vp8ZLB0DdJAaBlUMHQJZDi2zn+wZADAIrhxbZBkB3vp8aL90GQHe+nxov3QZAd76fGi/dBkBQjZduEoMGQMP1KFyPwgZAGQRWDi2yBkA=",
          "dtype": "f8"
         },
         "yaxis": "y"
        },
        {
         "hovertemplate": "Ticker=BTGP BANCO<br>Reference Date=%{x}<br>Participation=%{y}<extra></extra>",
         "legendgroup": "BTGP BANCO",
         "line": {
          "color": "#EF553B",
          "dash": "solid"
         },
         "marker": {
          "symbol": "circle"
         },
         "mode": "lines",
         "name": "BTGP BANCO",
         "orientation": "v",
         "showlegend": true,
         "type": "scatter",
         "x": [
          "2025-06-20T00:00:00.000000000",
          "2025-06-21T00:00:00.000000000",
          "2025-06-22T00:00:00.000000000",
          "2025-06-23T00:00:00.000000000",
          "2025-06-24T00:00:00.000000000",
          "2025-06-25T00:00:00.000000000",
          "2025-06-26T00:00:00.000000000",
          "2025-06-27T00:00:00.000000000",
          "2025-06-28T00:00:00.000000000",
          "2025-06-29T00:00:00.000000000",
          "2025-06-30T00:00:00.000000000",
          "2025-07-01T00:00:00.000000000",
          "2025-07-02T00:00:00.000000000",
          "2025-07-03T00:00:00.000000000",
          "2025-07-04T00:00:00.000000000",
          "2025-07-05T00:00:00.000000000",
          "2025-07-06T00:00:00.000000000",
          "2025-07-07T00:00:00.000000000",
          "2025-07-08T00:00:00.000000000",
          "2025-07-09T00:00:00.000000000",
          "2025-07-10T00:00:00.000000000",
          "2025-07-11T00:00:00.000000000",
          "2025-07-12T00:00:00.000000000",
          "2025-07-13T00:00:00.000000000",
          "2025-07-14T00:00:00.000000000",
          "2025-07-15T00:00:00.000000000",
          "2025-07-16T00:00:00.000000000",
          "2025-07-17T00:00:00.000000000"
         ],
         "xaxis": "x",
         "y": {
          "bdata": "dZMYBFYOBEAdWmQ7308EQB1aZDvfTwRAHVpkO99PBEASg8DKoUUEQARWDi2ynQRArkfhehSuBEB7FK5H4XoEQOf7qfHSTQRA5/up8dJNBEDn+6nx0k0EQLKd76fGSwRAsHJoke18BEAhsHJoke0DQKAaL90kBgRACtejcD0KBEAK16NwPQoEQArXo3A9CgRAFK5H4XoUBEBvEoPAyqEDQCuHFtnO9wNAgZVDi2znA0AAAAAAAAAEQAAAAAAAAARAAAAAAAAABEBqvHSTGAQEQNejcD0K1wNAaJHtfD81BEA=",
          "dtype": "f8"
         },
         "yaxis": "y"
        },
        {
         "hovertemplate": "Ticker=ITAUUNIBANCO<br>Reference Date=%{x}<br>Participation=%{y}<extra></extra>",
         "legendgroup": "ITAUUNIBANCO",
         "line": {
          "color": "#00cc96",
          "dash": "solid"
         },
         "marker": {
          "symbol": "circle"
         },
         "mode": "lines",
         "name": "ITAUUNIBANCO",
         "orientation": "v",
         "showlegend": true,
         "type": "scatter",
         "x": [
          "2025-06-20T00:00:00.000000000",
          "2025-06-21T00:00:00.000000000",
          "2025-06-22T00:00:00.000000000",
          "2025-06-23T00:00:00.000000000",
          "2025-06-24T00:00:00.000000000",
          "2025-06-25T00:00:00.000000000",
          "2025-06-26T00:00:00.000000000",
          "2025-06-27T00:00:00.000000000",
          "2025-06-28T00:00:00.000000000",
          "2025-06-29T00:00:00.000000000",
          "2025-06-30T00:00:00.000000000",
          "2025-07-01T00:00:00.000000000",
          "2025-07-02T00:00:00.000000000",
          "2025-07-03T00:00:00.000000000",
          "2025-07-04T00:00:00.000000000",
          "2025-07-05T00:00:00.000000000",
          "2025-07-06T00:00:00.000000000",
          "2025-07-07T00:00:00.000000000",
          "2025-07-08T00:00:00.000000000",
          "2025-07-09T00:00:00.000000000",
          "2025-07-10T00:00:00.000000000",
          "2025-07-11T00:00:00.000000000",
          "2025-07-12T00:00:00.000000000",
          "2025-07-13T00:00:00.000000000",
          "2025-07-14T00:00:00.000000000",
          "2025-07-15T00:00:00.000000000",
          "2025-07-16T00:00:00.000000000",
          "2025-07-17T00:00:00.000000000"
         ],
         "xaxis": "x",
         "y": {
          "bdata": "okW28/1UIEBxPQrXo3AgQHE9CtejcCBAcT0K16NwIEDufD81XnogQBBYObTItiBAokW28/2UIEA/NV66SUwgQDeJQWDlUCBAN4lBYOVQIEA3iUFg5VAgQKRwPQrXYyBAbxKDwMphIECPwvUoXE8gQD0K16NwfSBA9ihcj8J1IED2KFyPwnUgQPYoXI/CdSBAppvEILByIEA730+Nl24gQOf7qfHSTSBAEoPAyqHFH0CkcD0K16MfQKRwPQrXox9ApHA9CtejH0CYbhKDwMofQNEi2/l+6h9AGy/dJAYBIEA=",
          "dtype": "f8"
         },
         "yaxis": "y"
        },
        {
         "hovertemplate": "Ticker=PETROBRAS<br>Reference Date=%{x}<br>Participation=%{y}<extra></extra>",
         "legendgroup": "PETROBRAS",
         "line": {
          "color": "#ab63fa",
          "dash": "solid"
         },
         "marker": {
          "symbol": "circle"
         },
         "mode": "lines",
         "name": "PETROBRAS",
         "orientation": "v",
         "showlegend": true,
         "type": "scatter",
         "x": [
          "2025-06-20T00:00:00.000000000",
          "2025-06-21T00:00:00.000000000",
          "2025-06-22T00:00:00.000000000",
          "2025-06-23T00:00:00.000000000",
          "2025-06-24T00:00:00.000000000",
          "2025-06-25T00:00:00.000000000",
          "2025-06-26T00:00:00.000000000",
          "2025-06-27T00:00:00.000000000",
          "2025-06-28T00:00:00.000000000",
          "2025-06-29T00:00:00.000000000",
          "2025-06-30T00:00:00.000000000",
          "2025-07-01T00:00:00.000000000",
          "2025-07-02T00:00:00.000000000",
          "2025-07-03T00:00:00.000000000",
          "2025-07-04T00:00:00.000000000",
          "2025-07-05T00:00:00.000000000",
          "2025-07-06T00:00:00.000000000",
          "2025-07-07T00:00:00.000000000",
          "2025-07-08T00:00:00.000000000",
          "2025-07-09T00:00:00.000000000",
          "2025-07-10T00:00:00.000000000",
          "2025-07-11T00:00:00.000000000",
          "2025-07-12T00:00:00.000000000",
          "2025-07-13T00:00:00.000000000",
          "2025-07-14T00:00:00.000000000",
          "2025-07-15T00:00:00.000000000",
          "2025-07-16T00:00:00.000000000",
          "2025-07-17T00:00:00.000000000"
         ],
         "xaxis": "x",
         "y": {
          "bdata": "j8L1KFwPG0ACK4cW2U4bQAIrhxbZThtAAiuHFtlOG0BYObTIdr4aQJqZmZmZGRpAI9v5fmo8GkDjpZvEIDAaQPCnxks3CRpA8KfGSzcJGkDwp8ZLNwkaQG3n+6nx0hlAYhBYObTIGUDXo3A9ClcaQBSuR+F6FBpAlkOLbOf7GUCWQ4ts5/sZQJZDi2zn+xlA+FPjpZtEGkCuR+F6FK4aQJHtfD813hpAi2zn+6nxGkDhehSuR2EbQOF6FK5HYRtA4XoUrkdhG0AZBFYOLTIbQOXQItv5/hpAHVpkO9/PGkA=",
          "dtype": "f8"
         },
         "yaxis": "y"
        },
        {
         "hovertemplate": "Ticker=VALE<br>Reference Date=%{x}<br>Participation=%{y}<extra></extra>",
         "legendgroup": "VALE",
         "line": {
          "color": "#FFA15A",
          "dash": "solid"
         },
         "marker": {
          "symbol": "circle"
         },
         "mode": "lines",
         "name": "VALE",
         "orientation": "v",
         "showlegend": true,
         "type": "scatter",
         "x": [
          "2025-06-20T00:00:00.000000000",
          "2025-06-21T00:00:00.000000000",
          "2025-06-22T00:00:00.000000000",
          "2025-06-23T00:00:00.000000000",
          "2025-06-24T00:00:00.000000000",
          "2025-06-25T00:00:00.000000000",
          "2025-06-26T00:00:00.000000000",
          "2025-06-27T00:00:00.000000000",
          "2025-06-28T00:00:00.000000000",
          "2025-06-29T00:00:00.000000000",
          "2025-06-30T00:00:00.000000000",
          "2025-07-01T00:00:00.000000000",
          "2025-07-02T00:00:00.000000000",
          "2025-07-03T00:00:00.000000000",
          "2025-07-04T00:00:00.000000000",
          "2025-07-05T00:00:00.000000000",
          "2025-07-06T00:00:00.000000000",
          "2025-07-07T00:00:00.000000000",
          "2025-07-08T00:00:00.000000000",
          "2025-07-09T00:00:00.000000000",
          "2025-07-10T00:00:00.000000000",
          "2025-07-11T00:00:00.000000000",
          "2025-07-12T00:00:00.000000000",
          "2025-07-13T00:00:00.000000000",
          "2025-07-14T00:00:00.000000000",
          "2025-07-15T00:00:00.000000000",
          "2025-07-16T00:00:00.000000000",
          "2025-07-17T00:00:00.000000000"
         ],
         "xaxis": "x",
         "y": {
          "bdata": "2c73U+NlJEDP91PjpRskQM/3U+OlGyRAz/dT46UbJEBOYhBYOXQkQM/3U+OlWyRAJQaBlUOLJEDb+X5qvPQkQIGVQ4tsZyVAgZVDi2xnJUCBlUOLbGclQGDl0CLb+SRAgZVDi2wnJUCNl24SgwAmQM/3U+OlmyVAH4XrUbieJUAfhetRuJ4lQB+F61G4niVAbef7qfGSJUAhsHJoka0lQHNoke18vyVABFYOLbJdJkAAAAAAAMAmQAAAAAAAwCZAAAAAAADAJkAX2c73U6MmQOf7qfHSDSZA9ihcj8I1JkA=",
          "dtype": "f8"
         },
         "yaxis": "y"
        }
       ],
       "layout": {
        "legend": {
         "title": {
          "text": "Ticker"
         },
         "tracegroupgap": 0
        },
        "template": {
         "data": {
          "bar": [
           {
            "error_x": {
             "color": "#2a3f5f"
            },
            "error_y": {
             "color": "#2a3f5f"
            },
            "marker": {
             "line": {
              "color": "#E5ECF6",
              "width": 0.5
             },
             "pattern": {
              "fillmode": "overlay",
              "size": 10,
              "solidity": 0.2
             }
            },
            "type": "bar"
           }
          ],
          "barpolar": [
           {
            "marker": {
             "line": {
              "color": "#E5ECF6",
              "width": 0.5
             },
             "pattern": {
              "fillmode": "overlay",
              "size": 10,
              "solidity": 0.2
             }
            },
            "type": "barpolar"
           }
          ],
          "carpet": [
           {
            "aaxis": {
             "endlinecolor": "#2a3f5f",
             "gridcolor": "white",
             "linecolor": "white",
             "minorgridcolor": "white",
             "startlinecolor": "#2a3f5f"
            },
            "baxis": {
             "endlinecolor": "#2a3f5f",
             "gridcolor": "white",
             "linecolor": "white",
             "minorgridcolor": "white",
             "startlinecolor": "#2a3f5f"
            },
            "type": "carpet"
           }
          ],
          "choropleth": [
           {
            "colorbar": {
             "outlinewidth": 0,
             "ticks": ""
            },
            "type": "choropleth"
           }
          ],
          "contour": [
           {
            "colorbar": {
             "outlinewidth": 0,
             "ticks": ""
            },
            "colorscale": [
             [
              0,
              "#0d0887"
             ],
             [
              0.1111111111111111,
              "#46039f"
             ],
             [
              0.2222222222222222,
              "#7201a8"
             ],
             [
              0.3333333333333333,
              "#9c179e"
             ],
             [
              0.4444444444444444,
              "#bd3786"
             ],
             [
              0.5555555555555556,
              "#d8576b"
             ],
             [
              0.6666666666666666,
              "#ed7953"
             ],
             [
              0.7777777777777778,
              "#fb9f3a"
             ],
             [
              0.8888888888888888,
              "#fdca26"
             ],
             [
              1,
              "#f0f921"
             ]
            ],
            "type": "contour"
           }
          ],
          "contourcarpet": [
           {
            "colorbar": {
             "outlinewidth": 0,
             "ticks": ""
            },
            "type": "contourcarpet"
           }
          ],
          "heatmap": [
           {
            "colorbar": {
             "outlinewidth": 0,
             "ticks": ""
            },
            "colorscale": [
             [
              0,
              "#0d0887"
             ],
             [
              0.1111111111111111,
              "#46039f"
             ],
             [
              0.2222222222222222,
              "#7201a8"
             ],
             [
              0.3333333333333333,
              "#9c179e"
             ],
             [
              0.4444444444444444,
              "#bd3786"
             ],
             [
              0.5555555555555556,
              "#d8576b"
             ],
             [
              0.6666666666666666,
              "#ed7953"
             ],
             [
              0.7777777777777778,
              "#fb9f3a"
             ],
             [
              0.8888888888888888,
              "#fdca26"
             ],
             [
              1,
              "#f0f921"
             ]
            ],
            "type": "heatmap"
           }
          ],
          "histogram": [
           {
            "marker": {
             "pattern": {
              "fillmode": "overlay",
              "size": 10,
              "solidity": 0.2
             }
            },
            "type": "histogram"
           }
          ],
          "histogram2d": [
           {
            "colorbar": {
             "outlinewidth": 0,
             "ticks": ""
            },
            "colorscale": [
             [
              0,
              "#0d0887"
             ],
             [
              0.1111111111111111,
              "#46039f"
             ],
             [
              0.2222222222222222,
              "#7201a8"
             ],
             [
              0.3333333333333333,
              "#9c179e"
             ],
             [
              0.4444444444444444,
              "#bd3786"
             ],
             [
              0.5555555555555556,
              "#d8576b"
             ],
             [
              0.6666666666666666,
              "#ed7953"
             ],
             [
              0.7777777777777778,
              "#fb9f3a"
             ],
             [
              0.8888888888888888,
              "#fdca26"
             ],
             [
              1,
              "#f0f921"
             ]
            ],
            "type": "histogram2d"
           }
          ],
          "histogram2dcontour": [
           {
            "colorbar": {
             "outlinewidth": 0,
             "ticks": ""
            },
            "colorscale": [
             [
              0,
              "#0d0887"
             ],
             [
              0.1111111111111111,
              "#46039f"
             ],
             [
              0.2222222222222222,
              "#7201a8"
             ],
             [
              0.3333333333333333,
              "#9c179e"
             ],
             [
              0.4444444444444444,
              "#bd3786"
             ],
             [
              0.5555555555555556,
              "#d8576b"
             ],
             [
              0.6666666666666666,
              "#ed7953"
             ],
             [
              0.7777777777777778,
              "#fb9f3a"
             ],
             [
              0.8888888888888888,
              "#fdca26"
             ],
             [
              1,
              "#f0f921"
             ]
            ],
            "type": "histogram2dcontour"
           }
          ],
          "mesh3d": [
           {
            "colorbar": {
             "outlinewidth": 0,
             "ticks": ""
            },
            "type": "mesh3d"
           }
          ],
          "parcoords": [
           {
            "line": {
             "colorbar": {
              "outlinewidth": 0,
              "ticks": ""
             }
            },
            "type": "parcoords"
           }
          ],
          "pie": [
           {
            "automargin": true,
            "type": "pie"
           }
          ],
          "scatter": [
           {
            "fillpattern": {
             "fillmode": "overlay",
             "size": 10,
             "solidity": 0.2
            },
            "type": "scatter"
           }
          ],
          "scatter3d": [
           {
            "line": {
             "colorbar": {
              "outlinewidth": 0,
              "ticks": ""
             }
            },
            "marker": {
             "colorbar": {
              "outlinewidth": 0,
              "ticks": ""
             }
            },
            "type": "scatter3d"
           }
          ],
          "scattercarpet": [
           {
            "marker": {
             "colorbar": {
              "outlinewidth": 0,
              "ticks": ""
             }
            },
            "type": "scattercarpet"
           }
          ],
          "scattergeo": [
           {
            "marker": {
             "colorbar": {
              "outlinewidth": 0,
              "ticks": ""
             }
            },
            "type": "scattergeo"
           }
          ],
          "scattergl": [
           {
            "marker": {
             "colorbar": {
              "outlinewidth": 0,
              "ticks": ""
             }
            },
            "type": "scattergl"
           }
          ],
          "scattermap": [
           {
            "marker": {
             "colorbar": {
              "outlinewidth": 0,
              "ticks": ""
             }
            },
            "type": "scattermap"
           }
          ],
          "scattermapbox": [
           {
            "marker": {
             "colorbar": {
              "outlinewidth": 0,
              "ticks": ""
             }
            },
            "type": "scattermapbox"
           }
          ],
          "scatterpolar": [
           {
            "marker": {
             "colorbar": {
              "outlinewidth": 0,
              "ticks": ""
             }
            },
            "type": "scatterpolar"
           }
          ],
          "scatterpolargl": [
           {
            "marker": {
             "colorbar": {
              "outlinewidth": 0,
              "ticks": ""
             }
            },
            "type": "scatterpolargl"
           }
          ],
          "scatterternary": [
           {
            "marker": {
             "colorbar": {
              "outlinewidth": 0,
              "ticks": ""
             }
            },
            "type": "scatterternary"
           }
          ],
          "surface": [
           {
            "colorbar": {
             "outlinewidth": 0,
             "ticks": ""
            },
            "colorscale": [
             [
              0,
              "#0d0887"
             ],
             [
              0.1111111111111111,
              "#46039f"
             ],
             [
              0.2222222222222222,
              "#7201a8"
             ],
             [
              0.3333333333333333,
              "#9c179e"
             ],
             [
              0.4444444444444444,
              "#bd3786"
             ],
             [
              0.5555555555555556,
              "#d8576b"
             ],
             [
              0.6666666666666666,
              "#ed7953"
             ],
             [
              0.7777777777777778,
              "#fb9f3a"
             ],
             [
              0.8888888888888888,
              "#fdca26"
             ],
             [
              1,
              "#f0f921"
             ]
            ],
            "type": "surface"
           }
          ],
          "table": [
           {
            "cells": {
             "fill": {
              "color": "#EBF0F8"
             },
             "line": {
              "color": "white"
             }
            },
            "header": {
             "fill": {
              "color": "#C8D4E3"
             },
             "line": {
              "color": "white"
             }
            },
            "type": "table"
           }
          ]
         },
         "layout": {
          "annotationdefaults": {
           "arrowcolor": "#2a3f5f",
           "arrowhead": 0,
           "arrowwidth": 1
          },
          "autotypenumbers": "strict",
          "coloraxis": {
           "colorbar": {
            "outlinewidth": 0,
            "ticks": ""
           }
          },
          "colorscale": {
           "diverging": [
            [
             0,
             "#8e0152"
            ],
            [
             0.1,
             "#c51b7d"
            ],
            [
             0.2,
             "#de77ae"
            ],
            [
             0.3,
             "#f1b6da"
            ],
            [
             0.4,
             "#fde0ef"
            ],
            [
             0.5,
             "#f7f7f7"
            ],
            [
             0.6,
             "#e6f5d0"
            ],
            [
             0.7,
             "#b8e186"
            ],
            [
             0.8,
             "#7fbc41"
            ],
            [
             0.9,
             "#4d9221"
            ],
            [
             1,
             "#276419"
            ]
           ],
           "sequential": [
            [
             0,
             "#0d0887"
            ],
            [
             0.1111111111111111,
             "#46039f"
            ],
            [
             0.2222222222222222,
             "#7201a8"
            ],
            [
             0.3333333333333333,
             "#9c179e"
            ],
            [
             0.4444444444444444,
             "#bd3786"
            ],
            [
             0.5555555555555556,
             "#d8576b"
            ],
            [
             0.6666666666666666,
             "#ed7953"
            ],
            [
             0.7777777777777778,
             "#fb9f3a"
            ],
            [
             0.8888888888888888,
             "#fdca26"
            ],
            [
             1,
             "#f0f921"
            ]
           ],
           "sequentialminus": [
            [
             0,
             "#0d0887"
            ],
            [
             0.1111111111111111,
             "#46039f"
            ],
            [
             0.2222222222222222,
             "#7201a8"
            ],
            [
             0.3333333333333333,
             "#9c179e"
            ],
            [
             0.4444444444444444,
             "#bd3786"
            ],
            [
             0.5555555555555556,
             "#d8576b"
            ],
            [
             0.6666666666666666,
             "#ed7953"
            ],
            [
             0.7777777777777778,
             "#fb9f3a"
            ],
            [
             0.8888888888888888,
             "#fdca26"
            ],
            [
             1,
             "#f0f921"
            ]
           ]
          },
          "colorway": [
           "#636efa",
           "#EF553B",
           "#00cc96",
           "#ab63fa",
           "#FFA15A",
           "#19d3f3",
           "#FF6692",
           "#B6E880",
           "#FF97FF",
           "#FECB52"
          ],
          "font": {
           "color": "#2a3f5f"
          },
          "geo": {
           "bgcolor": "white",
           "lakecolor": "white",
           "landcolor": "#E5ECF6",
           "showlakes": true,
           "showland": true,
           "subunitcolor": "white"
          },
          "hoverlabel": {
           "align": "left"
          },
          "hovermode": "closest",
          "mapbox": {
           "style": "light"
          },
          "paper_bgcolor": "white",
          "plot_bgcolor": "#E5ECF6",
          "polar": {
           "angularaxis": {
            "gridcolor": "white",
            "linecolor": "white",
            "ticks": ""
           },
           "bgcolor": "#E5ECF6",
           "radialaxis": {
            "gridcolor": "white",
            "linecolor": "white",
            "ticks": ""
           }
          },
          "scene": {
           "xaxis": {
            "backgroundcolor": "#E5ECF6",
            "gridcolor": "white",
            "gridwidth": 2,
            "linecolor": "white",
            "showbackground": true,
            "ticks": "",
            "zerolinecolor": "white"
           },
           "yaxis": {
            "backgroundcolor": "#E5ECF6",
            "gridcolor": "white",
            "gridwidth": 2,
            "linecolor": "white",
            "showbackground": true,
            "ticks": "",
            "zerolinecolor": "white"
           },
           "zaxis": {
            "backgroundcolor": "#E5ECF6",
            "gridcolor": "white",
            "gridwidth": 2,
            "linecolor": "white",
            "showbackground": true,
            "ticks": "",
            "zerolinecolor": "white"
           }
          },
          "shapedefaults": {
           "line": {
            "color": "#2a3f5f"
           }
          },
          "ternary": {
           "aaxis": {
            "gridcolor": "white",
            "linecolor": "white",
            "ticks": ""
           },
           "baxis": {
            "gridcolor": "white",
            "linecolor": "white",
            "ticks": ""
           },
           "bgcolor": "#E5ECF6",
           "caxis": {
            "gridcolor": "white",
            "linecolor": "white",
            "ticks": ""
           }
          },
          "title": {
           "x": 0.05
          },
          "xaxis": {
           "automargin": true,
           "gridcolor": "white",
           "linecolor": "white",
           "ticks": "",
           "title": {
            "standoff": 15
           },
           "zerolinecolor": "white",
           "zerolinewidth": 2
          },
          "yaxis": {
           "automargin": true,
           "gridcolor": "white",
           "linecolor": "white",
           "ticks": "",
           "title": {
            "standoff": 15
           },
           "zerolinecolor": "white",
           "zerolinewidth": 2
          }
         }
        },
        "title": {
         "text": "Temporal Evolution of Participation by Ticker"
        },
        "xaxis": {
         "anchor": "y",
         "domain": [
          0,
          1
         ],
         "title": {
          "text": "Date"
         }
        },
        "yaxis": {
         "anchor": "x",
         "domain": [
          0,
          1
         ],
         "title": {
          "text": "Participation (%)"
         }
        }
       }
      }
     },
     "metadata": {},
     "output_type": "display_data"
    }
   ],
   "source": [
    "# Line chart: Temporal Evolution of Participation\n",
    "fig = px.line(\n",
    "    df,\n",
    "    x='reference_date',\n",
    "    y='part',\n",
    "    color='ticker',\n",
    "    title='Temporal Evolution of Participation by Ticker',\n",
    "    labels={'reference_date': 'Reference Date', 'part': 'Participation', 'ticker': 'Ticker'}\n",
    ")\n",
    "fig.update_layout(xaxis_title='Date', yaxis_title='Participation (%)')\n",
    "fig.show() "
   ]
  },
  {
   "cell_type": "code",
   "execution_count": 10,
   "id": "d2ec7f31",
   "metadata": {
    "ExecuteTime": {
     "end_time": "2025-07-14T21:54:11.443148Z",
     "start_time": "2025-07-14T21:54:11.410983Z"
    }
   },
   "outputs": [
    {
     "name": "stdout",
     "output_type": "stream",
     "text": [
      "\n",
      "--- Dashboard: Time series with statistical bands ---\n"
     ]
    }
   ],
   "source": [
    "# --- DASHBOARD: Time series with statistical bands ---\n",
    "print(\"\\n--- Dashboard: Time series with statistical bands ---\")"
   ]
  },
  {
   "cell_type": "code",
   "execution_count": 11,
   "id": "b0a7e351",
   "metadata": {
    "ExecuteTime": {
     "end_time": "2025-07-14T21:54:14.676527Z",
     "start_time": "2025-07-14T21:54:11.755866Z"
    }
   },
   "outputs": [],
   "source": [
    "# Query for means and standard deviations\n",
    "band_query = f'''\n",
    "SELECT code, reference_date, ticker, mean_part_7_days, std_part_7_days\n",
    "FROM {TABLE}\n",
    "WHERE reference_date IS NOT NULL AND mean_part_7_days IS NOT NULL AND std_part_7_days IS NOT NULL AND ticker IS NOT NULL\n",
    "AND code IN ('ITUB4', 'BPAC11', 'PETR4', 'VALE3', 'BBAS3')\n",
    "ORDER BY reference_date, ticker\n",
    "'''\n",
    "\n",
    "band_df = pd.read_sql(band_query, conn)"
   ]
  },
  {
   "cell_type": "code",
   "execution_count": 12,
   "id": "4a1326e3",
   "metadata": {
    "ExecuteTime": {
     "end_time": "2025-07-14T21:54:14.722708Z",
     "start_time": "2025-07-14T21:54:14.706573Z"
    }
   },
   "outputs": [],
   "source": [
    "# Converte reference_date para datetime\n",
    "if not pd.api.types.is_datetime64_any_dtype(band_df['reference_date']):\n",
    "    band_df['reference_date'] = pd.to_datetime(band_df['reference_date'])"
   ]
  },
  {
   "cell_type": "code",
   "execution_count": 13,
   "id": "b377ac8f",
   "metadata": {
    "ExecuteTime": {
     "end_time": "2025-07-14T21:54:15.227016Z",
     "start_time": "2025-07-14T21:54:15.205737Z"
    }
   },
   "outputs": [],
   "source": [
    "# Calculate upper and lower limits\n",
    "band_df['upper'] = band_df['mean_part_7_days'] + band_df['std_part_7_days']\n",
    "band_df['lower'] = band_df['mean_part_7_days'] - band_df['std_part_7_days']"
   ]
  },
  {
   "cell_type": "code",
   "execution_count": 14,
   "id": "6ea53087",
   "metadata": {
    "ExecuteTime": {
     "end_time": "2025-07-14T21:54:15.812238Z",
     "start_time": "2025-07-14T21:54:15.571391Z"
    }
   },
   "outputs": [
    {
     "data": {
      "application/vnd.plotly.v1+json": {
       "config": {
        "plotlyServerURL": "https://plot.ly"
       },
       "data": [
        {
         "fill": "toself",
         "fillcolor": "rgba(0,100,80,0.2)",
         "hoverinfo": "skip",
         "line": {
          "color": "rgba(255,255,255,0)"
         },
         "name": "Confidence Interval",
         "showlegend": false,
         "type": "scatter",
         "x": [
          "2025-06-21T00:00:00.000000000",
          "2025-06-22T00:00:00.000000000",
          "2025-06-23T00:00:00.000000000",
          "2025-06-24T00:00:00.000000000",
          "2025-06-25T00:00:00.000000000",
          "2025-06-26T00:00:00.000000000",
          "2025-06-27T00:00:00.000000000",
          "2025-06-28T00:00:00.000000000",
          "2025-06-29T00:00:00.000000000",
          "2025-06-30T00:00:00.000000000",
          "2025-07-01T00:00:00.000000000",
          "2025-07-02T00:00:00.000000000",
          "2025-07-03T00:00:00.000000000",
          "2025-07-04T00:00:00.000000000",
          "2025-07-05T00:00:00.000000000",
          "2025-07-06T00:00:00.000000000",
          "2025-07-07T00:00:00.000000000",
          "2025-07-08T00:00:00.000000000",
          "2025-07-09T00:00:00.000000000",
          "2025-07-10T00:00:00.000000000",
          "2025-07-11T00:00:00.000000000",
          "2025-07-12T00:00:00.000000000",
          "2025-07-13T00:00:00.000000000",
          "2025-07-14T00:00:00.000000000",
          "2025-07-15T00:00:00.000000000",
          "2025-07-16T00:00:00.000000000",
          "2025-07-17T00:00:00.000000000",
          "2025-07-17T00:00:00.000000000",
          "2025-07-16T00:00:00.000000000",
          "2025-07-15T00:00:00.000000000",
          "2025-07-14T00:00:00.000000000",
          "2025-07-13T00:00:00.000000000",
          "2025-07-12T00:00:00.000000000",
          "2025-07-11T00:00:00.000000000",
          "2025-07-10T00:00:00.000000000",
          "2025-07-09T00:00:00.000000000",
          "2025-07-08T00:00:00.000000000",
          "2025-07-07T00:00:00.000000000",
          "2025-07-06T00:00:00.000000000",
          "2025-07-05T00:00:00.000000000",
          "2025-07-04T00:00:00.000000000",
          "2025-07-03T00:00:00.000000000",
          "2025-07-02T00:00:00.000000000",
          "2025-07-01T00:00:00.000000000",
          "2025-06-30T00:00:00.000000000",
          "2025-06-29T00:00:00.000000000",
          "2025-06-28T00:00:00.000000000",
          "2025-06-27T00:00:00.000000000",
          "2025-06-26T00:00:00.000000000",
          "2025-06-25T00:00:00.000000000",
          "2025-06-24T00:00:00.000000000",
          "2025-06-23T00:00:00.000000000",
          "2025-06-22T00:00:00.000000000",
          "2025-06-21T00:00:00.000000000"
         ],
         "y": {
          "bdata": "xi0Jyh8oB0BD0mewuxcHQAErhxbZDgdAyZeysgMLB0C10DNNUAwHQPQB5HN/DwdAZPVDLAMWB0Bhe6+IBTgHQCVH2/d9UAdAikjk8vZiB0DJJR0ABWwHQPmzgewdagdAd/Bo0YJpB0C75V/Qr2oHQLIRvr+YbAdAKI1ifmxuB0A3UnqgLHAHQCIvborraAdA2lZ2W+JjB0C3wqneam8HQBUzQseqcQdAJ0Lq+AlkB0D1v8YbHU8HQF/iwR0zMgdArbP7OIgbB0Ba1VEuPPYGQIZoutqX5wZAFqu8oPajBkBAB1n6YqoGQK3IyR70qQZAzedlSqHMBkC1+j/fVdYGQP9o+5QH6AZAj2iCWQUBB0AZ8ph1NSUHQLR3xAmQRwdA2NUeUJQ4B0BXfMDERTsHQLzVJ7euOgdAiOUbRis6B0DVpckFvTkHQIPREnr3MAdAw5WKFQ0dB0BbWkF3MxEHQAjcZJ8t5gZARcTvZrbWBkDfdp2iPs0GQLLjistQzQZAzv+JJCbPBkC7s/4sC8oGQDmT1GPVwwZAZTvfT43XBkATPMUB4tcGQG4wsX/s2QZA",
          "dtype": "f8"
         }
        },
        {
         "line": {
          "color": "rgb(0,100,80)"
         },
         "name": "7-day Mean (BRASIL)",
         "type": "scatter",
         "x": [
          "2025-06-21T00:00:00.000000000",
          "2025-06-22T00:00:00.000000000",
          "2025-06-23T00:00:00.000000000",
          "2025-06-24T00:00:00.000000000",
          "2025-06-25T00:00:00.000000000",
          "2025-06-26T00:00:00.000000000",
          "2025-06-27T00:00:00.000000000",
          "2025-06-28T00:00:00.000000000",
          "2025-06-29T00:00:00.000000000",
          "2025-06-30T00:00:00.000000000",
          "2025-07-01T00:00:00.000000000",
          "2025-07-02T00:00:00.000000000",
          "2025-07-03T00:00:00.000000000",
          "2025-07-04T00:00:00.000000000",
          "2025-07-05T00:00:00.000000000",
          "2025-07-06T00:00:00.000000000",
          "2025-07-07T00:00:00.000000000",
          "2025-07-08T00:00:00.000000000",
          "2025-07-09T00:00:00.000000000",
          "2025-07-10T00:00:00.000000000",
          "2025-07-11T00:00:00.000000000",
          "2025-07-12T00:00:00.000000000",
          "2025-07-13T00:00:00.000000000",
          "2025-07-14T00:00:00.000000000",
          "2025-07-15T00:00:00.000000000",
          "2025-07-16T00:00:00.000000000",
          "2025-07-17T00:00:00.000000000"
         ],
         "y": {
          "bdata": "Gi/dJAYBB0ArhxbZzvcGQDMzMzMz8wZAgZVDi2znBkA4Qhm9LesGQOEAN8xS7wZAi2zn+6nxBkAgeaYVogIHQLWFZS+aEwdASZIkSZIkB0ASQK87nD4HQN4kBoGVQwdA/eC9JT1NB0DIxRRrNlIHQJ377AJiUwdAcjHFmo1UB0BHZ50yuVUHQH2CRu2/UAdAR2edMrlVB0BoWiEqUEoHQNJNYhBYOQdAk9XyxggmB0BVXYN9uRIHQBblEzRq/wZALb7iK77iBkBNblWUT9AGQM6Juz3HxQZA",
          "dtype": "f8"
         }
        }
       ],
       "layout": {
        "legend": {
         "title": {
          "text": "Legend"
         }
        },
        "template": {
         "data": {
          "bar": [
           {
            "error_x": {
             "color": "#2a3f5f"
            },
            "error_y": {
             "color": "#2a3f5f"
            },
            "marker": {
             "line": {
              "color": "#E5ECF6",
              "width": 0.5
             },
             "pattern": {
              "fillmode": "overlay",
              "size": 10,
              "solidity": 0.2
             }
            },
            "type": "bar"
           }
          ],
          "barpolar": [
           {
            "marker": {
             "line": {
              "color": "#E5ECF6",
              "width": 0.5
             },
             "pattern": {
              "fillmode": "overlay",
              "size": 10,
              "solidity": 0.2
             }
            },
            "type": "barpolar"
           }
          ],
          "carpet": [
           {
            "aaxis": {
             "endlinecolor": "#2a3f5f",
             "gridcolor": "white",
             "linecolor": "white",
             "minorgridcolor": "white",
             "startlinecolor": "#2a3f5f"
            },
            "baxis": {
             "endlinecolor": "#2a3f5f",
             "gridcolor": "white",
             "linecolor": "white",
             "minorgridcolor": "white",
             "startlinecolor": "#2a3f5f"
            },
            "type": "carpet"
           }
          ],
          "choropleth": [
           {
            "colorbar": {
             "outlinewidth": 0,
             "ticks": ""
            },
            "type": "choropleth"
           }
          ],
          "contour": [
           {
            "colorbar": {
             "outlinewidth": 0,
             "ticks": ""
            },
            "colorscale": [
             [
              0,
              "#0d0887"
             ],
             [
              0.1111111111111111,
              "#46039f"
             ],
             [
              0.2222222222222222,
              "#7201a8"
             ],
             [
              0.3333333333333333,
              "#9c179e"
             ],
             [
              0.4444444444444444,
              "#bd3786"
             ],
             [
              0.5555555555555556,
              "#d8576b"
             ],
             [
              0.6666666666666666,
              "#ed7953"
             ],
             [
              0.7777777777777778,
              "#fb9f3a"
             ],
             [
              0.8888888888888888,
              "#fdca26"
             ],
             [
              1,
              "#f0f921"
             ]
            ],
            "type": "contour"
           }
          ],
          "contourcarpet": [
           {
            "colorbar": {
             "outlinewidth": 0,
             "ticks": ""
            },
            "type": "contourcarpet"
           }
          ],
          "heatmap": [
           {
            "colorbar": {
             "outlinewidth": 0,
             "ticks": ""
            },
            "colorscale": [
             [
              0,
              "#0d0887"
             ],
             [
              0.1111111111111111,
              "#46039f"
             ],
             [
              0.2222222222222222,
              "#7201a8"
             ],
             [
              0.3333333333333333,
              "#9c179e"
             ],
             [
              0.4444444444444444,
              "#bd3786"
             ],
             [
              0.5555555555555556,
              "#d8576b"
             ],
             [
              0.6666666666666666,
              "#ed7953"
             ],
             [
              0.7777777777777778,
              "#fb9f3a"
             ],
             [
              0.8888888888888888,
              "#fdca26"
             ],
             [
              1,
              "#f0f921"
             ]
            ],
            "type": "heatmap"
           }
          ],
          "histogram": [
           {
            "marker": {
             "pattern": {
              "fillmode": "overlay",
              "size": 10,
              "solidity": 0.2
             }
            },
            "type": "histogram"
           }
          ],
          "histogram2d": [
           {
            "colorbar": {
             "outlinewidth": 0,
             "ticks": ""
            },
            "colorscale": [
             [
              0,
              "#0d0887"
             ],
             [
              0.1111111111111111,
              "#46039f"
             ],
             [
              0.2222222222222222,
              "#7201a8"
             ],
             [
              0.3333333333333333,
              "#9c179e"
             ],
             [
              0.4444444444444444,
              "#bd3786"
             ],
             [
              0.5555555555555556,
              "#d8576b"
             ],
             [
              0.6666666666666666,
              "#ed7953"
             ],
             [
              0.7777777777777778,
              "#fb9f3a"
             ],
             [
              0.8888888888888888,
              "#fdca26"
             ],
             [
              1,
              "#f0f921"
             ]
            ],
            "type": "histogram2d"
           }
          ],
          "histogram2dcontour": [
           {
            "colorbar": {
             "outlinewidth": 0,
             "ticks": ""
            },
            "colorscale": [
             [
              0,
              "#0d0887"
             ],
             [
              0.1111111111111111,
              "#46039f"
             ],
             [
              0.2222222222222222,
              "#7201a8"
             ],
             [
              0.3333333333333333,
              "#9c179e"
             ],
             [
              0.4444444444444444,
              "#bd3786"
             ],
             [
              0.5555555555555556,
              "#d8576b"
             ],
             [
              0.6666666666666666,
              "#ed7953"
             ],
             [
              0.7777777777777778,
              "#fb9f3a"
             ],
             [
              0.8888888888888888,
              "#fdca26"
             ],
             [
              1,
              "#f0f921"
             ]
            ],
            "type": "histogram2dcontour"
           }
          ],
          "mesh3d": [
           {
            "colorbar": {
             "outlinewidth": 0,
             "ticks": ""
            },
            "type": "mesh3d"
           }
          ],
          "parcoords": [
           {
            "line": {
             "colorbar": {
              "outlinewidth": 0,
              "ticks": ""
             }
            },
            "type": "parcoords"
           }
          ],
          "pie": [
           {
            "automargin": true,
            "type": "pie"
           }
          ],
          "scatter": [
           {
            "fillpattern": {
             "fillmode": "overlay",
             "size": 10,
             "solidity": 0.2
            },
            "type": "scatter"
           }
          ],
          "scatter3d": [
           {
            "line": {
             "colorbar": {
              "outlinewidth": 0,
              "ticks": ""
             }
            },
            "marker": {
             "colorbar": {
              "outlinewidth": 0,
              "ticks": ""
             }
            },
            "type": "scatter3d"
           }
          ],
          "scattercarpet": [
           {
            "marker": {
             "colorbar": {
              "outlinewidth": 0,
              "ticks": ""
             }
            },
            "type": "scattercarpet"
           }
          ],
          "scattergeo": [
           {
            "marker": {
             "colorbar": {
              "outlinewidth": 0,
              "ticks": ""
             }
            },
            "type": "scattergeo"
           }
          ],
          "scattergl": [
           {
            "marker": {
             "colorbar": {
              "outlinewidth": 0,
              "ticks": ""
             }
            },
            "type": "scattergl"
           }
          ],
          "scattermap": [
           {
            "marker": {
             "colorbar": {
              "outlinewidth": 0,
              "ticks": ""
             }
            },
            "type": "scattermap"
           }
          ],
          "scattermapbox": [
           {
            "marker": {
             "colorbar": {
              "outlinewidth": 0,
              "ticks": ""
             }
            },
            "type": "scattermapbox"
           }
          ],
          "scatterpolar": [
           {
            "marker": {
             "colorbar": {
              "outlinewidth": 0,
              "ticks": ""
             }
            },
            "type": "scatterpolar"
           }
          ],
          "scatterpolargl": [
           {
            "marker": {
             "colorbar": {
              "outlinewidth": 0,
              "ticks": ""
             }
            },
            "type": "scatterpolargl"
           }
          ],
          "scatterternary": [
           {
            "marker": {
             "colorbar": {
              "outlinewidth": 0,
              "ticks": ""
             }
            },
            "type": "scatterternary"
           }
          ],
          "surface": [
           {
            "colorbar": {
             "outlinewidth": 0,
             "ticks": ""
            },
            "colorscale": [
             [
              0,
              "#0d0887"
             ],
             [
              0.1111111111111111,
              "#46039f"
             ],
             [
              0.2222222222222222,
              "#7201a8"
             ],
             [
              0.3333333333333333,
              "#9c179e"
             ],
             [
              0.4444444444444444,
              "#bd3786"
             ],
             [
              0.5555555555555556,
              "#d8576b"
             ],
             [
              0.6666666666666666,
              "#ed7953"
             ],
             [
              0.7777777777777778,
              "#fb9f3a"
             ],
             [
              0.8888888888888888,
              "#fdca26"
             ],
             [
              1,
              "#f0f921"
             ]
            ],
            "type": "surface"
           }
          ],
          "table": [
           {
            "cells": {
             "fill": {
              "color": "#EBF0F8"
             },
             "line": {
              "color": "white"
             }
            },
            "header": {
             "fill": {
              "color": "#C8D4E3"
             },
             "line": {
              "color": "white"
             }
            },
            "type": "table"
           }
          ]
         },
         "layout": {
          "annotationdefaults": {
           "arrowcolor": "#2a3f5f",
           "arrowhead": 0,
           "arrowwidth": 1
          },
          "autotypenumbers": "strict",
          "coloraxis": {
           "colorbar": {
            "outlinewidth": 0,
            "ticks": ""
           }
          },
          "colorscale": {
           "diverging": [
            [
             0,
             "#8e0152"
            ],
            [
             0.1,
             "#c51b7d"
            ],
            [
             0.2,
             "#de77ae"
            ],
            [
             0.3,
             "#f1b6da"
            ],
            [
             0.4,
             "#fde0ef"
            ],
            [
             0.5,
             "#f7f7f7"
            ],
            [
             0.6,
             "#e6f5d0"
            ],
            [
             0.7,
             "#b8e186"
            ],
            [
             0.8,
             "#7fbc41"
            ],
            [
             0.9,
             "#4d9221"
            ],
            [
             1,
             "#276419"
            ]
           ],
           "sequential": [
            [
             0,
             "#0d0887"
            ],
            [
             0.1111111111111111,
             "#46039f"
            ],
            [
             0.2222222222222222,
             "#7201a8"
            ],
            [
             0.3333333333333333,
             "#9c179e"
            ],
            [
             0.4444444444444444,
             "#bd3786"
            ],
            [
             0.5555555555555556,
             "#d8576b"
            ],
            [
             0.6666666666666666,
             "#ed7953"
            ],
            [
             0.7777777777777778,
             "#fb9f3a"
            ],
            [
             0.8888888888888888,
             "#fdca26"
            ],
            [
             1,
             "#f0f921"
            ]
           ],
           "sequentialminus": [
            [
             0,
             "#0d0887"
            ],
            [
             0.1111111111111111,
             "#46039f"
            ],
            [
             0.2222222222222222,
             "#7201a8"
            ],
            [
             0.3333333333333333,
             "#9c179e"
            ],
            [
             0.4444444444444444,
             "#bd3786"
            ],
            [
             0.5555555555555556,
             "#d8576b"
            ],
            [
             0.6666666666666666,
             "#ed7953"
            ],
            [
             0.7777777777777778,
             "#fb9f3a"
            ],
            [
             0.8888888888888888,
             "#fdca26"
            ],
            [
             1,
             "#f0f921"
            ]
           ]
          },
          "colorway": [
           "#636efa",
           "#EF553B",
           "#00cc96",
           "#ab63fa",
           "#FFA15A",
           "#19d3f3",
           "#FF6692",
           "#B6E880",
           "#FF97FF",
           "#FECB52"
          ],
          "font": {
           "color": "#2a3f5f"
          },
          "geo": {
           "bgcolor": "white",
           "lakecolor": "white",
           "landcolor": "#E5ECF6",
           "showlakes": true,
           "showland": true,
           "subunitcolor": "white"
          },
          "hoverlabel": {
           "align": "left"
          },
          "hovermode": "closest",
          "mapbox": {
           "style": "light"
          },
          "paper_bgcolor": "white",
          "plot_bgcolor": "#E5ECF6",
          "polar": {
           "angularaxis": {
            "gridcolor": "white",
            "linecolor": "white",
            "ticks": ""
           },
           "bgcolor": "#E5ECF6",
           "radialaxis": {
            "gridcolor": "white",
            "linecolor": "white",
            "ticks": ""
           }
          },
          "scene": {
           "xaxis": {
            "backgroundcolor": "#E5ECF6",
            "gridcolor": "white",
            "gridwidth": 2,
            "linecolor": "white",
            "showbackground": true,
            "ticks": "",
            "zerolinecolor": "white"
           },
           "yaxis": {
            "backgroundcolor": "#E5ECF6",
            "gridcolor": "white",
            "gridwidth": 2,
            "linecolor": "white",
            "showbackground": true,
            "ticks": "",
            "zerolinecolor": "white"
           },
           "zaxis": {
            "backgroundcolor": "#E5ECF6",
            "gridcolor": "white",
            "gridwidth": 2,
            "linecolor": "white",
            "showbackground": true,
            "ticks": "",
            "zerolinecolor": "white"
           }
          },
          "shapedefaults": {
           "line": {
            "color": "#2a3f5f"
           }
          },
          "ternary": {
           "aaxis": {
            "gridcolor": "white",
            "linecolor": "white",
            "ticks": ""
           },
           "baxis": {
            "gridcolor": "white",
            "linecolor": "white",
            "ticks": ""
           },
           "bgcolor": "#E5ECF6",
           "caxis": {
            "gridcolor": "white",
            "linecolor": "white",
            "ticks": ""
           }
          },
          "title": {
           "x": 0.05
          },
          "xaxis": {
           "automargin": true,
           "gridcolor": "white",
           "linecolor": "white",
           "ticks": "",
           "title": {
            "standoff": 15
           },
           "zerolinecolor": "white",
           "zerolinewidth": 2
          },
          "yaxis": {
           "automargin": true,
           "gridcolor": "white",
           "linecolor": "white",
           "ticks": "",
           "title": {
            "standoff": 15
           },
           "zerolinecolor": "white",
           "zerolinewidth": 2
          }
         }
        },
        "title": {
         "text": "Time Series with Statistical Bands - BRASIL"
        },
        "xaxis": {
         "title": {
          "text": "Date"
         }
        },
        "yaxis": {
         "title": {
          "text": "Average Participation (7 days)"
         }
        }
       }
      }
     },
     "metadata": {},
     "output_type": "display_data"
    },
    {
     "data": {
      "application/vnd.plotly.v1+json": {
       "config": {
        "plotlyServerURL": "https://plot.ly"
       },
       "data": [
        {
         "fill": "toself",
         "fillcolor": "rgba(0,100,80,0.2)",
         "hoverinfo": "skip",
         "line": {
          "color": "rgba(255,255,255,0)"
         },
         "name": "Confidence Interval",
         "showlegend": false,
         "type": "scatter",
         "x": [
          "2025-06-21T00:00:00.000000000",
          "2025-06-22T00:00:00.000000000",
          "2025-06-23T00:00:00.000000000",
          "2025-06-24T00:00:00.000000000",
          "2025-06-25T00:00:00.000000000",
          "2025-06-26T00:00:00.000000000",
          "2025-06-27T00:00:00.000000000",
          "2025-06-28T00:00:00.000000000",
          "2025-06-29T00:00:00.000000000",
          "2025-06-30T00:00:00.000000000",
          "2025-07-01T00:00:00.000000000",
          "2025-07-02T00:00:00.000000000",
          "2025-07-03T00:00:00.000000000",
          "2025-07-04T00:00:00.000000000",
          "2025-07-05T00:00:00.000000000",
          "2025-07-06T00:00:00.000000000",
          "2025-07-07T00:00:00.000000000",
          "2025-07-08T00:00:00.000000000",
          "2025-07-09T00:00:00.000000000",
          "2025-07-10T00:00:00.000000000",
          "2025-07-11T00:00:00.000000000",
          "2025-07-12T00:00:00.000000000",
          "2025-07-13T00:00:00.000000000",
          "2025-07-14T00:00:00.000000000",
          "2025-07-15T00:00:00.000000000",
          "2025-07-16T00:00:00.000000000",
          "2025-07-17T00:00:00.000000000",
          "2025-07-17T00:00:00.000000000",
          "2025-07-16T00:00:00.000000000",
          "2025-07-15T00:00:00.000000000",
          "2025-07-14T00:00:00.000000000",
          "2025-07-13T00:00:00.000000000",
          "2025-07-12T00:00:00.000000000",
          "2025-07-11T00:00:00.000000000",
          "2025-07-10T00:00:00.000000000",
          "2025-07-09T00:00:00.000000000",
          "2025-07-08T00:00:00.000000000",
          "2025-07-07T00:00:00.000000000",
          "2025-07-06T00:00:00.000000000",
          "2025-07-05T00:00:00.000000000",
          "2025-07-04T00:00:00.000000000",
          "2025-07-03T00:00:00.000000000",
          "2025-07-02T00:00:00.000000000",
          "2025-07-01T00:00:00.000000000",
          "2025-06-30T00:00:00.000000000",
          "2025-06-29T00:00:00.000000000",
          "2025-06-28T00:00:00.000000000",
          "2025-06-27T00:00:00.000000000",
          "2025-06-26T00:00:00.000000000",
          "2025-06-25T00:00:00.000000000",
          "2025-06-24T00:00:00.000000000",
          "2025-06-23T00:00:00.000000000",
          "2025-06-22T00:00:00.000000000",
          "2025-06-21T00:00:00.000000000"
         ],
         "y": {
          "bdata": "N3U+6HFdBEBGsyYo3V8EQMdLN4lBYARAEl31ODpdBEDOq9c78X0EQPBqMD5olARAyLNXlr2XBEDJ2qVPsJcEQAgY8xiilwRAnfsv9pKXBEAdUFG5l5cEQBGevxQ2jgRA0S0+LGd8BECEcceCYG0EQKmJG+tFZgRARTQ+5/9cBED+DtIam1EEQE2XKJi+RQRAAbpW9P4fBEDykBfwMSEEQKKkHczhHARARHuEH7IaBECjN9o4bhgEQAPU7skUFgRAVrrxIpQRBEAIZdAhwAYEQBjt/L0NHARAPKdSEpvhA0DOB9TIWuUDQKz2txFQywNAU7Qbyn3LA0BJ18xWEcwDQDwav2u6zANAdHfCunfNA0DkHp6J7tEDQD9vwok00ANABdKfIRHpA0AUMd0gAe0DQAuE4J3r9ANA56Zy4/T+A0BMNzaVKQsEQD15UVN9HQRAJeuBS69CBEDF57FlqkIEQIXrDsXtQARABOo3bnRBBEAtQnED/EEEQBiEq4iEQgRAXjrxqNYmBEDUJy/+eyIEQHp+c8c0JARAH4XrUbgeBEAwJxp/MBQEQFt4PlfDAARA",
          "dtype": "f8"
         }
        },
        {
         "line": {
          "color": "rgb(0,100,80)"
         },
         "name": "7-day Mean (BTGP BANCO)",
         "type": "scatter",
         "x": [
          "2025-06-21T00:00:00.000000000",
          "2025-06-22T00:00:00.000000000",
          "2025-06-23T00:00:00.000000000",
          "2025-06-24T00:00:00.000000000",
          "2025-06-25T00:00:00.000000000",
          "2025-06-26T00:00:00.000000000",
          "2025-06-27T00:00:00.000000000",
          "2025-06-28T00:00:00.000000000",
          "2025-06-29T00:00:00.000000000",
          "2025-06-30T00:00:00.000000000",
          "2025-07-01T00:00:00.000000000",
          "2025-07-02T00:00:00.000000000",
          "2025-07-03T00:00:00.000000000",
          "2025-07-04T00:00:00.000000000",
          "2025-07-05T00:00:00.000000000",
          "2025-07-06T00:00:00.000000000",
          "2025-07-07T00:00:00.000000000",
          "2025-07-08T00:00:00.000000000",
          "2025-07-09T00:00:00.000000000",
          "2025-07-10T00:00:00.000000000",
          "2025-07-11T00:00:00.000000000",
          "2025-07-12T00:00:00.000000000",
          "2025-07-13T00:00:00.000000000",
          "2025-07-14T00:00:00.000000000",
          "2025-07-15T00:00:00.000000000",
          "2025-07-16T00:00:00.000000000",
          "2025-07-17T00:00:00.000000000"
         ],
         "y": {
          "bdata": "yXa+nxovBEA7baDTBjoEQHNoke18PwRAxm00gLdABEDRaQOdNlAEQKfSkHOfXQRA8JuBDyFtBEB7josp1mwEQAaBlUOLbARAkXOfXUBsBEDxm4EPIW0EQJvEILByaARAh9PHP/JMBEBo1P4LRTwEQEgYR2edMgRAKFyPwvUoBEAJoNcdTh8EQKk05NxnFwRAoJQMvxn4A0Dr19o8kPkDQAsOcMMs9QNAwMqhRbbzA0B2h9PHP/IDQCtEBUrJ8ANAgdhUGnLuA0BrNlJ1DfYDQCrKJ2jU/gNA",
          "dtype": "f8"
         }
        }
       ],
       "layout": {
        "legend": {
         "title": {
          "text": "Legend"
         }
        },
        "template": {
         "data": {
          "bar": [
           {
            "error_x": {
             "color": "#2a3f5f"
            },
            "error_y": {
             "color": "#2a3f5f"
            },
            "marker": {
             "line": {
              "color": "#E5ECF6",
              "width": 0.5
             },
             "pattern": {
              "fillmode": "overlay",
              "size": 10,
              "solidity": 0.2
             }
            },
            "type": "bar"
           }
          ],
          "barpolar": [
           {
            "marker": {
             "line": {
              "color": "#E5ECF6",
              "width": 0.5
             },
             "pattern": {
              "fillmode": "overlay",
              "size": 10,
              "solidity": 0.2
             }
            },
            "type": "barpolar"
           }
          ],
          "carpet": [
           {
            "aaxis": {
             "endlinecolor": "#2a3f5f",
             "gridcolor": "white",
             "linecolor": "white",
             "minorgridcolor": "white",
             "startlinecolor": "#2a3f5f"
            },
            "baxis": {
             "endlinecolor": "#2a3f5f",
             "gridcolor": "white",
             "linecolor": "white",
             "minorgridcolor": "white",
             "startlinecolor": "#2a3f5f"
            },
            "type": "carpet"
           }
          ],
          "choropleth": [
           {
            "colorbar": {
             "outlinewidth": 0,
             "ticks": ""
            },
            "type": "choropleth"
           }
          ],
          "contour": [
           {
            "colorbar": {
             "outlinewidth": 0,
             "ticks": ""
            },
            "colorscale": [
             [
              0,
              "#0d0887"
             ],
             [
              0.1111111111111111,
              "#46039f"
             ],
             [
              0.2222222222222222,
              "#7201a8"
             ],
             [
              0.3333333333333333,
              "#9c179e"
             ],
             [
              0.4444444444444444,
              "#bd3786"
             ],
             [
              0.5555555555555556,
              "#d8576b"
             ],
             [
              0.6666666666666666,
              "#ed7953"
             ],
             [
              0.7777777777777778,
              "#fb9f3a"
             ],
             [
              0.8888888888888888,
              "#fdca26"
             ],
             [
              1,
              "#f0f921"
             ]
            ],
            "type": "contour"
           }
          ],
          "contourcarpet": [
           {
            "colorbar": {
             "outlinewidth": 0,
             "ticks": ""
            },
            "type": "contourcarpet"
           }
          ],
          "heatmap": [
           {
            "colorbar": {
             "outlinewidth": 0,
             "ticks": ""
            },
            "colorscale": [
             [
              0,
              "#0d0887"
             ],
             [
              0.1111111111111111,
              "#46039f"
             ],
             [
              0.2222222222222222,
              "#7201a8"
             ],
             [
              0.3333333333333333,
              "#9c179e"
             ],
             [
              0.4444444444444444,
              "#bd3786"
             ],
             [
              0.5555555555555556,
              "#d8576b"
             ],
             [
              0.6666666666666666,
              "#ed7953"
             ],
             [
              0.7777777777777778,
              "#fb9f3a"
             ],
             [
              0.8888888888888888,
              "#fdca26"
             ],
             [
              1,
              "#f0f921"
             ]
            ],
            "type": "heatmap"
           }
          ],
          "histogram": [
           {
            "marker": {
             "pattern": {
              "fillmode": "overlay",
              "size": 10,
              "solidity": 0.2
             }
            },
            "type": "histogram"
           }
          ],
          "histogram2d": [
           {
            "colorbar": {
             "outlinewidth": 0,
             "ticks": ""
            },
            "colorscale": [
             [
              0,
              "#0d0887"
             ],
             [
              0.1111111111111111,
              "#46039f"
             ],
             [
              0.2222222222222222,
              "#7201a8"
             ],
             [
              0.3333333333333333,
              "#9c179e"
             ],
             [
              0.4444444444444444,
              "#bd3786"
             ],
             [
              0.5555555555555556,
              "#d8576b"
             ],
             [
              0.6666666666666666,
              "#ed7953"
             ],
             [
              0.7777777777777778,
              "#fb9f3a"
             ],
             [
              0.8888888888888888,
              "#fdca26"
             ],
             [
              1,
              "#f0f921"
             ]
            ],
            "type": "histogram2d"
           }
          ],
          "histogram2dcontour": [
           {
            "colorbar": {
             "outlinewidth": 0,
             "ticks": ""
            },
            "colorscale": [
             [
              0,
              "#0d0887"
             ],
             [
              0.1111111111111111,
              "#46039f"
             ],
             [
              0.2222222222222222,
              "#7201a8"
             ],
             [
              0.3333333333333333,
              "#9c179e"
             ],
             [
              0.4444444444444444,
              "#bd3786"
             ],
             [
              0.5555555555555556,
              "#d8576b"
             ],
             [
              0.6666666666666666,
              "#ed7953"
             ],
             [
              0.7777777777777778,
              "#fb9f3a"
             ],
             [
              0.8888888888888888,
              "#fdca26"
             ],
             [
              1,
              "#f0f921"
             ]
            ],
            "type": "histogram2dcontour"
           }
          ],
          "mesh3d": [
           {
            "colorbar": {
             "outlinewidth": 0,
             "ticks": ""
            },
            "type": "mesh3d"
           }
          ],
          "parcoords": [
           {
            "line": {
             "colorbar": {
              "outlinewidth": 0,
              "ticks": ""
             }
            },
            "type": "parcoords"
           }
          ],
          "pie": [
           {
            "automargin": true,
            "type": "pie"
           }
          ],
          "scatter": [
           {
            "fillpattern": {
             "fillmode": "overlay",
             "size": 10,
             "solidity": 0.2
            },
            "type": "scatter"
           }
          ],
          "scatter3d": [
           {
            "line": {
             "colorbar": {
              "outlinewidth": 0,
              "ticks": ""
             }
            },
            "marker": {
             "colorbar": {
              "outlinewidth": 0,
              "ticks": ""
             }
            },
            "type": "scatter3d"
           }
          ],
          "scattercarpet": [
           {
            "marker": {
             "colorbar": {
              "outlinewidth": 0,
              "ticks": ""
             }
            },
            "type": "scattercarpet"
           }
          ],
          "scattergeo": [
           {
            "marker": {
             "colorbar": {
              "outlinewidth": 0,
              "ticks": ""
             }
            },
            "type": "scattergeo"
           }
          ],
          "scattergl": [
           {
            "marker": {
             "colorbar": {
              "outlinewidth": 0,
              "ticks": ""
             }
            },
            "type": "scattergl"
           }
          ],
          "scattermap": [
           {
            "marker": {
             "colorbar": {
              "outlinewidth": 0,
              "ticks": ""
             }
            },
            "type": "scattermap"
           }
          ],
          "scattermapbox": [
           {
            "marker": {
             "colorbar": {
              "outlinewidth": 0,
              "ticks": ""
             }
            },
            "type": "scattermapbox"
           }
          ],
          "scatterpolar": [
           {
            "marker": {
             "colorbar": {
              "outlinewidth": 0,
              "ticks": ""
             }
            },
            "type": "scatterpolar"
           }
          ],
          "scatterpolargl": [
           {
            "marker": {
             "colorbar": {
              "outlinewidth": 0,
              "ticks": ""
             }
            },
            "type": "scatterpolargl"
           }
          ],
          "scatterternary": [
           {
            "marker": {
             "colorbar": {
              "outlinewidth": 0,
              "ticks": ""
             }
            },
            "type": "scatterternary"
           }
          ],
          "surface": [
           {
            "colorbar": {
             "outlinewidth": 0,
             "ticks": ""
            },
            "colorscale": [
             [
              0,
              "#0d0887"
             ],
             [
              0.1111111111111111,
              "#46039f"
             ],
             [
              0.2222222222222222,
              "#7201a8"
             ],
             [
              0.3333333333333333,
              "#9c179e"
             ],
             [
              0.4444444444444444,
              "#bd3786"
             ],
             [
              0.5555555555555556,
              "#d8576b"
             ],
             [
              0.6666666666666666,
              "#ed7953"
             ],
             [
              0.7777777777777778,
              "#fb9f3a"
             ],
             [
              0.8888888888888888,
              "#fdca26"
             ],
             [
              1,
              "#f0f921"
             ]
            ],
            "type": "surface"
           }
          ],
          "table": [
           {
            "cells": {
             "fill": {
              "color": "#EBF0F8"
             },
             "line": {
              "color": "white"
             }
            },
            "header": {
             "fill": {
              "color": "#C8D4E3"
             },
             "line": {
              "color": "white"
             }
            },
            "type": "table"
           }
          ]
         },
         "layout": {
          "annotationdefaults": {
           "arrowcolor": "#2a3f5f",
           "arrowhead": 0,
           "arrowwidth": 1
          },
          "autotypenumbers": "strict",
          "coloraxis": {
           "colorbar": {
            "outlinewidth": 0,
            "ticks": ""
           }
          },
          "colorscale": {
           "diverging": [
            [
             0,
             "#8e0152"
            ],
            [
             0.1,
             "#c51b7d"
            ],
            [
             0.2,
             "#de77ae"
            ],
            [
             0.3,
             "#f1b6da"
            ],
            [
             0.4,
             "#fde0ef"
            ],
            [
             0.5,
             "#f7f7f7"
            ],
            [
             0.6,
             "#e6f5d0"
            ],
            [
             0.7,
             "#b8e186"
            ],
            [
             0.8,
             "#7fbc41"
            ],
            [
             0.9,
             "#4d9221"
            ],
            [
             1,
             "#276419"
            ]
           ],
           "sequential": [
            [
             0,
             "#0d0887"
            ],
            [
             0.1111111111111111,
             "#46039f"
            ],
            [
             0.2222222222222222,
             "#7201a8"
            ],
            [
             0.3333333333333333,
             "#9c179e"
            ],
            [
             0.4444444444444444,
             "#bd3786"
            ],
            [
             0.5555555555555556,
             "#d8576b"
            ],
            [
             0.6666666666666666,
             "#ed7953"
            ],
            [
             0.7777777777777778,
             "#fb9f3a"
            ],
            [
             0.8888888888888888,
             "#fdca26"
            ],
            [
             1,
             "#f0f921"
            ]
           ],
           "sequentialminus": [
            [
             0,
             "#0d0887"
            ],
            [
             0.1111111111111111,
             "#46039f"
            ],
            [
             0.2222222222222222,
             "#7201a8"
            ],
            [
             0.3333333333333333,
             "#9c179e"
            ],
            [
             0.4444444444444444,
             "#bd3786"
            ],
            [
             0.5555555555555556,
             "#d8576b"
            ],
            [
             0.6666666666666666,
             "#ed7953"
            ],
            [
             0.7777777777777778,
             "#fb9f3a"
            ],
            [
             0.8888888888888888,
             "#fdca26"
            ],
            [
             1,
             "#f0f921"
            ]
           ]
          },
          "colorway": [
           "#636efa",
           "#EF553B",
           "#00cc96",
           "#ab63fa",
           "#FFA15A",
           "#19d3f3",
           "#FF6692",
           "#B6E880",
           "#FF97FF",
           "#FECB52"
          ],
          "font": {
           "color": "#2a3f5f"
          },
          "geo": {
           "bgcolor": "white",
           "lakecolor": "white",
           "landcolor": "#E5ECF6",
           "showlakes": true,
           "showland": true,
           "subunitcolor": "white"
          },
          "hoverlabel": {
           "align": "left"
          },
          "hovermode": "closest",
          "mapbox": {
           "style": "light"
          },
          "paper_bgcolor": "white",
          "plot_bgcolor": "#E5ECF6",
          "polar": {
           "angularaxis": {
            "gridcolor": "white",
            "linecolor": "white",
            "ticks": ""
           },
           "bgcolor": "#E5ECF6",
           "radialaxis": {
            "gridcolor": "white",
            "linecolor": "white",
            "ticks": ""
           }
          },
          "scene": {
           "xaxis": {
            "backgroundcolor": "#E5ECF6",
            "gridcolor": "white",
            "gridwidth": 2,
            "linecolor": "white",
            "showbackground": true,
            "ticks": "",
            "zerolinecolor": "white"
           },
           "yaxis": {
            "backgroundcolor": "#E5ECF6",
            "gridcolor": "white",
            "gridwidth": 2,
            "linecolor": "white",
            "showbackground": true,
            "ticks": "",
            "zerolinecolor": "white"
           },
           "zaxis": {
            "backgroundcolor": "#E5ECF6",
            "gridcolor": "white",
            "gridwidth": 2,
            "linecolor": "white",
            "showbackground": true,
            "ticks": "",
            "zerolinecolor": "white"
           }
          },
          "shapedefaults": {
           "line": {
            "color": "#2a3f5f"
           }
          },
          "ternary": {
           "aaxis": {
            "gridcolor": "white",
            "linecolor": "white",
            "ticks": ""
           },
           "baxis": {
            "gridcolor": "white",
            "linecolor": "white",
            "ticks": ""
           },
           "bgcolor": "#E5ECF6",
           "caxis": {
            "gridcolor": "white",
            "linecolor": "white",
            "ticks": ""
           }
          },
          "title": {
           "x": 0.05
          },
          "xaxis": {
           "automargin": true,
           "gridcolor": "white",
           "linecolor": "white",
           "ticks": "",
           "title": {
            "standoff": 15
           },
           "zerolinecolor": "white",
           "zerolinewidth": 2
          },
          "yaxis": {
           "automargin": true,
           "gridcolor": "white",
           "linecolor": "white",
           "ticks": "",
           "title": {
            "standoff": 15
           },
           "zerolinecolor": "white",
           "zerolinewidth": 2
          }
         }
        },
        "title": {
         "text": "Time Series with Statistical Bands - BTGP BANCO"
        },
        "xaxis": {
         "title": {
          "text": "Date"
         }
        },
        "yaxis": {
         "title": {
          "text": "Average Participation (7 days)"
         }
        }
       }
      }
     },
     "metadata": {},
     "output_type": "display_data"
    },
    {
     "data": {
      "application/vnd.plotly.v1+json": {
       "config": {
        "plotlyServerURL": "https://plot.ly"
       },
       "data": [
        {
         "fill": "toself",
         "fillcolor": "rgba(0,100,80,0.2)",
         "hoverinfo": "skip",
         "line": {
          "color": "rgba(255,255,255,0)"
         },
         "name": "Confidence Interval",
         "showlegend": false,
         "type": "scatter",
         "x": [
          "2025-06-21T00:00:00.000000000",
          "2025-06-22T00:00:00.000000000",
          "2025-06-23T00:00:00.000000000",
          "2025-06-24T00:00:00.000000000",
          "2025-06-25T00:00:00.000000000",
          "2025-06-26T00:00:00.000000000",
          "2025-06-27T00:00:00.000000000",
          "2025-06-28T00:00:00.000000000",
          "2025-06-29T00:00:00.000000000",
          "2025-06-30T00:00:00.000000000",
          "2025-07-01T00:00:00.000000000",
          "2025-07-02T00:00:00.000000000",
          "2025-07-03T00:00:00.000000000",
          "2025-07-04T00:00:00.000000000",
          "2025-07-05T00:00:00.000000000",
          "2025-07-06T00:00:00.000000000",
          "2025-07-07T00:00:00.000000000",
          "2025-07-08T00:00:00.000000000",
          "2025-07-09T00:00:00.000000000",
          "2025-07-10T00:00:00.000000000",
          "2025-07-11T00:00:00.000000000",
          "2025-07-12T00:00:00.000000000",
          "2025-07-13T00:00:00.000000000",
          "2025-07-14T00:00:00.000000000",
          "2025-07-15T00:00:00.000000000",
          "2025-07-16T00:00:00.000000000",
          "2025-07-17T00:00:00.000000000",
          "2025-07-17T00:00:00.000000000",
          "2025-07-16T00:00:00.000000000",
          "2025-07-15T00:00:00.000000000",
          "2025-07-14T00:00:00.000000000",
          "2025-07-13T00:00:00.000000000",
          "2025-07-12T00:00:00.000000000",
          "2025-07-11T00:00:00.000000000",
          "2025-07-10T00:00:00.000000000",
          "2025-07-09T00:00:00.000000000",
          "2025-07-08T00:00:00.000000000",
          "2025-07-07T00:00:00.000000000",
          "2025-07-06T00:00:00.000000000",
          "2025-07-05T00:00:00.000000000",
          "2025-07-04T00:00:00.000000000",
          "2025-07-03T00:00:00.000000000",
          "2025-07-02T00:00:00.000000000",
          "2025-07-01T00:00:00.000000000",
          "2025-06-30T00:00:00.000000000",
          "2025-06-29T00:00:00.000000000",
          "2025-06-28T00:00:00.000000000",
          "2025-06-27T00:00:00.000000000",
          "2025-06-26T00:00:00.000000000",
          "2025-06-25T00:00:00.000000000",
          "2025-06-24T00:00:00.000000000",
          "2025-06-23T00:00:00.000000000",
          "2025-06-22T00:00:00.000000000",
          "2025-06-21T00:00:00.000000000"
         ],
         "y": {
          "bdata": "4UD2t112IEANO+z2YncgQGQ730+NdyBA5orr+yZ7IEC9E9sx+pkgQLnITQndnCBApoOdE5WdIEDJ5DUxyZwgQNoDHY0NmyBArID2GZKYIEAO4KxbJpUgQN8UlAGPeCBAYTdgcaReIECqA9vnM20gQJDI9T0IdCBA62I2LA55IECP5vj4MHwgQDztieYKfiBAZuOFQO9+IEBwuR1IRX8gQFH+LerojyBAXNe7Z6CKIECVQprP8HkgQNR0d57gYCBADxdT/UpBIEB8MarzNBogQIP3JX5U6x9AFxxR/TmgH0Bik05SB4MfQNY9xyMyeh9AxQTFzsaLH0DuOxDgRbcfQAjlXSOG8x9A4zQFSUojIED4aTePG2AgQDJUwO/hYCBAIqI4Dx5eIECr5Vn2uVsgQM+EgmxUVCBApjopBNJOIEAOG6oDHksgQFlhAlyiSyBABRcq4ZxFIEDeqNcVTkEgQFYwsxpSRCBAXE5YgOhKIECjDgu1PlIgQPoQb6uEWiBASz5qWLldIEDph+nutVggQECmHLD1XiBAlkOLbOdbIED175ofdlcgQDNCyhJETyBA",
          "dtype": "f8"
         }
        },
        {
         "line": {
          "color": "rgb(0,100,80)"
         },
         "name": "7-day Mean (ITAUUNIBANCO)",
         "type": "scatter",
         "x": [
          "2025-06-21T00:00:00.000000000",
          "2025-06-22T00:00:00.000000000",
          "2025-06-23T00:00:00.000000000",
          "2025-06-24T00:00:00.000000000",
          "2025-06-25T00:00:00.000000000",
          "2025-06-26T00:00:00.000000000",
          "2025-06-27T00:00:00.000000000",
          "2025-06-28T00:00:00.000000000",
          "2025-06-29T00:00:00.000000000",
          "2025-06-30T00:00:00.000000000",
          "2025-07-01T00:00:00.000000000",
          "2025-07-02T00:00:00.000000000",
          "2025-07-03T00:00:00.000000000",
          "2025-07-04T00:00:00.000000000",
          "2025-07-05T00:00:00.000000000",
          "2025-07-06T00:00:00.000000000",
          "2025-07-07T00:00:00.000000000",
          "2025-07-08T00:00:00.000000000",
          "2025-07-09T00:00:00.000000000",
          "2025-07-10T00:00:00.000000000",
          "2025-07-11T00:00:00.000000000",
          "2025-07-12T00:00:00.000000000",
          "2025-07-13T00:00:00.000000000",
          "2025-07-14T00:00:00.000000000",
          "2025-07-15T00:00:00.000000000",
          "2025-07-16T00:00:00.000000000",
          "2025-07-17T00:00:00.000000000"
         ],
         "y": {
          "bdata": "ikFg5dBiIECBlUOLbGcgQH0/NV66aSBAkxgEVg5tIEDTTWIQWHkgQIID3DBLfSBAUEqG3wx8IEC2eSDzg3cgQBupugb7ciBAgdhUGnJuIEB2RMI4OmsgQPIVX/EVXyBAXUyxZiNVIEBcj8L1KFwgQJuBDyFtYSBA3XNcTLFmIEAdZql39WsgQK9H4XoUbiBAzBsjmOhvIEC0kaprsG8gQJqZmZmZWSBA8GS1vDFCIEBGMNHfySogQJv77AJiEyBA+rU2D2T+H0Ate9GcuNsfQM2Juz3HxR9A",
          "dtype": "f8"
         }
        }
       ],
       "layout": {
        "legend": {
         "title": {
          "text": "Legend"
         }
        },
        "template": {
         "data": {
          "bar": [
           {
            "error_x": {
             "color": "#2a3f5f"
            },
            "error_y": {
             "color": "#2a3f5f"
            },
            "marker": {
             "line": {
              "color": "#E5ECF6",
              "width": 0.5
             },
             "pattern": {
              "fillmode": "overlay",
              "size": 10,
              "solidity": 0.2
             }
            },
            "type": "bar"
           }
          ],
          "barpolar": [
           {
            "marker": {
             "line": {
              "color": "#E5ECF6",
              "width": 0.5
             },
             "pattern": {
              "fillmode": "overlay",
              "size": 10,
              "solidity": 0.2
             }
            },
            "type": "barpolar"
           }
          ],
          "carpet": [
           {
            "aaxis": {
             "endlinecolor": "#2a3f5f",
             "gridcolor": "white",
             "linecolor": "white",
             "minorgridcolor": "white",
             "startlinecolor": "#2a3f5f"
            },
            "baxis": {
             "endlinecolor": "#2a3f5f",
             "gridcolor": "white",
             "linecolor": "white",
             "minorgridcolor": "white",
             "startlinecolor": "#2a3f5f"
            },
            "type": "carpet"
           }
          ],
          "choropleth": [
           {
            "colorbar": {
             "outlinewidth": 0,
             "ticks": ""
            },
            "type": "choropleth"
           }
          ],
          "contour": [
           {
            "colorbar": {
             "outlinewidth": 0,
             "ticks": ""
            },
            "colorscale": [
             [
              0,
              "#0d0887"
             ],
             [
              0.1111111111111111,
              "#46039f"
             ],
             [
              0.2222222222222222,
              "#7201a8"
             ],
             [
              0.3333333333333333,
              "#9c179e"
             ],
             [
              0.4444444444444444,
              "#bd3786"
             ],
             [
              0.5555555555555556,
              "#d8576b"
             ],
             [
              0.6666666666666666,
              "#ed7953"
             ],
             [
              0.7777777777777778,
              "#fb9f3a"
             ],
             [
              0.8888888888888888,
              "#fdca26"
             ],
             [
              1,
              "#f0f921"
             ]
            ],
            "type": "contour"
           }
          ],
          "contourcarpet": [
           {
            "colorbar": {
             "outlinewidth": 0,
             "ticks": ""
            },
            "type": "contourcarpet"
           }
          ],
          "heatmap": [
           {
            "colorbar": {
             "outlinewidth": 0,
             "ticks": ""
            },
            "colorscale": [
             [
              0,
              "#0d0887"
             ],
             [
              0.1111111111111111,
              "#46039f"
             ],
             [
              0.2222222222222222,
              "#7201a8"
             ],
             [
              0.3333333333333333,
              "#9c179e"
             ],
             [
              0.4444444444444444,
              "#bd3786"
             ],
             [
              0.5555555555555556,
              "#d8576b"
             ],
             [
              0.6666666666666666,
              "#ed7953"
             ],
             [
              0.7777777777777778,
              "#fb9f3a"
             ],
             [
              0.8888888888888888,
              "#fdca26"
             ],
             [
              1,
              "#f0f921"
             ]
            ],
            "type": "heatmap"
           }
          ],
          "histogram": [
           {
            "marker": {
             "pattern": {
              "fillmode": "overlay",
              "size": 10,
              "solidity": 0.2
             }
            },
            "type": "histogram"
           }
          ],
          "histogram2d": [
           {
            "colorbar": {
             "outlinewidth": 0,
             "ticks": ""
            },
            "colorscale": [
             [
              0,
              "#0d0887"
             ],
             [
              0.1111111111111111,
              "#46039f"
             ],
             [
              0.2222222222222222,
              "#7201a8"
             ],
             [
              0.3333333333333333,
              "#9c179e"
             ],
             [
              0.4444444444444444,
              "#bd3786"
             ],
             [
              0.5555555555555556,
              "#d8576b"
             ],
             [
              0.6666666666666666,
              "#ed7953"
             ],
             [
              0.7777777777777778,
              "#fb9f3a"
             ],
             [
              0.8888888888888888,
              "#fdca26"
             ],
             [
              1,
              "#f0f921"
             ]
            ],
            "type": "histogram2d"
           }
          ],
          "histogram2dcontour": [
           {
            "colorbar": {
             "outlinewidth": 0,
             "ticks": ""
            },
            "colorscale": [
             [
              0,
              "#0d0887"
             ],
             [
              0.1111111111111111,
              "#46039f"
             ],
             [
              0.2222222222222222,
              "#7201a8"
             ],
             [
              0.3333333333333333,
              "#9c179e"
             ],
             [
              0.4444444444444444,
              "#bd3786"
             ],
             [
              0.5555555555555556,
              "#d8576b"
             ],
             [
              0.6666666666666666,
              "#ed7953"
             ],
             [
              0.7777777777777778,
              "#fb9f3a"
             ],
             [
              0.8888888888888888,
              "#fdca26"
             ],
             [
              1,
              "#f0f921"
             ]
            ],
            "type": "histogram2dcontour"
           }
          ],
          "mesh3d": [
           {
            "colorbar": {
             "outlinewidth": 0,
             "ticks": ""
            },
            "type": "mesh3d"
           }
          ],
          "parcoords": [
           {
            "line": {
             "colorbar": {
              "outlinewidth": 0,
              "ticks": ""
             }
            },
            "type": "parcoords"
           }
          ],
          "pie": [
           {
            "automargin": true,
            "type": "pie"
           }
          ],
          "scatter": [
           {
            "fillpattern": {
             "fillmode": "overlay",
             "size": 10,
             "solidity": 0.2
            },
            "type": "scatter"
           }
          ],
          "scatter3d": [
           {
            "line": {
             "colorbar": {
              "outlinewidth": 0,
              "ticks": ""
             }
            },
            "marker": {
             "colorbar": {
              "outlinewidth": 0,
              "ticks": ""
             }
            },
            "type": "scatter3d"
           }
          ],
          "scattercarpet": [
           {
            "marker": {
             "colorbar": {
              "outlinewidth": 0,
              "ticks": ""
             }
            },
            "type": "scattercarpet"
           }
          ],
          "scattergeo": [
           {
            "marker": {
             "colorbar": {
              "outlinewidth": 0,
              "ticks": ""
             }
            },
            "type": "scattergeo"
           }
          ],
          "scattergl": [
           {
            "marker": {
             "colorbar": {
              "outlinewidth": 0,
              "ticks": ""
             }
            },
            "type": "scattergl"
           }
          ],
          "scattermap": [
           {
            "marker": {
             "colorbar": {
              "outlinewidth": 0,
              "ticks": ""
             }
            },
            "type": "scattermap"
           }
          ],
          "scattermapbox": [
           {
            "marker": {
             "colorbar": {
              "outlinewidth": 0,
              "ticks": ""
             }
            },
            "type": "scattermapbox"
           }
          ],
          "scatterpolar": [
           {
            "marker": {
             "colorbar": {
              "outlinewidth": 0,
              "ticks": ""
             }
            },
            "type": "scatterpolar"
           }
          ],
          "scatterpolargl": [
           {
            "marker": {
             "colorbar": {
              "outlinewidth": 0,
              "ticks": ""
             }
            },
            "type": "scatterpolargl"
           }
          ],
          "scatterternary": [
           {
            "marker": {
             "colorbar": {
              "outlinewidth": 0,
              "ticks": ""
             }
            },
            "type": "scatterternary"
           }
          ],
          "surface": [
           {
            "colorbar": {
             "outlinewidth": 0,
             "ticks": ""
            },
            "colorscale": [
             [
              0,
              "#0d0887"
             ],
             [
              0.1111111111111111,
              "#46039f"
             ],
             [
              0.2222222222222222,
              "#7201a8"
             ],
             [
              0.3333333333333333,
              "#9c179e"
             ],
             [
              0.4444444444444444,
              "#bd3786"
             ],
             [
              0.5555555555555556,
              "#d8576b"
             ],
             [
              0.6666666666666666,
              "#ed7953"
             ],
             [
              0.7777777777777778,
              "#fb9f3a"
             ],
             [
              0.8888888888888888,
              "#fdca26"
             ],
             [
              1,
              "#f0f921"
             ]
            ],
            "type": "surface"
           }
          ],
          "table": [
           {
            "cells": {
             "fill": {
              "color": "#EBF0F8"
             },
             "line": {
              "color": "white"
             }
            },
            "header": {
             "fill": {
              "color": "#C8D4E3"
             },
             "line": {
              "color": "white"
             }
            },
            "type": "table"
           }
          ]
         },
         "layout": {
          "annotationdefaults": {
           "arrowcolor": "#2a3f5f",
           "arrowhead": 0,
           "arrowwidth": 1
          },
          "autotypenumbers": "strict",
          "coloraxis": {
           "colorbar": {
            "outlinewidth": 0,
            "ticks": ""
           }
          },
          "colorscale": {
           "diverging": [
            [
             0,
             "#8e0152"
            ],
            [
             0.1,
             "#c51b7d"
            ],
            [
             0.2,
             "#de77ae"
            ],
            [
             0.3,
             "#f1b6da"
            ],
            [
             0.4,
             "#fde0ef"
            ],
            [
             0.5,
             "#f7f7f7"
            ],
            [
             0.6,
             "#e6f5d0"
            ],
            [
             0.7,
             "#b8e186"
            ],
            [
             0.8,
             "#7fbc41"
            ],
            [
             0.9,
             "#4d9221"
            ],
            [
             1,
             "#276419"
            ]
           ],
           "sequential": [
            [
             0,
             "#0d0887"
            ],
            [
             0.1111111111111111,
             "#46039f"
            ],
            [
             0.2222222222222222,
             "#7201a8"
            ],
            [
             0.3333333333333333,
             "#9c179e"
            ],
            [
             0.4444444444444444,
             "#bd3786"
            ],
            [
             0.5555555555555556,
             "#d8576b"
            ],
            [
             0.6666666666666666,
             "#ed7953"
            ],
            [
             0.7777777777777778,
             "#fb9f3a"
            ],
            [
             0.8888888888888888,
             "#fdca26"
            ],
            [
             1,
             "#f0f921"
            ]
           ],
           "sequentialminus": [
            [
             0,
             "#0d0887"
            ],
            [
             0.1111111111111111,
             "#46039f"
            ],
            [
             0.2222222222222222,
             "#7201a8"
            ],
            [
             0.3333333333333333,
             "#9c179e"
            ],
            [
             0.4444444444444444,
             "#bd3786"
            ],
            [
             0.5555555555555556,
             "#d8576b"
            ],
            [
             0.6666666666666666,
             "#ed7953"
            ],
            [
             0.7777777777777778,
             "#fb9f3a"
            ],
            [
             0.8888888888888888,
             "#fdca26"
            ],
            [
             1,
             "#f0f921"
            ]
           ]
          },
          "colorway": [
           "#636efa",
           "#EF553B",
           "#00cc96",
           "#ab63fa",
           "#FFA15A",
           "#19d3f3",
           "#FF6692",
           "#B6E880",
           "#FF97FF",
           "#FECB52"
          ],
          "font": {
           "color": "#2a3f5f"
          },
          "geo": {
           "bgcolor": "white",
           "lakecolor": "white",
           "landcolor": "#E5ECF6",
           "showlakes": true,
           "showland": true,
           "subunitcolor": "white"
          },
          "hoverlabel": {
           "align": "left"
          },
          "hovermode": "closest",
          "mapbox": {
           "style": "light"
          },
          "paper_bgcolor": "white",
          "plot_bgcolor": "#E5ECF6",
          "polar": {
           "angularaxis": {
            "gridcolor": "white",
            "linecolor": "white",
            "ticks": ""
           },
           "bgcolor": "#E5ECF6",
           "radialaxis": {
            "gridcolor": "white",
            "linecolor": "white",
            "ticks": ""
           }
          },
          "scene": {
           "xaxis": {
            "backgroundcolor": "#E5ECF6",
            "gridcolor": "white",
            "gridwidth": 2,
            "linecolor": "white",
            "showbackground": true,
            "ticks": "",
            "zerolinecolor": "white"
           },
           "yaxis": {
            "backgroundcolor": "#E5ECF6",
            "gridcolor": "white",
            "gridwidth": 2,
            "linecolor": "white",
            "showbackground": true,
            "ticks": "",
            "zerolinecolor": "white"
           },
           "zaxis": {
            "backgroundcolor": "#E5ECF6",
            "gridcolor": "white",
            "gridwidth": 2,
            "linecolor": "white",
            "showbackground": true,
            "ticks": "",
            "zerolinecolor": "white"
           }
          },
          "shapedefaults": {
           "line": {
            "color": "#2a3f5f"
           }
          },
          "ternary": {
           "aaxis": {
            "gridcolor": "white",
            "linecolor": "white",
            "ticks": ""
           },
           "baxis": {
            "gridcolor": "white",
            "linecolor": "white",
            "ticks": ""
           },
           "bgcolor": "#E5ECF6",
           "caxis": {
            "gridcolor": "white",
            "linecolor": "white",
            "ticks": ""
           }
          },
          "title": {
           "x": 0.05
          },
          "xaxis": {
           "automargin": true,
           "gridcolor": "white",
           "linecolor": "white",
           "ticks": "",
           "title": {
            "standoff": 15
           },
           "zerolinecolor": "white",
           "zerolinewidth": 2
          },
          "yaxis": {
           "automargin": true,
           "gridcolor": "white",
           "linecolor": "white",
           "ticks": "",
           "title": {
            "standoff": 15
           },
           "zerolinecolor": "white",
           "zerolinewidth": 2
          }
         }
        },
        "title": {
         "text": "Time Series with Statistical Bands - ITAUUNIBANCO"
        },
        "xaxis": {
         "title": {
          "text": "Date"
         }
        },
        "yaxis": {
         "title": {
          "text": "Average Participation (7 days)"
         }
        }
       }
      }
     },
     "metadata": {},
     "output_type": "display_data"
    },
    {
     "data": {
      "application/vnd.plotly.v1+json": {
       "config": {
        "plotlyServerURL": "https://plot.ly"
       },
       "data": [
        {
         "fill": "toself",
         "fillcolor": "rgba(0,100,80,0.2)",
         "hoverinfo": "skip",
         "line": {
          "color": "rgba(255,255,255,0)"
         },
         "name": "Confidence Interval",
         "showlegend": false,
         "type": "scatter",
         "x": [
          "2025-06-21T00:00:00.000000000",
          "2025-06-22T00:00:00.000000000",
          "2025-06-23T00:00:00.000000000",
          "2025-06-24T00:00:00.000000000",
          "2025-06-25T00:00:00.000000000",
          "2025-06-26T00:00:00.000000000",
          "2025-06-27T00:00:00.000000000",
          "2025-06-28T00:00:00.000000000",
          "2025-06-29T00:00:00.000000000",
          "2025-06-30T00:00:00.000000000",
          "2025-07-01T00:00:00.000000000",
          "2025-07-02T00:00:00.000000000",
          "2025-07-03T00:00:00.000000000",
          "2025-07-04T00:00:00.000000000",
          "2025-07-05T00:00:00.000000000",
          "2025-07-06T00:00:00.000000000",
          "2025-07-07T00:00:00.000000000",
          "2025-07-08T00:00:00.000000000",
          "2025-07-09T00:00:00.000000000",
          "2025-07-10T00:00:00.000000000",
          "2025-07-11T00:00:00.000000000",
          "2025-07-12T00:00:00.000000000",
          "2025-07-13T00:00:00.000000000",
          "2025-07-14T00:00:00.000000000",
          "2025-07-15T00:00:00.000000000",
          "2025-07-16T00:00:00.000000000",
          "2025-07-17T00:00:00.000000000",
          "2025-07-17T00:00:00.000000000",
          "2025-07-16T00:00:00.000000000",
          "2025-07-15T00:00:00.000000000",
          "2025-07-14T00:00:00.000000000",
          "2025-07-13T00:00:00.000000000",
          "2025-07-12T00:00:00.000000000",
          "2025-07-11T00:00:00.000000000",
          "2025-07-10T00:00:00.000000000",
          "2025-07-09T00:00:00.000000000",
          "2025-07-08T00:00:00.000000000",
          "2025-07-07T00:00:00.000000000",
          "2025-07-06T00:00:00.000000000",
          "2025-07-05T00:00:00.000000000",
          "2025-07-04T00:00:00.000000000",
          "2025-07-03T00:00:00.000000000",
          "2025-07-02T00:00:00.000000000",
          "2025-07-01T00:00:00.000000000",
          "2025-06-30T00:00:00.000000000",
          "2025-06-29T00:00:00.000000000",
          "2025-06-28T00:00:00.000000000",
          "2025-06-27T00:00:00.000000000",
          "2025-06-26T00:00:00.000000000",
          "2025-06-25T00:00:00.000000000",
          "2025-06-24T00:00:00.000000000",
          "2025-06-23T00:00:00.000000000",
          "2025-06-22T00:00:00.000000000",
          "2025-06-21T00:00:00.000000000"
         ],
         "y": {
          "bdata": "Q3X6Lf9bG0BfceMTV14bQB6F61G4XhtAL+Eyh/tkG0CZqkdA53MbQPuDazriYhtAwPjhsk1PG0Bm0P4ewB4bQGDS6EAB2xpAJvqprmtzGkCRnTAnvDIaQKIfc0guMBpAHIYz/mE6GkBD+NGt0DMaQNgyo5D7MRpAjfxSaQ8wGkCMBQcwDC4aQLMDKK8HQBpA+GfoiglzGkBC1kWAd6EaQBMv0eY40hpAsMZFK2kdG0Ap0Rqo8k8bQAu7uuJ7aRtAaXNi0+5nG0CGTH/tk2MbQEjGW+nRZBtAYoYSbMLqGkCMvGP7GPAaQHVukh6h1BpAgfQ9qDOPGkBxhW1ioUIaQPY20l4PDxpAo3XWIiT0GUB6c8aBs+UZQEbxROSC7RlA4Y65iPveGUAqtypSfdAZQCFvXcZH0hlAyueLTCnUGUBT0dvcIdYZQNiubc121xlAarcwKA/aGUCvYGFAnu4ZQIAb+FM58RlAAvtdaa3mGUC4tOwy+P8ZQBpErkZ0LBpAxS6skqdYGkA9sgBaa30aQC23GY6Q5RpAqhxaZDsfG0CrSR/QBxUbQE14ghE2AhtA",
          "dtype": "f8"
         }
        },
        {
         "line": {
          "color": "rgb(0,100,80)"
         },
         "name": "7-day Mean (PETROBRAS)",
         "type": "scatter",
         "x": [
          "2025-06-21T00:00:00.000000000",
          "2025-06-22T00:00:00.000000000",
          "2025-06-23T00:00:00.000000000",
          "2025-06-24T00:00:00.000000000",
          "2025-06-25T00:00:00.000000000",
          "2025-06-26T00:00:00.000000000",
          "2025-06-27T00:00:00.000000000",
          "2025-06-28T00:00:00.000000000",
          "2025-06-29T00:00:00.000000000",
          "2025-06-30T00:00:00.000000000",
          "2025-07-01T00:00:00.000000000",
          "2025-07-02T00:00:00.000000000",
          "2025-07-03T00:00:00.000000000",
          "2025-07-04T00:00:00.000000000",
          "2025-07-05T00:00:00.000000000",
          "2025-07-06T00:00:00.000000000",
          "2025-07-07T00:00:00.000000000",
          "2025-07-08T00:00:00.000000000",
          "2025-07-09T00:00:00.000000000",
          "2025-07-10T00:00:00.000000000",
          "2025-07-11T00:00:00.000000000",
          "2025-07-12T00:00:00.000000000",
          "2025-07-13T00:00:00.000000000",
          "2025-07-14T00:00:00.000000000",
          "2025-07-15T00:00:00.000000000",
          "2025-07-16T00:00:00.000000000",
          "2025-07-17T00:00:00.000000000"
         ],
         "y": {
          "bdata": "yHa+nxovG0CFXQFyrzkbQOTQItv5PhtALkymCkYlG0BrLiRNqfgaQGDZi+bE3RpAbR7I/OC9GkCPwvUoXI8aQLFmI1XXYBpA0wpRgVIyGkAg/8gzrRAaQIbrUbgeBRpAeprQZewIGkDL5FZF+QQaQFGNl24SAxpA1zXYlysBGkBb3hjBRP8ZQErJ8JuBDxpAn6yWN0YwGkDeJAaBlUMaQFvS04QuYxpA0/4LRTyWGkBNK0QFSskaQMZXfMVX/BpA73D6+EceG0CJhHF01ikbQFUmtyrKJxtA",
          "dtype": "f8"
         }
        }
       ],
       "layout": {
        "legend": {
         "title": {
          "text": "Legend"
         }
        },
        "template": {
         "data": {
          "bar": [
           {
            "error_x": {
             "color": "#2a3f5f"
            },
            "error_y": {
             "color": "#2a3f5f"
            },
            "marker": {
             "line": {
              "color": "#E5ECF6",
              "width": 0.5
             },
             "pattern": {
              "fillmode": "overlay",
              "size": 10,
              "solidity": 0.2
             }
            },
            "type": "bar"
           }
          ],
          "barpolar": [
           {
            "marker": {
             "line": {
              "color": "#E5ECF6",
              "width": 0.5
             },
             "pattern": {
              "fillmode": "overlay",
              "size": 10,
              "solidity": 0.2
             }
            },
            "type": "barpolar"
           }
          ],
          "carpet": [
           {
            "aaxis": {
             "endlinecolor": "#2a3f5f",
             "gridcolor": "white",
             "linecolor": "white",
             "minorgridcolor": "white",
             "startlinecolor": "#2a3f5f"
            },
            "baxis": {
             "endlinecolor": "#2a3f5f",
             "gridcolor": "white",
             "linecolor": "white",
             "minorgridcolor": "white",
             "startlinecolor": "#2a3f5f"
            },
            "type": "carpet"
           }
          ],
          "choropleth": [
           {
            "colorbar": {
             "outlinewidth": 0,
             "ticks": ""
            },
            "type": "choropleth"
           }
          ],
          "contour": [
           {
            "colorbar": {
             "outlinewidth": 0,
             "ticks": ""
            },
            "colorscale": [
             [
              0,
              "#0d0887"
             ],
             [
              0.1111111111111111,
              "#46039f"
             ],
             [
              0.2222222222222222,
              "#7201a8"
             ],
             [
              0.3333333333333333,
              "#9c179e"
             ],
             [
              0.4444444444444444,
              "#bd3786"
             ],
             [
              0.5555555555555556,
              "#d8576b"
             ],
             [
              0.6666666666666666,
              "#ed7953"
             ],
             [
              0.7777777777777778,
              "#fb9f3a"
             ],
             [
              0.8888888888888888,
              "#fdca26"
             ],
             [
              1,
              "#f0f921"
             ]
            ],
            "type": "contour"
           }
          ],
          "contourcarpet": [
           {
            "colorbar": {
             "outlinewidth": 0,
             "ticks": ""
            },
            "type": "contourcarpet"
           }
          ],
          "heatmap": [
           {
            "colorbar": {
             "outlinewidth": 0,
             "ticks": ""
            },
            "colorscale": [
             [
              0,
              "#0d0887"
             ],
             [
              0.1111111111111111,
              "#46039f"
             ],
             [
              0.2222222222222222,
              "#7201a8"
             ],
             [
              0.3333333333333333,
              "#9c179e"
             ],
             [
              0.4444444444444444,
              "#bd3786"
             ],
             [
              0.5555555555555556,
              "#d8576b"
             ],
             [
              0.6666666666666666,
              "#ed7953"
             ],
             [
              0.7777777777777778,
              "#fb9f3a"
             ],
             [
              0.8888888888888888,
              "#fdca26"
             ],
             [
              1,
              "#f0f921"
             ]
            ],
            "type": "heatmap"
           }
          ],
          "histogram": [
           {
            "marker": {
             "pattern": {
              "fillmode": "overlay",
              "size": 10,
              "solidity": 0.2
             }
            },
            "type": "histogram"
           }
          ],
          "histogram2d": [
           {
            "colorbar": {
             "outlinewidth": 0,
             "ticks": ""
            },
            "colorscale": [
             [
              0,
              "#0d0887"
             ],
             [
              0.1111111111111111,
              "#46039f"
             ],
             [
              0.2222222222222222,
              "#7201a8"
             ],
             [
              0.3333333333333333,
              "#9c179e"
             ],
             [
              0.4444444444444444,
              "#bd3786"
             ],
             [
              0.5555555555555556,
              "#d8576b"
             ],
             [
              0.6666666666666666,
              "#ed7953"
             ],
             [
              0.7777777777777778,
              "#fb9f3a"
             ],
             [
              0.8888888888888888,
              "#fdca26"
             ],
             [
              1,
              "#f0f921"
             ]
            ],
            "type": "histogram2d"
           }
          ],
          "histogram2dcontour": [
           {
            "colorbar": {
             "outlinewidth": 0,
             "ticks": ""
            },
            "colorscale": [
             [
              0,
              "#0d0887"
             ],
             [
              0.1111111111111111,
              "#46039f"
             ],
             [
              0.2222222222222222,
              "#7201a8"
             ],
             [
              0.3333333333333333,
              "#9c179e"
             ],
             [
              0.4444444444444444,
              "#bd3786"
             ],
             [
              0.5555555555555556,
              "#d8576b"
             ],
             [
              0.6666666666666666,
              "#ed7953"
             ],
             [
              0.7777777777777778,
              "#fb9f3a"
             ],
             [
              0.8888888888888888,
              "#fdca26"
             ],
             [
              1,
              "#f0f921"
             ]
            ],
            "type": "histogram2dcontour"
           }
          ],
          "mesh3d": [
           {
            "colorbar": {
             "outlinewidth": 0,
             "ticks": ""
            },
            "type": "mesh3d"
           }
          ],
          "parcoords": [
           {
            "line": {
             "colorbar": {
              "outlinewidth": 0,
              "ticks": ""
             }
            },
            "type": "parcoords"
           }
          ],
          "pie": [
           {
            "automargin": true,
            "type": "pie"
           }
          ],
          "scatter": [
           {
            "fillpattern": {
             "fillmode": "overlay",
             "size": 10,
             "solidity": 0.2
            },
            "type": "scatter"
           }
          ],
          "scatter3d": [
           {
            "line": {
             "colorbar": {
              "outlinewidth": 0,
              "ticks": ""
             }
            },
            "marker": {
             "colorbar": {
              "outlinewidth": 0,
              "ticks": ""
             }
            },
            "type": "scatter3d"
           }
          ],
          "scattercarpet": [
           {
            "marker": {
             "colorbar": {
              "outlinewidth": 0,
              "ticks": ""
             }
            },
            "type": "scattercarpet"
           }
          ],
          "scattergeo": [
           {
            "marker": {
             "colorbar": {
              "outlinewidth": 0,
              "ticks": ""
             }
            },
            "type": "scattergeo"
           }
          ],
          "scattergl": [
           {
            "marker": {
             "colorbar": {
              "outlinewidth": 0,
              "ticks": ""
             }
            },
            "type": "scattergl"
           }
          ],
          "scattermap": [
           {
            "marker": {
             "colorbar": {
              "outlinewidth": 0,
              "ticks": ""
             }
            },
            "type": "scattermap"
           }
          ],
          "scattermapbox": [
           {
            "marker": {
             "colorbar": {
              "outlinewidth": 0,
              "ticks": ""
             }
            },
            "type": "scattermapbox"
           }
          ],
          "scatterpolar": [
           {
            "marker": {
             "colorbar": {
              "outlinewidth": 0,
              "ticks": ""
             }
            },
            "type": "scatterpolar"
           }
          ],
          "scatterpolargl": [
           {
            "marker": {
             "colorbar": {
              "outlinewidth": 0,
              "ticks": ""
             }
            },
            "type": "scatterpolargl"
           }
          ],
          "scatterternary": [
           {
            "marker": {
             "colorbar": {
              "outlinewidth": 0,
              "ticks": ""
             }
            },
            "type": "scatterternary"
           }
          ],
          "surface": [
           {
            "colorbar": {
             "outlinewidth": 0,
             "ticks": ""
            },
            "colorscale": [
             [
              0,
              "#0d0887"
             ],
             [
              0.1111111111111111,
              "#46039f"
             ],
             [
              0.2222222222222222,
              "#7201a8"
             ],
             [
              0.3333333333333333,
              "#9c179e"
             ],
             [
              0.4444444444444444,
              "#bd3786"
             ],
             [
              0.5555555555555556,
              "#d8576b"
             ],
             [
              0.6666666666666666,
              "#ed7953"
             ],
             [
              0.7777777777777778,
              "#fb9f3a"
             ],
             [
              0.8888888888888888,
              "#fdca26"
             ],
             [
              1,
              "#f0f921"
             ]
            ],
            "type": "surface"
           }
          ],
          "table": [
           {
            "cells": {
             "fill": {
              "color": "#EBF0F8"
             },
             "line": {
              "color": "white"
             }
            },
            "header": {
             "fill": {
              "color": "#C8D4E3"
             },
             "line": {
              "color": "white"
             }
            },
            "type": "table"
           }
          ]
         },
         "layout": {
          "annotationdefaults": {
           "arrowcolor": "#2a3f5f",
           "arrowhead": 0,
           "arrowwidth": 1
          },
          "autotypenumbers": "strict",
          "coloraxis": {
           "colorbar": {
            "outlinewidth": 0,
            "ticks": ""
           }
          },
          "colorscale": {
           "diverging": [
            [
             0,
             "#8e0152"
            ],
            [
             0.1,
             "#c51b7d"
            ],
            [
             0.2,
             "#de77ae"
            ],
            [
             0.3,
             "#f1b6da"
            ],
            [
             0.4,
             "#fde0ef"
            ],
            [
             0.5,
             "#f7f7f7"
            ],
            [
             0.6,
             "#e6f5d0"
            ],
            [
             0.7,
             "#b8e186"
            ],
            [
             0.8,
             "#7fbc41"
            ],
            [
             0.9,
             "#4d9221"
            ],
            [
             1,
             "#276419"
            ]
           ],
           "sequential": [
            [
             0,
             "#0d0887"
            ],
            [
             0.1111111111111111,
             "#46039f"
            ],
            [
             0.2222222222222222,
             "#7201a8"
            ],
            [
             0.3333333333333333,
             "#9c179e"
            ],
            [
             0.4444444444444444,
             "#bd3786"
            ],
            [
             0.5555555555555556,
             "#d8576b"
            ],
            [
             0.6666666666666666,
             "#ed7953"
            ],
            [
             0.7777777777777778,
             "#fb9f3a"
            ],
            [
             0.8888888888888888,
             "#fdca26"
            ],
            [
             1,
             "#f0f921"
            ]
           ],
           "sequentialminus": [
            [
             0,
             "#0d0887"
            ],
            [
             0.1111111111111111,
             "#46039f"
            ],
            [
             0.2222222222222222,
             "#7201a8"
            ],
            [
             0.3333333333333333,
             "#9c179e"
            ],
            [
             0.4444444444444444,
             "#bd3786"
            ],
            [
             0.5555555555555556,
             "#d8576b"
            ],
            [
             0.6666666666666666,
             "#ed7953"
            ],
            [
             0.7777777777777778,
             "#fb9f3a"
            ],
            [
             0.8888888888888888,
             "#fdca26"
            ],
            [
             1,
             "#f0f921"
            ]
           ]
          },
          "colorway": [
           "#636efa",
           "#EF553B",
           "#00cc96",
           "#ab63fa",
           "#FFA15A",
           "#19d3f3",
           "#FF6692",
           "#B6E880",
           "#FF97FF",
           "#FECB52"
          ],
          "font": {
           "color": "#2a3f5f"
          },
          "geo": {
           "bgcolor": "white",
           "lakecolor": "white",
           "landcolor": "#E5ECF6",
           "showlakes": true,
           "showland": true,
           "subunitcolor": "white"
          },
          "hoverlabel": {
           "align": "left"
          },
          "hovermode": "closest",
          "mapbox": {
           "style": "light"
          },
          "paper_bgcolor": "white",
          "plot_bgcolor": "#E5ECF6",
          "polar": {
           "angularaxis": {
            "gridcolor": "white",
            "linecolor": "white",
            "ticks": ""
           },
           "bgcolor": "#E5ECF6",
           "radialaxis": {
            "gridcolor": "white",
            "linecolor": "white",
            "ticks": ""
           }
          },
          "scene": {
           "xaxis": {
            "backgroundcolor": "#E5ECF6",
            "gridcolor": "white",
            "gridwidth": 2,
            "linecolor": "white",
            "showbackground": true,
            "ticks": "",
            "zerolinecolor": "white"
           },
           "yaxis": {
            "backgroundcolor": "#E5ECF6",
            "gridcolor": "white",
            "gridwidth": 2,
            "linecolor": "white",
            "showbackground": true,
            "ticks": "",
            "zerolinecolor": "white"
           },
           "zaxis": {
            "backgroundcolor": "#E5ECF6",
            "gridcolor": "white",
            "gridwidth": 2,
            "linecolor": "white",
            "showbackground": true,
            "ticks": "",
            "zerolinecolor": "white"
           }
          },
          "shapedefaults": {
           "line": {
            "color": "#2a3f5f"
           }
          },
          "ternary": {
           "aaxis": {
            "gridcolor": "white",
            "linecolor": "white",
            "ticks": ""
           },
           "baxis": {
            "gridcolor": "white",
            "linecolor": "white",
            "ticks": ""
           },
           "bgcolor": "#E5ECF6",
           "caxis": {
            "gridcolor": "white",
            "linecolor": "white",
            "ticks": ""
           }
          },
          "title": {
           "x": 0.05
          },
          "xaxis": {
           "automargin": true,
           "gridcolor": "white",
           "linecolor": "white",
           "ticks": "",
           "title": {
            "standoff": 15
           },
           "zerolinecolor": "white",
           "zerolinewidth": 2
          },
          "yaxis": {
           "automargin": true,
           "gridcolor": "white",
           "linecolor": "white",
           "ticks": "",
           "title": {
            "standoff": 15
           },
           "zerolinecolor": "white",
           "zerolinewidth": 2
          }
         }
        },
        "title": {
         "text": "Time Series with Statistical Bands - PETROBRAS"
        },
        "xaxis": {
         "title": {
          "text": "Date"
         }
        },
        "yaxis": {
         "title": {
          "text": "Average Participation (7 days)"
         }
        }
       }
      }
     },
     "metadata": {},
     "output_type": "display_data"
    },
    {
     "data": {
      "application/vnd.plotly.v1+json": {
       "config": {
        "plotlyServerURL": "https://plot.ly"
       },
       "data": [
        {
         "fill": "toself",
         "fillcolor": "rgba(0,100,80,0.2)",
         "hoverinfo": "skip",
         "line": {
          "color": "rgba(255,255,255,0)"
         },
         "name": "Confidence Interval",
         "showlegend": false,
         "type": "scatter",
         "x": [
          "2025-06-21T00:00:00.000000000",
          "2025-06-22T00:00:00.000000000",
          "2025-06-23T00:00:00.000000000",
          "2025-06-24T00:00:00.000000000",
          "2025-06-25T00:00:00.000000000",
          "2025-06-26T00:00:00.000000000",
          "2025-06-27T00:00:00.000000000",
          "2025-06-28T00:00:00.000000000",
          "2025-06-29T00:00:00.000000000",
          "2025-06-30T00:00:00.000000000",
          "2025-07-01T00:00:00.000000000",
          "2025-07-02T00:00:00.000000000",
          "2025-07-03T00:00:00.000000000",
          "2025-07-04T00:00:00.000000000",
          "2025-07-05T00:00:00.000000000",
          "2025-07-06T00:00:00.000000000",
          "2025-07-07T00:00:00.000000000",
          "2025-07-08T00:00:00.000000000",
          "2025-07-09T00:00:00.000000000",
          "2025-07-10T00:00:00.000000000",
          "2025-07-11T00:00:00.000000000",
          "2025-07-12T00:00:00.000000000",
          "2025-07-13T00:00:00.000000000",
          "2025-07-14T00:00:00.000000000",
          "2025-07-15T00:00:00.000000000",
          "2025-07-16T00:00:00.000000000",
          "2025-07-17T00:00:00.000000000",
          "2025-07-17T00:00:00.000000000",
          "2025-07-16T00:00:00.000000000",
          "2025-07-15T00:00:00.000000000",
          "2025-07-14T00:00:00.000000000",
          "2025-07-13T00:00:00.000000000",
          "2025-07-12T00:00:00.000000000",
          "2025-07-11T00:00:00.000000000",
          "2025-07-10T00:00:00.000000000",
          "2025-07-09T00:00:00.000000000",
          "2025-07-08T00:00:00.000000000",
          "2025-07-07T00:00:00.000000000",
          "2025-07-06T00:00:00.000000000",
          "2025-07-05T00:00:00.000000000",
          "2025-07-04T00:00:00.000000000",
          "2025-07-03T00:00:00.000000000",
          "2025-07-02T00:00:00.000000000",
          "2025-07-01T00:00:00.000000000",
          "2025-06-30T00:00:00.000000000",
          "2025-06-29T00:00:00.000000000",
          "2025-06-28T00:00:00.000000000",
          "2025-06-27T00:00:00.000000000",
          "2025-06-26T00:00:00.000000000",
          "2025-06-25T00:00:00.000000000",
          "2025-06-24T00:00:00.000000000",
          "2025-06-23T00:00:00.000000000",
          "2025-06-22T00:00:00.000000000",
          "2025-06-21T00:00:00.000000000"
         ],
         "y": {
          "bdata": "jeHGe0N1JECABaDUQV8kQBfZzvdTUyRAnSGUXBZpJED7z1lLl2skQNq+0gmEeyRAq1fX13CwJEAA+lE+VAglQAXJ0sEhQyVANXyeQUBpJUCsY4Sc428lQKolguJAcSVAbx+vhnmvJUCDdCypvr8lQCmleui5ySVAYGhmgNPSJUDSP0y9FNslQPG8zpdy2CVA7DH3WXnSJUCgLhDTDrIlQKaVNgV8BiZAw5q1Z3FeJkC+R75MxZomQAD9CZ8zxyZA0XqNlVLcJkDUBHDjM9YmQF9Xce0byyZAMeVhHTU2JkBOJeBmUgkmQD2+aUSz5yVAJEBDSf+uJUBwG4nXxoglQHPui/hzciVAmhkFl8J3JUBGioiPvpQlQJbdKRPohiVAiW9pKJtaJUCiELu3OywlQFQRunKwJCVAzf2+iP0dJUCzVyZGLBglQBMb+fzA+CRATOtPNFXMJEAYNwm4eZMkQEFCAdnucyRA9+xjTUI7JECAs3vFRBckQFdNjSBdECRAvJD9nnkcJEB9NW5yTxckQDno08VVDyRADQIrhxYJJEDQzh89iAkkQBvlhLtFDCRA",
          "dtype": "f8"
         }
        },
        {
         "line": {
          "color": "rgb(0,100,80)"
         },
         "name": "7-day Mean (VALE)",
         "type": "scatter",
         "x": [
          "2025-06-21T00:00:00.000000000",
          "2025-06-22T00:00:00.000000000",
          "2025-06-23T00:00:00.000000000",
          "2025-06-24T00:00:00.000000000",
          "2025-06-25T00:00:00.000000000",
          "2025-06-26T00:00:00.000000000",
          "2025-06-27T00:00:00.000000000",
          "2025-06-28T00:00:00.000000000",
          "2025-06-29T00:00:00.000000000",
          "2025-06-30T00:00:00.000000000",
          "2025-07-01T00:00:00.000000000",
          "2025-07-02T00:00:00.000000000",
          "2025-07-03T00:00:00.000000000",
          "2025-07-04T00:00:00.000000000",
          "2025-07-05T00:00:00.000000000",
          "2025-07-06T00:00:00.000000000",
          "2025-07-07T00:00:00.000000000",
          "2025-07-08T00:00:00.000000000",
          "2025-07-09T00:00:00.000000000",
          "2025-07-10T00:00:00.000000000",
          "2025-07-11T00:00:00.000000000",
          "2025-07-12T00:00:00.000000000",
          "2025-07-13T00:00:00.000000000",
          "2025-07-14T00:00:00.000000000",
          "2025-07-15T00:00:00.000000000",
          "2025-07-16T00:00:00.000000000",
          "2025-07-17T00:00:00.000000000"
         ],
         "y": {
          "bdata": "VOOlm8RAJEAo6t8IZTQkQJLtfD81LiRA6wQ0ETY8JEC8AuRec0EkQMsnaNT+SyRAgVIy/GZgJEDA1uaBzI8kQP5amwcyvyRAO99PjZfuJEBizUaqrgElQHsIaQvLHiVAQR3UQR1UJUAbZql39WslQHvRnLjbcyVA2jyQ+cF7JUA6qIM6qIMlQD0WHOCGmSVAwYeQtrCsJUBzXEyxZqMlQKDXHU4fvyVAm8QgsHLoJUCXsSMSxhEmQJKeJnQZOyZAh5z77AJiJkARFSglw28mQEieaYWogCZA",
          "dtype": "f8"
         }
        }
       ],
       "layout": {
        "legend": {
         "title": {
          "text": "Legend"
         }
        },
        "template": {
         "data": {
          "bar": [
           {
            "error_x": {
             "color": "#2a3f5f"
            },
            "error_y": {
             "color": "#2a3f5f"
            },
            "marker": {
             "line": {
              "color": "#E5ECF6",
              "width": 0.5
             },
             "pattern": {
              "fillmode": "overlay",
              "size": 10,
              "solidity": 0.2
             }
            },
            "type": "bar"
           }
          ],
          "barpolar": [
           {
            "marker": {
             "line": {
              "color": "#E5ECF6",
              "width": 0.5
             },
             "pattern": {
              "fillmode": "overlay",
              "size": 10,
              "solidity": 0.2
             }
            },
            "type": "barpolar"
           }
          ],
          "carpet": [
           {
            "aaxis": {
             "endlinecolor": "#2a3f5f",
             "gridcolor": "white",
             "linecolor": "white",
             "minorgridcolor": "white",
             "startlinecolor": "#2a3f5f"
            },
            "baxis": {
             "endlinecolor": "#2a3f5f",
             "gridcolor": "white",
             "linecolor": "white",
             "minorgridcolor": "white",
             "startlinecolor": "#2a3f5f"
            },
            "type": "carpet"
           }
          ],
          "choropleth": [
           {
            "colorbar": {
             "outlinewidth": 0,
             "ticks": ""
            },
            "type": "choropleth"
           }
          ],
          "contour": [
           {
            "colorbar": {
             "outlinewidth": 0,
             "ticks": ""
            },
            "colorscale": [
             [
              0,
              "#0d0887"
             ],
             [
              0.1111111111111111,
              "#46039f"
             ],
             [
              0.2222222222222222,
              "#7201a8"
             ],
             [
              0.3333333333333333,
              "#9c179e"
             ],
             [
              0.4444444444444444,
              "#bd3786"
             ],
             [
              0.5555555555555556,
              "#d8576b"
             ],
             [
              0.6666666666666666,
              "#ed7953"
             ],
             [
              0.7777777777777778,
              "#fb9f3a"
             ],
             [
              0.8888888888888888,
              "#fdca26"
             ],
             [
              1,
              "#f0f921"
             ]
            ],
            "type": "contour"
           }
          ],
          "contourcarpet": [
           {
            "colorbar": {
             "outlinewidth": 0,
             "ticks": ""
            },
            "type": "contourcarpet"
           }
          ],
          "heatmap": [
           {
            "colorbar": {
             "outlinewidth": 0,
             "ticks": ""
            },
            "colorscale": [
             [
              0,
              "#0d0887"
             ],
             [
              0.1111111111111111,
              "#46039f"
             ],
             [
              0.2222222222222222,
              "#7201a8"
             ],
             [
              0.3333333333333333,
              "#9c179e"
             ],
             [
              0.4444444444444444,
              "#bd3786"
             ],
             [
              0.5555555555555556,
              "#d8576b"
             ],
             [
              0.6666666666666666,
              "#ed7953"
             ],
             [
              0.7777777777777778,
              "#fb9f3a"
             ],
             [
              0.8888888888888888,
              "#fdca26"
             ],
             [
              1,
              "#f0f921"
             ]
            ],
            "type": "heatmap"
           }
          ],
          "histogram": [
           {
            "marker": {
             "pattern": {
              "fillmode": "overlay",
              "size": 10,
              "solidity": 0.2
             }
            },
            "type": "histogram"
           }
          ],
          "histogram2d": [
           {
            "colorbar": {
             "outlinewidth": 0,
             "ticks": ""
            },
            "colorscale": [
             [
              0,
              "#0d0887"
             ],
             [
              0.1111111111111111,
              "#46039f"
             ],
             [
              0.2222222222222222,
              "#7201a8"
             ],
             [
              0.3333333333333333,
              "#9c179e"
             ],
             [
              0.4444444444444444,
              "#bd3786"
             ],
             [
              0.5555555555555556,
              "#d8576b"
             ],
             [
              0.6666666666666666,
              "#ed7953"
             ],
             [
              0.7777777777777778,
              "#fb9f3a"
             ],
             [
              0.8888888888888888,
              "#fdca26"
             ],
             [
              1,
              "#f0f921"
             ]
            ],
            "type": "histogram2d"
           }
          ],
          "histogram2dcontour": [
           {
            "colorbar": {
             "outlinewidth": 0,
             "ticks": ""
            },
            "colorscale": [
             [
              0,
              "#0d0887"
             ],
             [
              0.1111111111111111,
              "#46039f"
             ],
             [
              0.2222222222222222,
              "#7201a8"
             ],
             [
              0.3333333333333333,
              "#9c179e"
             ],
             [
              0.4444444444444444,
              "#bd3786"
             ],
             [
              0.5555555555555556,
              "#d8576b"
             ],
             [
              0.6666666666666666,
              "#ed7953"
             ],
             [
              0.7777777777777778,
              "#fb9f3a"
             ],
             [
              0.8888888888888888,
              "#fdca26"
             ],
             [
              1,
              "#f0f921"
             ]
            ],
            "type": "histogram2dcontour"
           }
          ],
          "mesh3d": [
           {
            "colorbar": {
             "outlinewidth": 0,
             "ticks": ""
            },
            "type": "mesh3d"
           }
          ],
          "parcoords": [
           {
            "line": {
             "colorbar": {
              "outlinewidth": 0,
              "ticks": ""
             }
            },
            "type": "parcoords"
           }
          ],
          "pie": [
           {
            "automargin": true,
            "type": "pie"
           }
          ],
          "scatter": [
           {
            "fillpattern": {
             "fillmode": "overlay",
             "size": 10,
             "solidity": 0.2
            },
            "type": "scatter"
           }
          ],
          "scatter3d": [
           {
            "line": {
             "colorbar": {
              "outlinewidth": 0,
              "ticks": ""
             }
            },
            "marker": {
             "colorbar": {
              "outlinewidth": 0,
              "ticks": ""
             }
            },
            "type": "scatter3d"
           }
          ],
          "scattercarpet": [
           {
            "marker": {
             "colorbar": {
              "outlinewidth": 0,
              "ticks": ""
             }
            },
            "type": "scattercarpet"
           }
          ],
          "scattergeo": [
           {
            "marker": {
             "colorbar": {
              "outlinewidth": 0,
              "ticks": ""
             }
            },
            "type": "scattergeo"
           }
          ],
          "scattergl": [
           {
            "marker": {
             "colorbar": {
              "outlinewidth": 0,
              "ticks": ""
             }
            },
            "type": "scattergl"
           }
          ],
          "scattermap": [
           {
            "marker": {
             "colorbar": {
              "outlinewidth": 0,
              "ticks": ""
             }
            },
            "type": "scattermap"
           }
          ],
          "scattermapbox": [
           {
            "marker": {
             "colorbar": {
              "outlinewidth": 0,
              "ticks": ""
             }
            },
            "type": "scattermapbox"
           }
          ],
          "scatterpolar": [
           {
            "marker": {
             "colorbar": {
              "outlinewidth": 0,
              "ticks": ""
             }
            },
            "type": "scatterpolar"
           }
          ],
          "scatterpolargl": [
           {
            "marker": {
             "colorbar": {
              "outlinewidth": 0,
              "ticks": ""
             }
            },
            "type": "scatterpolargl"
           }
          ],
          "scatterternary": [
           {
            "marker": {
             "colorbar": {
              "outlinewidth": 0,
              "ticks": ""
             }
            },
            "type": "scatterternary"
           }
          ],
          "surface": [
           {
            "colorbar": {
             "outlinewidth": 0,
             "ticks": ""
            },
            "colorscale": [
             [
              0,
              "#0d0887"
             ],
             [
              0.1111111111111111,
              "#46039f"
             ],
             [
              0.2222222222222222,
              "#7201a8"
             ],
             [
              0.3333333333333333,
              "#9c179e"
             ],
             [
              0.4444444444444444,
              "#bd3786"
             ],
             [
              0.5555555555555556,
              "#d8576b"
             ],
             [
              0.6666666666666666,
              "#ed7953"
             ],
             [
              0.7777777777777778,
              "#fb9f3a"
             ],
             [
              0.8888888888888888,
              "#fdca26"
             ],
             [
              1,
              "#f0f921"
             ]
            ],
            "type": "surface"
           }
          ],
          "table": [
           {
            "cells": {
             "fill": {
              "color": "#EBF0F8"
             },
             "line": {
              "color": "white"
             }
            },
            "header": {
             "fill": {
              "color": "#C8D4E3"
             },
             "line": {
              "color": "white"
             }
            },
            "type": "table"
           }
          ]
         },
         "layout": {
          "annotationdefaults": {
           "arrowcolor": "#2a3f5f",
           "arrowhead": 0,
           "arrowwidth": 1
          },
          "autotypenumbers": "strict",
          "coloraxis": {
           "colorbar": {
            "outlinewidth": 0,
            "ticks": ""
           }
          },
          "colorscale": {
           "diverging": [
            [
             0,
             "#8e0152"
            ],
            [
             0.1,
             "#c51b7d"
            ],
            [
             0.2,
             "#de77ae"
            ],
            [
             0.3,
             "#f1b6da"
            ],
            [
             0.4,
             "#fde0ef"
            ],
            [
             0.5,
             "#f7f7f7"
            ],
            [
             0.6,
             "#e6f5d0"
            ],
            [
             0.7,
             "#b8e186"
            ],
            [
             0.8,
             "#7fbc41"
            ],
            [
             0.9,
             "#4d9221"
            ],
            [
             1,
             "#276419"
            ]
           ],
           "sequential": [
            [
             0,
             "#0d0887"
            ],
            [
             0.1111111111111111,
             "#46039f"
            ],
            [
             0.2222222222222222,
             "#7201a8"
            ],
            [
             0.3333333333333333,
             "#9c179e"
            ],
            [
             0.4444444444444444,
             "#bd3786"
            ],
            [
             0.5555555555555556,
             "#d8576b"
            ],
            [
             0.6666666666666666,
             "#ed7953"
            ],
            [
             0.7777777777777778,
             "#fb9f3a"
            ],
            [
             0.8888888888888888,
             "#fdca26"
            ],
            [
             1,
             "#f0f921"
            ]
           ],
           "sequentialminus": [
            [
             0,
             "#0d0887"
            ],
            [
             0.1111111111111111,
             "#46039f"
            ],
            [
             0.2222222222222222,
             "#7201a8"
            ],
            [
             0.3333333333333333,
             "#9c179e"
            ],
            [
             0.4444444444444444,
             "#bd3786"
            ],
            [
             0.5555555555555556,
             "#d8576b"
            ],
            [
             0.6666666666666666,
             "#ed7953"
            ],
            [
             0.7777777777777778,
             "#fb9f3a"
            ],
            [
             0.8888888888888888,
             "#fdca26"
            ],
            [
             1,
             "#f0f921"
            ]
           ]
          },
          "colorway": [
           "#636efa",
           "#EF553B",
           "#00cc96",
           "#ab63fa",
           "#FFA15A",
           "#19d3f3",
           "#FF6692",
           "#B6E880",
           "#FF97FF",
           "#FECB52"
          ],
          "font": {
           "color": "#2a3f5f"
          },
          "geo": {
           "bgcolor": "white",
           "lakecolor": "white",
           "landcolor": "#E5ECF6",
           "showlakes": true,
           "showland": true,
           "subunitcolor": "white"
          },
          "hoverlabel": {
           "align": "left"
          },
          "hovermode": "closest",
          "mapbox": {
           "style": "light"
          },
          "paper_bgcolor": "white",
          "plot_bgcolor": "#E5ECF6",
          "polar": {
           "angularaxis": {
            "gridcolor": "white",
            "linecolor": "white",
            "ticks": ""
           },
           "bgcolor": "#E5ECF6",
           "radialaxis": {
            "gridcolor": "white",
            "linecolor": "white",
            "ticks": ""
           }
          },
          "scene": {
           "xaxis": {
            "backgroundcolor": "#E5ECF6",
            "gridcolor": "white",
            "gridwidth": 2,
            "linecolor": "white",
            "showbackground": true,
            "ticks": "",
            "zerolinecolor": "white"
           },
           "yaxis": {
            "backgroundcolor": "#E5ECF6",
            "gridcolor": "white",
            "gridwidth": 2,
            "linecolor": "white",
            "showbackground": true,
            "ticks": "",
            "zerolinecolor": "white"
           },
           "zaxis": {
            "backgroundcolor": "#E5ECF6",
            "gridcolor": "white",
            "gridwidth": 2,
            "linecolor": "white",
            "showbackground": true,
            "ticks": "",
            "zerolinecolor": "white"
           }
          },
          "shapedefaults": {
           "line": {
            "color": "#2a3f5f"
           }
          },
          "ternary": {
           "aaxis": {
            "gridcolor": "white",
            "linecolor": "white",
            "ticks": ""
           },
           "baxis": {
            "gridcolor": "white",
            "linecolor": "white",
            "ticks": ""
           },
           "bgcolor": "#E5ECF6",
           "caxis": {
            "gridcolor": "white",
            "linecolor": "white",
            "ticks": ""
           }
          },
          "title": {
           "x": 0.05
          },
          "xaxis": {
           "automargin": true,
           "gridcolor": "white",
           "linecolor": "white",
           "ticks": "",
           "title": {
            "standoff": 15
           },
           "zerolinecolor": "white",
           "zerolinewidth": 2
          },
          "yaxis": {
           "automargin": true,
           "gridcolor": "white",
           "linecolor": "white",
           "ticks": "",
           "title": {
            "standoff": 15
           },
           "zerolinecolor": "white",
           "zerolinewidth": 2
          }
         }
        },
        "title": {
         "text": "Time Series with Statistical Bands - VALE"
        },
        "xaxis": {
         "title": {
          "text": "Date"
         }
        },
        "yaxis": {
         "title": {
          "text": "Average Participation (7 days)"
         }
        }
       }
      }
     },
     "metadata": {},
     "output_type": "display_data"
    }
   ],
   "source": [
    "# Plotly chart: line + shaded band\n",
    "tickers = band_df['ticker'].unique()\n",
    "for ticker in tickers:\n",
    "    df_ticker = band_df[band_df['ticker'] == ticker]\n",
    "    fig = go.Figure()\n",
    "    # Shaded band\n",
    "    fig.add_traces([\n",
    "        go.Scatter(\n",
    "            x=pd.concat([df_ticker['reference_date'], df_ticker['reference_date'][::-1]]),\n",
    "            y=pd.concat([df_ticker['upper'], df_ticker['lower'][::-1]]),\n",
    "            fill='toself',\n",
    "            fillcolor='rgba(0,100,80,0.2)',\n",
    "            line=dict(color='rgba(255,255,255,0)'),\n",
    "            hoverinfo=\"skip\",\n",
    "            showlegend=False,\n",
    "            name='Confidence Interval'\n",
    "        ),\n",
    "        go.Scatter(\n",
    "            x=df_ticker['reference_date'],\n",
    "            y=df_ticker['mean_part_7_days'],\n",
    "            line=dict(color='rgb(0,100,80)'),\n",
    "            name=f'7-day Mean ({ticker})'\n",
    "        )\n",
    "    ])\n",
    "    fig.update_layout(\n",
    "        title=f'Time Series with Statistical Bands - {ticker}',\n",
    "        xaxis_title='Date',\n",
    "        yaxis_title='Average Participation (7 days)',\n",
    "        legend_title='Legend'\n",
    "    )\n",
    "    fig.show() "
   ]
  },
  {
   "cell_type": "code",
   "execution_count": 15,
   "id": "9891ae5f",
   "metadata": {
    "ExecuteTime": {
     "end_time": "2025-07-14T21:54:19.235285Z",
     "start_time": "2025-07-14T21:54:16.282329Z"
    }
   },
   "outputs": [
    {
     "name": "stdout",
     "output_type": "stream",
     "text": [
      "\n",
      "--- Dashboard: Boxplot of part by ticker ---\n"
     ]
    },
    {
     "data": {
      "application/vnd.plotly.v1+json": {
       "config": {
        "plotlyServerURL": "https://plot.ly"
       },
       "data": [
        {
         "alignmentgroup": "True",
         "hovertemplate": "Ticker=%{x}<br>Participation=%{y}<extra></extra>",
         "legendgroup": "",
         "marker": {
          "color": "#636efa"
         },
         "name": "",
         "notched": false,
         "offsetgroup": "",
         "orientation": "v",
         "showlegend": false,
         "type": "box",
         "x": [
          "REDE D OR",
          "ENEVA",
          "SABESP",
          "BRASIL",
          "RUMO S.A.",
          "CEMIG",
          "PETROBRAS",
          "BRF SA",
          "SMART FIT",
          "BRAVA",
          "VIBRA",
          "CYRELA REALT",
          "MRV",
          "SAO MARTINHO",
          "SANTANDER BR",
          "ISA ENERGIA",
          "COGNA ON",
          "SANTOS BRP",
          "AMBEV S/A",
          "NATURA",
          "MARCOPOLO",
          "GERDAU",
          "ITAUUNIBANCO",
          "IRBBRASIL RE",
          "ENGIE BRASIL",
          "PETRORECSA",
          "MINERVA",
          "IGUATEMI S.A",
          "MARFRIG",
          "MOTIVA SA",
          "PETRORIO",
          "EQUATORIAL",
          "P.ACUCAR-CBD",
          "SUZANO S.A.",
          "ELETROBRAS",
          "MULTIPLAN",
          "TOTVS",
          "VALE",
          "BRADESCO",
          "COSAN",
          "B3",
          "RAIADROGASIL",
          "EMBRAER",
          "ALLOS",
          "BTGP BANCO",
          "WEG",
          "DIRECIONAL",
          "TIM",
          "BRADESPAR",
          "FLEURY",
          "YDUQS PART",
          "SID NACIONAL",
          "CAIXA SEGURI",
          "HAPVIDA",
          "ELETROBRAS",
          "CSNMINERACAO",
          "BRADESCO",
          "SLC AGRICOLA",
          "KLABIN S/A",
          "CPFL ENERGIA",
          "VAMOS",
          "CVC BRASIL",
          "ENERGISA",
          "COPEL",
          "BBSEGURIDADE",
          "MAGAZ LUIZA",
          "ASSAI",
          "PETZ",
          "VIVARA S.A.",
          "TAESA",
          "ULTRAPAR",
          "GERDAU MET",
          "RAIZEN",
          "ITAUSA",
          "BRASKEM",
          "PORTO SEGURO",
          "AUREN",
          "LOJAS RENNER",
          "TELEF BRASIL",
          "LOCALIZA",
          "AZZAS 2154",
          "USIMINAS",
          "HYPERA",
          "PETROBRAS"
         ],
         "x0": " ",
         "xaxis": "x",
         "y": {
          "bdata": "cT0K16Nw/T99PzVeukn0P5HtfD81Xg1AGQRWDi2yBkDZzvdT46XvP+xRuB6F6+0/JQaBlUOLEkAQWDm0yHbqP7gehetRuNY/8KfGSzeJ2T9mZmZmZmbyPyGwcmiR7dQ/MQisHFpkuz+BlUOLbOe7P2iR7Xw/Nd4/L90kBoGV2z+0yHa+nxrPP/LSTWIQWNE/y6FFtvP9BkCe76fGSzfZP6AaL90kBtE/JQaBlUOL8D8bL90kBgEgQLpJDAIrh8Y/fT81XrpJ4D9aZDvfT43HPylcj8L1KLw/4XoUrkfhyj9MN4lBYOXQP4PAyqFFtuM/SOF6FK5H+T8nMQisHFoAQCuHFtnO97M/ke18PzVe+D9KDAIrhxYLQEw3iUFg5dg/c2iR7Xw/8T/2KFyPwjUmQIts5/up8e4/aJHtfD811j8zMzMzMzMLQDEIrBxaZOs/AAAAAAAABECq8dJNYhDgP2iR7Xw/NQRA5/up8dJNB0A1XrpJDALLP5qZmZmZmek/okW28/3UyD9CYOXQItvRP2IQWDm0yMY/mG4Sg8DK0T+YbhKDwMrZP6wcWmQ7398/mpmZmZmZ4T/sUbgehevZPzEIrBxaZA9AF9nO91PjxT+8dJMYBFbmP2q8dJMYBNY/WmQ730+Ntz/ZzvdT46WrPwwCK4cW2eY/N4lBYOXQ7j9g5dAi2/nwP/Cnxks3icE/oBov3SQG5T956SYxCKysP99PjZduEsM/ZDvfT42X1j8GgZVDi2zrP5qZmZmZmdE/EoPAyqFFtj/l0CLb+X4HQHE9CtejcL0/zczMzMzM3D+YbhKDwMrBP3Noke18P+0/vHSTGARW8j91kxgEVg77P7x0kxgEVs4/8tJNYhBYuT9iEFg5tMjePx1aZDvfzxpA",
          "dtype": "f8"
         },
         "y0": " ",
         "yaxis": "y"
        }
       ],
       "layout": {
        "boxmode": "group",
        "legend": {
         "tracegroupgap": 0
        },
        "template": {
         "data": {
          "bar": [
           {
            "error_x": {
             "color": "#2a3f5f"
            },
            "error_y": {
             "color": "#2a3f5f"
            },
            "marker": {
             "line": {
              "color": "#E5ECF6",
              "width": 0.5
             },
             "pattern": {
              "fillmode": "overlay",
              "size": 10,
              "solidity": 0.2
             }
            },
            "type": "bar"
           }
          ],
          "barpolar": [
           {
            "marker": {
             "line": {
              "color": "#E5ECF6",
              "width": 0.5
             },
             "pattern": {
              "fillmode": "overlay",
              "size": 10,
              "solidity": 0.2
             }
            },
            "type": "barpolar"
           }
          ],
          "carpet": [
           {
            "aaxis": {
             "endlinecolor": "#2a3f5f",
             "gridcolor": "white",
             "linecolor": "white",
             "minorgridcolor": "white",
             "startlinecolor": "#2a3f5f"
            },
            "baxis": {
             "endlinecolor": "#2a3f5f",
             "gridcolor": "white",
             "linecolor": "white",
             "minorgridcolor": "white",
             "startlinecolor": "#2a3f5f"
            },
            "type": "carpet"
           }
          ],
          "choropleth": [
           {
            "colorbar": {
             "outlinewidth": 0,
             "ticks": ""
            },
            "type": "choropleth"
           }
          ],
          "contour": [
           {
            "colorbar": {
             "outlinewidth": 0,
             "ticks": ""
            },
            "colorscale": [
             [
              0,
              "#0d0887"
             ],
             [
              0.1111111111111111,
              "#46039f"
             ],
             [
              0.2222222222222222,
              "#7201a8"
             ],
             [
              0.3333333333333333,
              "#9c179e"
             ],
             [
              0.4444444444444444,
              "#bd3786"
             ],
             [
              0.5555555555555556,
              "#d8576b"
             ],
             [
              0.6666666666666666,
              "#ed7953"
             ],
             [
              0.7777777777777778,
              "#fb9f3a"
             ],
             [
              0.8888888888888888,
              "#fdca26"
             ],
             [
              1,
              "#f0f921"
             ]
            ],
            "type": "contour"
           }
          ],
          "contourcarpet": [
           {
            "colorbar": {
             "outlinewidth": 0,
             "ticks": ""
            },
            "type": "contourcarpet"
           }
          ],
          "heatmap": [
           {
            "colorbar": {
             "outlinewidth": 0,
             "ticks": ""
            },
            "colorscale": [
             [
              0,
              "#0d0887"
             ],
             [
              0.1111111111111111,
              "#46039f"
             ],
             [
              0.2222222222222222,
              "#7201a8"
             ],
             [
              0.3333333333333333,
              "#9c179e"
             ],
             [
              0.4444444444444444,
              "#bd3786"
             ],
             [
              0.5555555555555556,
              "#d8576b"
             ],
             [
              0.6666666666666666,
              "#ed7953"
             ],
             [
              0.7777777777777778,
              "#fb9f3a"
             ],
             [
              0.8888888888888888,
              "#fdca26"
             ],
             [
              1,
              "#f0f921"
             ]
            ],
            "type": "heatmap"
           }
          ],
          "histogram": [
           {
            "marker": {
             "pattern": {
              "fillmode": "overlay",
              "size": 10,
              "solidity": 0.2
             }
            },
            "type": "histogram"
           }
          ],
          "histogram2d": [
           {
            "colorbar": {
             "outlinewidth": 0,
             "ticks": ""
            },
            "colorscale": [
             [
              0,
              "#0d0887"
             ],
             [
              0.1111111111111111,
              "#46039f"
             ],
             [
              0.2222222222222222,
              "#7201a8"
             ],
             [
              0.3333333333333333,
              "#9c179e"
             ],
             [
              0.4444444444444444,
              "#bd3786"
             ],
             [
              0.5555555555555556,
              "#d8576b"
             ],
             [
              0.6666666666666666,
              "#ed7953"
             ],
             [
              0.7777777777777778,
              "#fb9f3a"
             ],
             [
              0.8888888888888888,
              "#fdca26"
             ],
             [
              1,
              "#f0f921"
             ]
            ],
            "type": "histogram2d"
           }
          ],
          "histogram2dcontour": [
           {
            "colorbar": {
             "outlinewidth": 0,
             "ticks": ""
            },
            "colorscale": [
             [
              0,
              "#0d0887"
             ],
             [
              0.1111111111111111,
              "#46039f"
             ],
             [
              0.2222222222222222,
              "#7201a8"
             ],
             [
              0.3333333333333333,
              "#9c179e"
             ],
             [
              0.4444444444444444,
              "#bd3786"
             ],
             [
              0.5555555555555556,
              "#d8576b"
             ],
             [
              0.6666666666666666,
              "#ed7953"
             ],
             [
              0.7777777777777778,
              "#fb9f3a"
             ],
             [
              0.8888888888888888,
              "#fdca26"
             ],
             [
              1,
              "#f0f921"
             ]
            ],
            "type": "histogram2dcontour"
           }
          ],
          "mesh3d": [
           {
            "colorbar": {
             "outlinewidth": 0,
             "ticks": ""
            },
            "type": "mesh3d"
           }
          ],
          "parcoords": [
           {
            "line": {
             "colorbar": {
              "outlinewidth": 0,
              "ticks": ""
             }
            },
            "type": "parcoords"
           }
          ],
          "pie": [
           {
            "automargin": true,
            "type": "pie"
           }
          ],
          "scatter": [
           {
            "fillpattern": {
             "fillmode": "overlay",
             "size": 10,
             "solidity": 0.2
            },
            "type": "scatter"
           }
          ],
          "scatter3d": [
           {
            "line": {
             "colorbar": {
              "outlinewidth": 0,
              "ticks": ""
             }
            },
            "marker": {
             "colorbar": {
              "outlinewidth": 0,
              "ticks": ""
             }
            },
            "type": "scatter3d"
           }
          ],
          "scattercarpet": [
           {
            "marker": {
             "colorbar": {
              "outlinewidth": 0,
              "ticks": ""
             }
            },
            "type": "scattercarpet"
           }
          ],
          "scattergeo": [
           {
            "marker": {
             "colorbar": {
              "outlinewidth": 0,
              "ticks": ""
             }
            },
            "type": "scattergeo"
           }
          ],
          "scattergl": [
           {
            "marker": {
             "colorbar": {
              "outlinewidth": 0,
              "ticks": ""
             }
            },
            "type": "scattergl"
           }
          ],
          "scattermap": [
           {
            "marker": {
             "colorbar": {
              "outlinewidth": 0,
              "ticks": ""
             }
            },
            "type": "scattermap"
           }
          ],
          "scattermapbox": [
           {
            "marker": {
             "colorbar": {
              "outlinewidth": 0,
              "ticks": ""
             }
            },
            "type": "scattermapbox"
           }
          ],
          "scatterpolar": [
           {
            "marker": {
             "colorbar": {
              "outlinewidth": 0,
              "ticks": ""
             }
            },
            "type": "scatterpolar"
           }
          ],
          "scatterpolargl": [
           {
            "marker": {
             "colorbar": {
              "outlinewidth": 0,
              "ticks": ""
             }
            },
            "type": "scatterpolargl"
           }
          ],
          "scatterternary": [
           {
            "marker": {
             "colorbar": {
              "outlinewidth": 0,
              "ticks": ""
             }
            },
            "type": "scatterternary"
           }
          ],
          "surface": [
           {
            "colorbar": {
             "outlinewidth": 0,
             "ticks": ""
            },
            "colorscale": [
             [
              0,
              "#0d0887"
             ],
             [
              0.1111111111111111,
              "#46039f"
             ],
             [
              0.2222222222222222,
              "#7201a8"
             ],
             [
              0.3333333333333333,
              "#9c179e"
             ],
             [
              0.4444444444444444,
              "#bd3786"
             ],
             [
              0.5555555555555556,
              "#d8576b"
             ],
             [
              0.6666666666666666,
              "#ed7953"
             ],
             [
              0.7777777777777778,
              "#fb9f3a"
             ],
             [
              0.8888888888888888,
              "#fdca26"
             ],
             [
              1,
              "#f0f921"
             ]
            ],
            "type": "surface"
           }
          ],
          "table": [
           {
            "cells": {
             "fill": {
              "color": "#EBF0F8"
             },
             "line": {
              "color": "white"
             }
            },
            "header": {
             "fill": {
              "color": "#C8D4E3"
             },
             "line": {
              "color": "white"
             }
            },
            "type": "table"
           }
          ]
         },
         "layout": {
          "annotationdefaults": {
           "arrowcolor": "#2a3f5f",
           "arrowhead": 0,
           "arrowwidth": 1
          },
          "autotypenumbers": "strict",
          "coloraxis": {
           "colorbar": {
            "outlinewidth": 0,
            "ticks": ""
           }
          },
          "colorscale": {
           "diverging": [
            [
             0,
             "#8e0152"
            ],
            [
             0.1,
             "#c51b7d"
            ],
            [
             0.2,
             "#de77ae"
            ],
            [
             0.3,
             "#f1b6da"
            ],
            [
             0.4,
             "#fde0ef"
            ],
            [
             0.5,
             "#f7f7f7"
            ],
            [
             0.6,
             "#e6f5d0"
            ],
            [
             0.7,
             "#b8e186"
            ],
            [
             0.8,
             "#7fbc41"
            ],
            [
             0.9,
             "#4d9221"
            ],
            [
             1,
             "#276419"
            ]
           ],
           "sequential": [
            [
             0,
             "#0d0887"
            ],
            [
             0.1111111111111111,
             "#46039f"
            ],
            [
             0.2222222222222222,
             "#7201a8"
            ],
            [
             0.3333333333333333,
             "#9c179e"
            ],
            [
             0.4444444444444444,
             "#bd3786"
            ],
            [
             0.5555555555555556,
             "#d8576b"
            ],
            [
             0.6666666666666666,
             "#ed7953"
            ],
            [
             0.7777777777777778,
             "#fb9f3a"
            ],
            [
             0.8888888888888888,
             "#fdca26"
            ],
            [
             1,
             "#f0f921"
            ]
           ],
           "sequentialminus": [
            [
             0,
             "#0d0887"
            ],
            [
             0.1111111111111111,
             "#46039f"
            ],
            [
             0.2222222222222222,
             "#7201a8"
            ],
            [
             0.3333333333333333,
             "#9c179e"
            ],
            [
             0.4444444444444444,
             "#bd3786"
            ],
            [
             0.5555555555555556,
             "#d8576b"
            ],
            [
             0.6666666666666666,
             "#ed7953"
            ],
            [
             0.7777777777777778,
             "#fb9f3a"
            ],
            [
             0.8888888888888888,
             "#fdca26"
            ],
            [
             1,
             "#f0f921"
            ]
           ]
          },
          "colorway": [
           "#636efa",
           "#EF553B",
           "#00cc96",
           "#ab63fa",
           "#FFA15A",
           "#19d3f3",
           "#FF6692",
           "#B6E880",
           "#FF97FF",
           "#FECB52"
          ],
          "font": {
           "color": "#2a3f5f"
          },
          "geo": {
           "bgcolor": "white",
           "lakecolor": "white",
           "landcolor": "#E5ECF6",
           "showlakes": true,
           "showland": true,
           "subunitcolor": "white"
          },
          "hoverlabel": {
           "align": "left"
          },
          "hovermode": "closest",
          "mapbox": {
           "style": "light"
          },
          "paper_bgcolor": "white",
          "plot_bgcolor": "#E5ECF6",
          "polar": {
           "angularaxis": {
            "gridcolor": "white",
            "linecolor": "white",
            "ticks": ""
           },
           "bgcolor": "#E5ECF6",
           "radialaxis": {
            "gridcolor": "white",
            "linecolor": "white",
            "ticks": ""
           }
          },
          "scene": {
           "xaxis": {
            "backgroundcolor": "#E5ECF6",
            "gridcolor": "white",
            "gridwidth": 2,
            "linecolor": "white",
            "showbackground": true,
            "ticks": "",
            "zerolinecolor": "white"
           },
           "yaxis": {
            "backgroundcolor": "#E5ECF6",
            "gridcolor": "white",
            "gridwidth": 2,
            "linecolor": "white",
            "showbackground": true,
            "ticks": "",
            "zerolinecolor": "white"
           },
           "zaxis": {
            "backgroundcolor": "#E5ECF6",
            "gridcolor": "white",
            "gridwidth": 2,
            "linecolor": "white",
            "showbackground": true,
            "ticks": "",
            "zerolinecolor": "white"
           }
          },
          "shapedefaults": {
           "line": {
            "color": "#2a3f5f"
           }
          },
          "ternary": {
           "aaxis": {
            "gridcolor": "white",
            "linecolor": "white",
            "ticks": ""
           },
           "baxis": {
            "gridcolor": "white",
            "linecolor": "white",
            "ticks": ""
           },
           "bgcolor": "#E5ECF6",
           "caxis": {
            "gridcolor": "white",
            "linecolor": "white",
            "ticks": ""
           }
          },
          "title": {
           "x": 0.05
          },
          "xaxis": {
           "automargin": true,
           "gridcolor": "white",
           "linecolor": "white",
           "ticks": "",
           "title": {
            "standoff": 15
           },
           "zerolinecolor": "white",
           "zerolinewidth": 2
          },
          "yaxis": {
           "automargin": true,
           "gridcolor": "white",
           "linecolor": "white",
           "ticks": "",
           "title": {
            "standoff": 15
           },
           "zerolinecolor": "white",
           "zerolinewidth": 2
          }
         }
        },
        "title": {
         "text": "Distribution of Participation (part) by Ticker"
        },
        "xaxis": {
         "anchor": "y",
         "domain": [
          0,
          1
         ],
         "title": {
          "text": "Ticker"
         }
        },
        "yaxis": {
         "anchor": "x",
         "domain": [
          0,
          1
         ],
         "title": {
          "text": "Participation (%)"
         }
        }
       }
      }
     },
     "metadata": {},
     "output_type": "display_data"
    }
   ],
   "source": [
    "# --- Boxplot of part by ticker ---\n",
    "print(\"\\n--- Dashboard: Boxplot of part by ticker ---\")\n",
    "\n",
    "boxplot_query = f'''\n",
    "SELECT part, ticker, code\n",
    "FROM {TABLE}\n",
    "WHERE part IS NOT NULL AND ticker IS NOT NULL\n",
    "AND cast(reference_date as date) = date_add('day', -1, current_date)\n",
    "'''\n",
    "\n",
    "boxplot_df = pd.read_sql(boxplot_query, conn)\n",
    "\n",
    "# Boxplot chart with plotly\n",
    "fig = px.box(\n",
    "    boxplot_df,\n",
    "    x='ticker',\n",
    "    y='part',\n",
    "    title='Distribution of Participation (part) by Ticker',\n",
    "    labels={'ticker': 'Ticker', 'part': 'Participation'}\n",
    ")\n",
    "fig.update_layout(xaxis_title='Ticker', yaxis_title='Participation (%)')\n",
    "fig.show() "
   ]
  },
  {
   "cell_type": "code",
   "execution_count": 16,
   "id": "3191014a",
   "metadata": {
    "ExecuteTime": {
     "end_time": "2025-07-14T21:54:22.972541Z",
     "start_time": "2025-07-14T21:54:19.334906Z"
    }
   },
   "outputs": [
    {
     "name": "stdout",
     "output_type": "stream",
     "text": [
      "\n",
      "--- Dashboard: Scatter plot mean_part_7_days vs std_part_7_days ---\n"
     ]
    },
    {
     "data": {
      "application/vnd.plotly.v1+json": {
       "config": {
        "plotlyServerURL": "https://plot.ly"
       },
       "data": [
        {
         "customdata": [
          [
           "TAESA"
          ]
         ],
         "hovertemplate": "Ticker=%{customdata[0]}<br>Mean (7 days)=%{x}<br>Standard Deviation (7 days)=%{y}<extra></extra>",
         "legendgroup": "TAESA",
         "marker": {
          "color": "#636efa",
          "symbol": "circle"
         },
         "mode": "markers",
         "name": "TAESA",
         "orientation": "v",
         "showlegend": true,
         "type": "scatter",
         "x": {
          "bdata": "ZX7w3pKe1j8=",
          "dtype": "f8"
         },
         "xaxis": "x",
         "y": {
          "bdata": "lbBAGR/IST8=",
          "dtype": "f8"
         },
         "yaxis": "y"
        },
        {
         "customdata": [
          [
           "SANTOS BRP"
          ]
         ],
         "hovertemplate": "Ticker=%{customdata[0]}<br>Mean (7 days)=%{x}<br>Standard Deviation (7 days)=%{y}<extra></extra>",
         "legendgroup": "SANTOS BRP",
         "marker": {
          "color": "#EF553B",
          "symbol": "circle"
         },
         "mode": "markers",
         "name": "SANTOS BRP",
         "orientation": "v",
         "showlegend": true,
         "type": "scatter",
         "x": {
          "bdata": "SJ5phahA0T8=",
          "dtype": "f8"
         },
         "xaxis": "x",
         "y": {
          "bdata": "35OWD9eDWj8=",
          "dtype": "f8"
         },
         "yaxis": "y"
        },
        {
         "customdata": [
          [
           "RUMO S.A."
          ]
         ],
         "hovertemplate": "Ticker=%{customdata[0]}<br>Mean (7 days)=%{x}<br>Standard Deviation (7 days)=%{y}<extra></extra>",
         "legendgroup": "RUMO S.A.",
         "marker": {
          "color": "#00cc96",
          "symbol": "circle"
         },
         "mode": "markers",
         "name": "RUMO S.A.",
         "orientation": "v",
         "showlegend": true,
         "type": "scatter",
         "x": {
          "bdata": "ATfMUu/q7z8=",
          "dtype": "f8"
         },
         "xaxis": "x",
         "y": {
          "bdata": "06JKe/a9iD8=",
          "dtype": "f8"
         },
         "yaxis": "y"
        },
        {
         "customdata": [
          [
           "FLEURY"
          ]
         ],
         "hovertemplate": "Ticker=%{customdata[0]}<br>Mean (7 days)=%{x}<br>Standard Deviation (7 days)=%{y}<extra></extra>",
         "legendgroup": "FLEURY",
         "marker": {
          "color": "#ab63fa",
          "symbol": "circle"
         },
         "mode": "markers",
         "name": "FLEURY",
         "orientation": "v",
         "showlegend": true,
         "type": "scatter",
         "x": {
          "bdata": "Q859dgGx0T8=",
          "dtype": "f8"
         },
         "xaxis": "x",
         "y": {
          "bdata": "AvJVGDtoaT8=",
          "dtype": "f8"
         },
         "yaxis": "y"
        },
        {
         "customdata": [
          [
           "BTGP BANCO"
          ]
         ],
         "hovertemplate": "Ticker=%{customdata[0]}<br>Mean (7 days)=%{x}<br>Standard Deviation (7 days)=%{y}<extra></extra>",
         "legendgroup": "BTGP BANCO",
         "marker": {
          "color": "#FFA15A",
          "symbol": "circle"
         },
         "mode": "markers",
         "name": "BTGP BANCO",
         "orientation": "v",
         "showlegend": true,
         "type": "scatter",
         "x": {
          "bdata": "KsonaNT+A0A=",
          "dtype": "f8"
         },
         "xaxis": "x",
         "y": {
          "bdata": "D+4i1VU5jT8=",
          "dtype": "f8"
         },
         "yaxis": "y"
        },
        {
         "customdata": [
          [
           "RAIADROGASIL"
          ]
         ],
         "hovertemplate": "Ticker=%{customdata[0]}<br>Mean (7 days)=%{x}<br>Standard Deviation (7 days)=%{y}<extra></extra>",
         "legendgroup": "RAIADROGASIL",
         "marker": {
          "color": "#19d3f3",
          "symbol": "circle"
         },
         "mode": "markers",
         "name": "RAIADROGASIL",
         "orientation": "v",
         "showlegend": true,
         "type": "scatter",
         "x": {
          "bdata": "3hjBRH8n6z8=",
          "dtype": "f8"
         },
         "xaxis": "x",
         "y": {
          "bdata": "0R75g/pPgj8=",
          "dtype": "f8"
         },
         "yaxis": "y"
        },
        {
         "customdata": [
          [
           "PETZ"
          ]
         ],
         "hovertemplate": "Ticker=%{customdata[0]}<br>Mean (7 days)=%{x}<br>Standard Deviation (7 days)=%{y}<extra></extra>",
         "legendgroup": "PETZ",
         "marker": {
          "color": "#FF6692",
          "symbol": "circle"
         },
         "mode": "markers",
         "name": "PETZ",
         "orientation": "v",
         "showlegend": true,
         "type": "scatter",
         "x": {
          "bdata": "4IZZ6l39qj8=",
          "dtype": "f8"
         },
         "xaxis": "x",
         "y": {
          "bdata": "X5I0LRIwYD8=",
          "dtype": "f8"
         },
         "yaxis": "y"
        },
        {
         "customdata": [
          [
           "CYRELA REALT"
          ]
         ],
         "hovertemplate": "Ticker=%{customdata[0]}<br>Mean (7 days)=%{x}<br>Standard Deviation (7 days)=%{y}<extra></extra>",
         "legendgroup": "CYRELA REALT",
         "marker": {
          "color": "#B6E880",
          "symbol": "circle"
         },
         "mode": "markers",
         "name": "CYRELA REALT",
         "orientation": "v",
         "showlegend": true,
         "type": "scatter",
         "x": {
          "bdata": "KCXDbwY+1D8=",
          "dtype": "f8"
         },
         "xaxis": "x",
         "y": {
          "bdata": "o1SWSGMNfD8=",
          "dtype": "f8"
         },
         "yaxis": "y"
        },
        {
         "customdata": [
          [
           "CAIXA SEGURI"
          ]
         ],
         "hovertemplate": "Ticker=%{customdata[0]}<br>Mean (7 days)=%{x}<br>Standard Deviation (7 days)=%{y}<extra></extra>",
         "legendgroup": "CAIXA SEGURI",
         "marker": {
          "color": "#FF97FF",
          "symbol": "circle"
         },
         "mode": "markers",
         "name": "CAIXA SEGURI",
         "orientation": "v",
         "showlegend": true,
         "type": "scatter",
         "x": {
          "bdata": "kqprsC9X2j8=",
          "dtype": "f8"
         },
         "xaxis": "x",
         "y": {
          "bdata": "uiOneZWscT8=",
          "dtype": "f8"
         },
         "yaxis": "y"
        },
        {
         "customdata": [
          [
           "VIVARA S.A."
          ]
         ],
         "hovertemplate": "Ticker=%{customdata[0]}<br>Mean (7 days)=%{x}<br>Standard Deviation (7 days)=%{y}<extra></extra>",
         "legendgroup": "VIVARA S.A.",
         "marker": {
          "color": "#FECB52",
          "symbol": "circle"
         },
         "mode": "markers",
         "name": "VIVARA S.A.",
         "orientation": "v",
         "showlegend": true,
         "type": "scatter",
         "x": {
          "bdata": "MzMzMzMzwz8=",
          "dtype": "f8"
         },
         "xaxis": "x",
         "y": {
          "bdata": "+Qp7uucGWT8=",
          "dtype": "f8"
         },
         "yaxis": "y"
        },
        {
         "customdata": [
          [
           "LOCALIZA"
          ]
         ],
         "hovertemplate": "Ticker=%{customdata[0]}<br>Mean (7 days)=%{x}<br>Standard Deviation (7 days)=%{y}<extra></extra>",
         "legendgroup": "LOCALIZA",
         "marker": {
          "color": "#636efa",
          "symbol": "circle"
         },
         "mode": "markers",
         "name": "LOCALIZA",
         "orientation": "v",
         "showlegend": true,
         "type": "scatter",
         "x": {
          "bdata": "4QA3zFLv+j8=",
          "dtype": "f8"
         },
         "xaxis": "x",
         "y": {
          "bdata": "QXDhtX7/mD8=",
          "dtype": "f8"
         },
         "yaxis": "y"
        },
        {
         "customdata": [
          [
           "AZZAS 2154"
          ]
         ],
         "hovertemplate": "Ticker=%{customdata[0]}<br>Mean (7 days)=%{x}<br>Standard Deviation (7 days)=%{y}<extra></extra>",
         "legendgroup": "AZZAS 2154",
         "marker": {
          "color": "#EF553B",
          "symbol": "circle"
         },
         "mode": "markers",
         "name": "AZZAS 2154",
         "orientation": "v",
         "showlegend": true,
         "type": "scatter",
         "x": {
          "bdata": "FxzghlnqzT8=",
          "dtype": "f8"
         },
         "xaxis": "x",
         "y": {
          "bdata": "phVKTkODZz8=",
          "dtype": "f8"
         },
         "yaxis": "y"
        },
        {
         "customdata": [
          [
           "SLC AGRICOLA"
          ]
         ],
         "hovertemplate": "Ticker=%{customdata[0]}<br>Mean (7 days)=%{x}<br>Standard Deviation (7 days)=%{y}<extra></extra>",
         "legendgroup": "SLC AGRICOLA",
         "marker": {
          "color": "#00cc96",
          "symbol": "circle"
         },
         "mode": "markers",
         "name": "SLC AGRICOLA",
         "orientation": "v",
         "showlegend": true,
         "type": "scatter",
         "x": {
          "bdata": "xWPBAW6YxT8=",
          "dtype": "f8"
         },
         "xaxis": "x",
         "y": {
          "bdata": "lFs2gbCcVj8=",
          "dtype": "f8"
         },
         "yaxis": "y"
        },
        {
         "customdata": [
          [
           "VIBRA"
          ]
         ],
         "hovertemplate": "Ticker=%{customdata[0]}<br>Mean (7 days)=%{x}<br>Standard Deviation (7 days)=%{y}<extra></extra>",
         "legendgroup": "VIBRA",
         "marker": {
          "color": "#ab63fa",
          "symbol": "circle"
         },
         "mode": "markers",
         "name": "VIBRA",
         "orientation": "v",
         "showlegend": true,
         "type": "scatter",
         "x": {
          "bdata": "pt7Vr7V58j8=",
          "dtype": "f8"
         },
         "xaxis": "x",
         "y": {
          "bdata": "BIp8g+l+dz8=",
          "dtype": "f8"
         },
         "yaxis": "y"
        },
        {
         "customdata": [
          [
           "AUREN"
          ]
         ],
         "hovertemplate": "Ticker=%{customdata[0]}<br>Mean (7 days)=%{x}<br>Standard Deviation (7 days)=%{y}<extra></extra>",
         "legendgroup": "AUREN",
         "marker": {
          "color": "#FFA15A",
          "symbol": "circle"
         },
         "mode": "markers",
         "name": "AUREN",
         "orientation": "v",
         "showlegend": true,
         "type": "scatter",
         "x": {
          "bdata": "loac++wCwj8=",
          "dtype": "f8"
         },
         "xaxis": "x",
         "y": {
          "bdata": "Y1s2gbCcVj8=",
          "dtype": "f8"
         },
         "yaxis": "y"
        },
        {
         "customdata": [
          [
           "IRBBRASIL RE"
          ]
         ],
         "hovertemplate": "Ticker=%{customdata[0]}<br>Mean (7 days)=%{x}<br>Standard Deviation (7 days)=%{y}<extra></extra>",
         "legendgroup": "IRBBRASIL RE",
         "marker": {
          "color": "#19d3f3",
          "symbol": "circle"
         },
         "mode": "markers",
         "name": "IRBBRASIL RE",
         "orientation": "v",
         "showlegend": true,
         "type": "scatter",
         "x": {
          "bdata": "vSU9Tegyxj8=",
          "dtype": "f8"
         },
         "xaxis": "x",
         "y": {
          "bdata": "yuI/cujYVD8=",
          "dtype": "f8"
         },
         "yaxis": "y"
        },
        {
         "customdata": [
          [
           "SAO MARTINHO"
          ]
         ],
         "hovertemplate": "Ticker=%{customdata[0]}<br>Mean (7 days)=%{x}<br>Standard Deviation (7 days)=%{y}<extra></extra>",
         "legendgroup": "SAO MARTINHO",
         "marker": {
          "color": "#FF6692",
          "symbol": "circle"
         },
         "mode": "markers",
         "name": "SAO MARTINHO",
         "orientation": "v",
         "showlegend": true,
         "type": "scatter",
         "x": {
          "bdata": "ijUbqboGuz8=",
          "dtype": "f8"
         },
         "xaxis": "x",
         "y": {
          "bdata": "lKYxSTNrYz8=",
          "dtype": "f8"
         },
         "yaxis": "y"
        },
        {
         "customdata": [
          [
           "B3"
          ]
         ],
         "hovertemplate": "Ticker=%{customdata[0]}<br>Mean (7 days)=%{x}<br>Standard Deviation (7 days)=%{y}<extra></extra>",
         "legendgroup": "B3",
         "marker": {
          "color": "#B6E880",
          "symbol": "circle"
         },
         "mode": "markers",
         "name": "B3",
         "orientation": "v",
         "showlegend": true,
         "type": "scatter",
         "x": {
          "bdata": "KGjU/gtFC0A=",
          "dtype": "f8"
         },
         "xaxis": "x",
         "y": {
          "bdata": "M/HpVamomz8=",
          "dtype": "f8"
         },
         "yaxis": "y"
        },
        {
         "customdata": [
          [
           "MARCOPOLO"
          ]
         ],
         "hovertemplate": "Ticker=%{customdata[0]}<br>Mean (7 days)=%{x}<br>Standard Deviation (7 days)=%{y}<extra></extra>",
         "legendgroup": "MARCOPOLO",
         "marker": {
          "color": "#FF97FF",
          "symbol": "circle"
         },
         "mode": "markers",
         "name": "MARCOPOLO",
         "orientation": "v",
         "showlegend": true,
         "type": "scatter",
         "x": {
          "bdata": "UI2XbhKD0D8=",
          "dtype": "f8"
         },
         "xaxis": "x",
         "y": {
          "bdata": "9l+aXTnOdj8=",
          "dtype": "f8"
         },
         "yaxis": "y"
        },
        {
         "customdata": [
          [
           "IGUATEMI S.A"
          ]
         ],
         "hovertemplate": "Ticker=%{customdata[0]}<br>Mean (7 days)=%{x}<br>Standard Deviation (7 days)=%{y}<extra></extra>",
         "legendgroup": "IGUATEMI S.A",
         "marker": {
          "color": "#FECB52",
          "symbol": "circle"
         },
         "mode": "markers",
         "name": "IGUATEMI S.A",
         "orientation": "v",
         "showlegend": true,
         "type": "scatter",
         "x": {
          "bdata": "OMANs9S7yj8=",
          "dtype": "f8"
         },
         "xaxis": "x",
         "y": {
          "bdata": "jB2iDwXoUz8=",
          "dtype": "f8"
         },
         "yaxis": "y"
        },
        {
         "customdata": [
          [
           "NATURA"
          ]
         ],
         "hovertemplate": "Ticker=%{customdata[0]}<br>Mean (7 days)=%{x}<br>Standard Deviation (7 days)=%{y}<extra></extra>",
         "legendgroup": "NATURA",
         "marker": {
          "color": "#636efa",
          "symbol": "circle"
         },
         "mode": "markers",
         "name": "NATURA",
         "orientation": "v",
         "showlegend": true,
         "type": "scatter",
         "x": {
          "bdata": "R7bz/dR42T8=",
          "dtype": "f8"
         },
         "xaxis": "x",
         "y": {
          "bdata": "8ahhf0pPdj8=",
          "dtype": "f8"
         },
         "yaxis": "y"
        },
        {
         "customdata": [
          [
           "ITAUUNIBANCO"
          ]
         ],
         "hovertemplate": "Ticker=%{customdata[0]}<br>Mean (7 days)=%{x}<br>Standard Deviation (7 days)=%{y}<extra></extra>",
         "legendgroup": "ITAUUNIBANCO",
         "marker": {
          "color": "#EF553B",
          "symbol": "circle"
         },
         "mode": "markers",
         "name": "ITAUUNIBANCO",
         "orientation": "v",
         "showlegend": true,
         "type": "scatter",
         "x": {
          "bdata": "zYm7PcfFH0A=",
          "dtype": "f8"
         },
         "xaxis": "x",
         "y": {
          "bdata": "+to2NaDGoj8=",
          "dtype": "f8"
         },
         "yaxis": "y"
        },
        {
         "customdata": [
          [
           "VALE"
          ]
         ],
         "hovertemplate": "Ticker=%{customdata[0]}<br>Mean (7 days)=%{x}<br>Standard Deviation (7 days)=%{y}<extra></extra>",
         "legendgroup": "VALE",
         "marker": {
          "color": "#00cc96",
          "symbol": "circle"
         },
         "mode": "markers",
         "name": "VALE",
         "orientation": "v",
         "showlegend": true,
         "type": "scatter",
         "x": {
          "bdata": "SJ5phaiAJkA=",
          "dtype": "f8"
         },
         "xaxis": "x",
         "y": {
          "bdata": "ukXuAdqcwj8=",
          "dtype": "f8"
         },
         "yaxis": "y"
        },
        {
         "customdata": [
          [
           "ENEVA"
          ]
         ],
         "hovertemplate": "Ticker=%{customdata[0]}<br>Mean (7 days)=%{x}<br>Standard Deviation (7 days)=%{y}<extra></extra>",
         "legendgroup": "ENEVA",
         "marker": {
          "color": "#ab63fa",
          "symbol": "circle"
         },
         "mode": "markers",
         "name": "ENEVA",
         "orientation": "v",
         "showlegend": true,
         "type": "scatter",
         "x": {
          "bdata": "sexFc+Ju8z8=",
          "dtype": "f8"
         },
         "xaxis": "x",
         "y": {
          "bdata": "ZYxWcbfHmj8=",
          "dtype": "f8"
         },
         "yaxis": "y"
        },
        {
         "customdata": [
          [
           "SMART FIT"
          ]
         ],
         "hovertemplate": "Ticker=%{customdata[0]}<br>Mean (7 days)=%{x}<br>Standard Deviation (7 days)=%{y}<extra></extra>",
         "legendgroup": "SMART FIT",
         "marker": {
          "color": "#FFA15A",
          "symbol": "circle"
         },
         "mode": "markers",
         "name": "SMART FIT",
         "orientation": "v",
         "showlegend": true,
         "type": "scatter",
         "x": {
          "bdata": "Y0ckjKOz1j8=",
          "dtype": "f8"
         },
         "xaxis": "x",
         "y": {
          "bdata": "c/cZaOJ1ZD8=",
          "dtype": "f8"
         },
         "yaxis": "y"
        },
        {
         "customdata": [
          [
           "BRADESCO"
          ],
          [
           "BRADESCO"
          ]
         ],
         "hovertemplate": "Ticker=%{customdata[0]}<br>Mean (7 days)=%{x}<br>Standard Deviation (7 days)=%{y}<extra></extra>",
         "legendgroup": "BRADESCO",
         "marker": {
          "color": "#19d3f3",
          "symbol": "circle"
         },
         "mode": "markers",
         "name": "BRADESCO",
         "orientation": "v",
         "showlegend": true,
         "type": "scatter",
         "x": {
          "bdata": "YOXQItv57j+nj3/kmVYPQA==",
          "dtype": "f8"
         },
         "xaxis": "x",
         "y": {
          "bdata": "gdHlf094aT8Wv/NPkLiSPw==",
          "dtype": "f8"
         },
         "yaxis": "y"
        },
        {
         "customdata": [
          [
           "AMBEV S/A"
          ]
         ],
         "hovertemplate": "Ticker=%{customdata[0]}<br>Mean (7 days)=%{x}<br>Standard Deviation (7 days)=%{y}<extra></extra>",
         "legendgroup": "AMBEV S/A",
         "marker": {
          "color": "#FF6692",
          "symbol": "circle"
         },
         "mode": "markers",
         "name": "AMBEV S/A",
         "orientation": "v",
         "showlegend": true,
         "type": "scatter",
         "x": {
          "bdata": "sSMSxtFZBkA=",
          "dtype": "f8"
         },
         "xaxis": "x",
         "y": {
          "bdata": "EHQOoT5goz8=",
          "dtype": "f8"
         },
         "yaxis": "y"
        },
        {
         "customdata": [
          [
           "YDUQS PART"
          ]
         ],
         "hovertemplate": "Ticker=%{customdata[0]}<br>Mean (7 days)=%{x}<br>Standard Deviation (7 days)=%{y}<extra></extra>",
         "legendgroup": "YDUQS PART",
         "marker": {
          "color": "#B6E880",
          "symbol": "circle"
         },
         "mode": "markers",
         "name": "YDUQS PART",
         "orientation": "v",
         "showlegend": true,
         "type": "scatter",
         "x": {
          "bdata": "ZeyIhHF0xj8=",
          "dtype": "f8"
         },
         "xaxis": "x",
         "y": {
          "bdata": "yvA96cdSdD8=",
          "dtype": "f8"
         },
         "yaxis": "y"
        },
        {
         "customdata": [
          [
           "BRADESPAR"
          ]
         ],
         "hovertemplate": "Ticker=%{customdata[0]}<br>Mean (7 days)=%{x}<br>Standard Deviation (7 days)=%{y}<extra></extra>",
         "legendgroup": "BRADESPAR",
         "marker": {
          "color": "#FF97FF",
          "symbol": "circle"
         },
         "mode": "markers",
         "name": "BRADESPAR",
         "orientation": "v",
         "showlegend": true,
         "type": "scatter",
         "x": {
          "bdata": "nu+nxks3yT8=",
          "dtype": "f8"
         },
         "xaxis": "x",
         "y": {
          "bdata": "lOHjf7edZD8=",
          "dtype": "f8"
         },
         "yaxis": "y"
        },
        {
         "customdata": [
          [
           "MINERVA"
          ]
         ],
         "hovertemplate": "Ticker=%{customdata[0]}<br>Mean (7 days)=%{x}<br>Standard Deviation (7 days)=%{y}<extra></extra>",
         "legendgroup": "MINERVA",
         "marker": {
          "color": "#FECB52",
          "symbol": "circle"
         },
         "mode": "markers",
         "name": "MINERVA",
         "orientation": "v",
         "showlegend": true,
         "type": "scatter",
         "x": {
          "bdata": "KGjU/gtFvD8=",
          "dtype": "f8"
         },
         "xaxis": "x",
         "y": {
          "bdata": "gLBAGR/IST8=",
          "dtype": "f8"
         },
         "yaxis": "y"
        },
        {
         "customdata": [
          [
           "BRASKEM"
          ]
         ],
         "hovertemplate": "Ticker=%{customdata[0]}<br>Mean (7 days)=%{x}<br>Standard Deviation (7 days)=%{y}<extra></extra>",
         "legendgroup": "BRASKEM",
         "marker": {
          "color": "#636efa",
          "symbol": "circle"
         },
         "mode": "markers",
         "name": "BRASKEM",
         "orientation": "v",
         "showlegend": true,
         "type": "scatter",
         "x": {
          "bdata": "CaDXHU4fvz8=",
          "dtype": "f8"
         },
         "xaxis": "x",
         "y": {
          "bdata": "3HC0cNlFaj8=",
          "dtype": "f8"
         },
         "yaxis": "y"
        },
        {
         "customdata": [
          [
           "USIMINAS"
          ]
         ],
         "hovertemplate": "Ticker=%{customdata[0]}<br>Mean (7 days)=%{x}<br>Standard Deviation (7 days)=%{y}<extra></extra>",
         "legendgroup": "USIMINAS",
         "marker": {
          "color": "#EF553B",
          "symbol": "circle"
         },
         "mode": "markers",
         "name": "USIMINAS",
         "orientation": "v",
         "showlegend": true,
         "type": "scatter",
         "x": {
          "bdata": "jwUHuGGWuj8=",
          "dtype": "f8"
         },
         "xaxis": "x",
         "y": {
          "bdata": "uc05jC/3YT8=",
          "dtype": "f8"
         },
         "yaxis": "y"
        },
        {
         "customdata": [
          [
           "VAMOS"
          ]
         ],
         "hovertemplate": "Ticker=%{customdata[0]}<br>Mean (7 days)=%{x}<br>Standard Deviation (7 days)=%{y}<extra></extra>",
         "legendgroup": "VAMOS",
         "marker": {
          "color": "#00cc96",
          "symbol": "circle"
         },
         "mode": "markers",
         "name": "VAMOS",
         "orientation": "v",
         "showlegend": true,
         "type": "scatter",
         "x": {
          "bdata": "BvtyJYBetz8=",
          "dtype": "f8"
         },
         "xaxis": "x",
         "y": {
          "bdata": "WoALnNaJVD8=",
          "dtype": "f8"
         },
         "yaxis": "y"
        },
        {
         "customdata": [
          [
           "HYPERA"
          ]
         ],
         "hovertemplate": "Ticker=%{customdata[0]}<br>Mean (7 days)=%{x}<br>Standard Deviation (7 days)=%{y}<extra></extra>",
         "legendgroup": "HYPERA",
         "marker": {
          "color": "#ab63fa",
          "symbol": "circle"
         },
         "mode": "markers",
         "name": "HYPERA",
         "orientation": "v",
         "showlegend": true,
         "type": "scatter",
         "x": {
          "bdata": "bSoNOffZ3T8=",
          "dtype": "f8"
         },
         "xaxis": "x",
         "y": {
          "bdata": "6Ahzb3v3ez8=",
          "dtype": "f8"
         },
         "yaxis": "y"
        },
        {
         "customdata": [
          [
           "COGNA ON"
          ]
         ],
         "hovertemplate": "Ticker=%{customdata[0]}<br>Mean (7 days)=%{x}<br>Standard Deviation (7 days)=%{y}<extra></extra>",
         "legendgroup": "COGNA ON",
         "marker": {
          "color": "#FFA15A",
          "symbol": "circle"
         },
         "mode": "markers",
         "name": "COGNA ON",
         "orientation": "v",
         "showlegend": true,
         "type": "scatter",
         "x": {
          "bdata": "YkckjKOzzj8=",
          "dtype": "f8"
         },
         "xaxis": "x",
         "y": {
          "bdata": "uRRwB9Lgbz8=",
          "dtype": "f8"
         },
         "yaxis": "y"
        },
        {
         "customdata": [
          [
           "P.ACUCAR-CBD"
          ]
         ],
         "hovertemplate": "Ticker=%{customdata[0]}<br>Mean (7 days)=%{x}<br>Standard Deviation (7 days)=%{y}<extra></extra>",
         "legendgroup": "P.ACUCAR-CBD",
         "marker": {
          "color": "#19d3f3",
          "symbol": "circle"
         },
         "mode": "markers",
         "name": "P.ACUCAR-CBD",
         "orientation": "v",
         "showlegend": true,
         "type": "scatter",
         "x": {
          "bdata": "PdMKUYFSsj8=",
          "dtype": "f8"
         },
         "xaxis": "x",
         "y": {
          "bdata": "jYZvJN0MaD8=",
          "dtype": "f8"
         },
         "yaxis": "y"
        },
        {
         "customdata": [
          [
           "COPEL"
          ]
         ],
         "hovertemplate": "Ticker=%{customdata[0]}<br>Mean (7 days)=%{x}<br>Standard Deviation (7 days)=%{y}<extra></extra>",
         "legendgroup": "COPEL",
         "marker": {
          "color": "#FF6692",
          "symbol": "circle"
         },
         "mode": "markers",
         "name": "COPEL",
         "orientation": "v",
         "showlegend": true,
         "type": "scatter",
         "x": {
          "bdata": "54HMD95b7j8=",
          "dtype": "f8"
         },
         "xaxis": "x",
         "y": {
          "bdata": "E6alWW7AgD8=",
          "dtype": "f8"
         },
         "yaxis": "y"
        },
        {
         "customdata": [
          [
           "SUZANO S.A."
          ]
         ],
         "hovertemplate": "Ticker=%{customdata[0]}<br>Mean (7 days)=%{x}<br>Standard Deviation (7 days)=%{y}<extra></extra>",
         "legendgroup": "SUZANO S.A.",
         "marker": {
          "color": "#B6E880",
          "symbol": "circle"
         },
         "mode": "markers",
         "name": "SUZANO S.A.",
         "orientation": "v",
         "showlegend": true,
         "type": "scatter",
         "x": {
          "bdata": "lU/QqP0X+D8=",
          "dtype": "f8"
         },
         "xaxis": "x",
         "y": {
          "bdata": "eNCPFoc9jD8=",
          "dtype": "f8"
         },
         "yaxis": "y"
        },
        {
         "customdata": [
          [
           "ELETROBRAS"
          ],
          [
           "ELETROBRAS"
          ]
         ],
         "hovertemplate": "Ticker=%{customdata[0]}<br>Mean (7 days)=%{x}<br>Standard Deviation (7 days)=%{y}<extra></extra>",
         "legendgroup": "ELETROBRAS",
         "marker": {
          "color": "#FF97FF",
          "symbol": "circle"
         },
         "mode": "markers",
         "name": "ELETROBRAS",
         "orientation": "v",
         "showlegend": true,
         "type": "scatter",
         "x": {
          "bdata": "7vYcF1Os4T9VGnLuswsLQA==",
          "dtype": "f8"
         },
         "xaxis": "x",
         "y": {
          "bdata": "qb0fD6uGZT8eHAKOKEeOPw==",
          "dtype": "f8"
         },
         "yaxis": "y"
        },
        {
         "customdata": [
          [
           "WEG"
          ]
         ],
         "hovertemplate": "Ticker=%{customdata[0]}<br>Mean (7 days)=%{x}<br>Standard Deviation (7 days)=%{y}<extra></extra>",
         "legendgroup": "WEG",
         "marker": {
          "color": "#FECB52",
          "symbol": "circle"
         },
         "mode": "markers",
         "name": "WEG",
         "orientation": "v",
         "showlegend": true,
         "type": "scatter",
         "x": {
          "bdata": "BdDrDqePBkA=",
          "dtype": "f8"
         },
         "xaxis": "x",
         "y": {
          "bdata": "N7/K7UkipT8=",
          "dtype": "f8"
         },
         "yaxis": "y"
        },
        {
         "customdata": [
          [
           "MOTIVA SA"
          ]
         ],
         "hovertemplate": "Ticker=%{customdata[0]}<br>Mean (7 days)=%{x}<br>Standard Deviation (7 days)=%{y}<extra></extra>",
         "legendgroup": "MOTIVA SA",
         "marker": {
          "color": "#636efa",
          "symbol": "circle"
         },
         "mode": "markers",
         "name": "MOTIVA SA",
         "orientation": "v",
         "showlegend": true,
         "type": "scatter",
         "x": {
          "bdata": "WLORqmuw4z8=",
          "dtype": "f8"
         },
         "xaxis": "x",
         "y": {
          "bdata": "Hu4i1VU5fT8=",
          "dtype": "f8"
         },
         "yaxis": "y"
        },
        {
         "customdata": [
          [
           "PETRORIO"
          ]
         ],
         "hovertemplate": "Ticker=%{customdata[0]}<br>Mean (7 days)=%{x}<br>Standard Deviation (7 days)=%{y}<extra></extra>",
         "legendgroup": "PETRORIO",
         "marker": {
          "color": "#EF553B",
          "symbol": "circle"
         },
         "mode": "markers",
         "name": "PETRORIO",
         "orientation": "v",
         "showlegend": true,
         "type": "scatter",
         "x": {
          "bdata": "slreGMFE+T8=",
          "dtype": "f8"
         },
         "xaxis": "x",
         "y": {
          "bdata": "x9BL7W7hkT8=",
          "dtype": "f8"
         },
         "yaxis": "y"
        },
        {
         "customdata": [
          [
           "CPFL ENERGIA"
          ]
         ],
         "hovertemplate": "Ticker=%{customdata[0]}<br>Mean (7 days)=%{x}<br>Standard Deviation (7 days)=%{y}<extra></extra>",
         "legendgroup": "CPFL ENERGIA",
         "marker": {
          "color": "#00cc96",
          "symbol": "circle"
         },
         "mode": "markers",
         "name": "CPFL ENERGIA",
         "orientation": "v",
         "showlegend": true,
         "type": "scatter",
         "x": {
          "bdata": "GM2Juz3H1T8=",
          "dtype": "f8"
         },
         "xaxis": "x",
         "y": {
          "bdata": "I1ASFYd7XT8=",
          "dtype": "f8"
         },
         "yaxis": "y"
        },
        {
         "customdata": [
          [
           "ISA ENERGIA"
          ]
         ],
         "hovertemplate": "Ticker=%{customdata[0]}<br>Mean (7 days)=%{x}<br>Standard Deviation (7 days)=%{y}<extra></extra>",
         "legendgroup": "ISA ENERGIA",
         "marker": {
          "color": "#ab63fa",
          "symbol": "circle"
         },
         "mode": "markers",
         "name": "ISA ENERGIA",
         "orientation": "v",
         "showlegend": true,
         "type": "scatter",
         "x": {
          "bdata": "hqhAKRl+2z8=",
          "dtype": "f8"
         },
         "xaxis": "x",
         "y": {
          "bdata": "Cky4yeSTUj8=",
          "dtype": "f8"
         },
         "yaxis": "y"
        },
        {
         "customdata": [
          [
           "ENGIE BRASIL"
          ]
         ],
         "hovertemplate": "Ticker=%{customdata[0]}<br>Mean (7 days)=%{x}<br>Standard Deviation (7 days)=%{y}<extra></extra>",
         "legendgroup": "ENGIE BRASIL",
         "marker": {
          "color": "#FFA15A",
          "symbol": "circle"
         },
         "mode": "markers",
         "name": "ENGIE BRASIL",
         "orientation": "v",
         "showlegend": true,
         "type": "scatter",
         "x": {
          "bdata": "UnUN9uVK4D8=",
          "dtype": "f8"
         },
         "xaxis": "x",
         "y": {
          "bdata": "39u6n5OsdD8=",
          "dtype": "f8"
         },
         "yaxis": "y"
        },
        {
         "customdata": [
          [
           "SABESP"
          ]
         ],
         "hovertemplate": "Ticker=%{customdata[0]}<br>Mean (7 days)=%{x}<br>Standard Deviation (7 days)=%{y}<extra></extra>",
         "legendgroup": "SABESP",
         "marker": {
          "color": "#19d3f3",
          "symbol": "circle"
         },
         "mode": "markers",
         "name": "SABESP",
         "orientation": "v",
         "showlegend": true,
         "type": "scatter",
         "x": {
          "bdata": "f63NA5kfDUA=",
          "dtype": "f8"
         },
         "xaxis": "x",
         "y": {
          "bdata": "jQJuqF6JkT8=",
          "dtype": "f8"
         },
         "yaxis": "y"
        },
        {
         "customdata": [
          [
           "COSAN"
          ]
         ],
         "hovertemplate": "Ticker=%{customdata[0]}<br>Mean (7 days)=%{x}<br>Standard Deviation (7 days)=%{y}<extra></extra>",
         "legendgroup": "COSAN",
         "marker": {
          "color": "#FF6692",
          "symbol": "circle"
         },
         "mode": "markers",
         "name": "COSAN",
         "orientation": "v",
         "showlegend": true,
         "type": "scatter",
         "x": {
          "bdata": "Zi+aE3d71j8=",
          "dtype": "f8"
         },
         "xaxis": "x",
         "y": {
          "bdata": "tfPpuQEAZT8=",
          "dtype": "f8"
         },
         "yaxis": "y"
        },
        {
         "customdata": [
          [
           "ULTRAPAR"
          ]
         ],
         "hovertemplate": "Ticker=%{customdata[0]}<br>Mean (7 days)=%{x}<br>Standard Deviation (7 days)=%{y}<extra></extra>",
         "legendgroup": "ULTRAPAR",
         "marker": {
          "color": "#B6E880",
          "symbol": "circle"
         },
         "mode": "markers",
         "name": "ULTRAPAR",
         "orientation": "v",
         "showlegend": true,
         "type": "scatter",
         "x": {
          "bdata": "1YQuY0ck7D8=",
          "dtype": "f8"
         },
         "xaxis": "x",
         "y": {
          "bdata": "PR1VhisPkD8=",
          "dtype": "f8"
         },
         "yaxis": "y"
        },
        {
         "customdata": [
          [
           "TIM"
          ]
         ],
         "hovertemplate": "Ticker=%{customdata[0]}<br>Mean (7 days)=%{x}<br>Standard Deviation (7 days)=%{y}<extra></extra>",
         "legendgroup": "TIM",
         "marker": {
          "color": "#FF97FF",
          "symbol": "circle"
         },
         "mode": "markers",
         "name": "TIM",
         "orientation": "v",
         "showlegend": true,
         "type": "scatter",
         "x": {
          "bdata": "wUR/J6vl6T8=",
          "dtype": "f8"
         },
         "xaxis": "x",
         "y": {
          "bdata": "SuRd3Xy3fj8=",
          "dtype": "f8"
         },
         "yaxis": "y"
        },
        {
         "customdata": [
          [
           "PETRORECSA"
          ]
         ],
         "hovertemplate": "Ticker=%{customdata[0]}<br>Mean (7 days)=%{x}<br>Standard Deviation (7 days)=%{y}<extra></extra>",
         "legendgroup": "PETRORECSA",
         "marker": {
          "color": "#FECB52",
          "symbol": "circle"
         },
         "mode": "markers",
         "name": "PETRORECSA",
         "orientation": "v",
         "showlegend": true,
         "type": "scatter",
         "x": {
          "bdata": "ATfMUu/qxz8=",
          "dtype": "f8"
         },
         "xaxis": "x",
         "y": {
          "bdata": "nNIafaDZZz8=",
          "dtype": "f8"
         },
         "yaxis": "y"
        },
        {
         "customdata": [
          [
           "GERDAU MET"
          ]
         ],
         "hovertemplate": "Ticker=%{customdata[0]}<br>Mean (7 days)=%{x}<br>Standard Deviation (7 days)=%{y}<extra></extra>",
         "legendgroup": "GERDAU MET",
         "marker": {
          "color": "#636efa",
          "symbol": "circle"
         },
         "mode": "markers",
         "name": "GERDAU MET",
         "orientation": "v",
         "showlegend": true,
         "type": "scatter",
         "x": {
          "bdata": "7jkupliz0T8=",
          "dtype": "f8"
         },
         "xaxis": "x",
         "y": {
          "bdata": "9Od8V9KyXT8=",
          "dtype": "f8"
         },
         "yaxis": "y"
        },
        {
         "customdata": [
          [
           "TELEF BRASIL"
          ]
         ],
         "hovertemplate": "Ticker=%{customdata[0]}<br>Mean (7 days)=%{x}<br>Standard Deviation (7 days)=%{y}<extra></extra>",
         "legendgroup": "TELEF BRASIL",
         "marker": {
          "color": "#EF553B",
          "symbol": "circle"
         },
         "mode": "markers",
         "name": "TELEF BRASIL",
         "orientation": "v",
         "showlegend": true,
         "type": "scatter",
         "x": {
          "bdata": "uwb7ciWA8j8=",
          "dtype": "f8"
         },
         "xaxis": "x",
         "y": {
          "bdata": "c1e4y1N9iT8=",
          "dtype": "f8"
         },
         "yaxis": "y"
        },
        {
         "customdata": [
          [
           "EMBRAER"
          ]
         ],
         "hovertemplate": "Ticker=%{customdata[0]}<br>Mean (7 days)=%{x}<br>Standard Deviation (7 days)=%{y}<extra></extra>",
         "legendgroup": "EMBRAER",
         "marker": {
          "color": "#00cc96",
          "symbol": "circle"
         },
         "mode": "markers",
         "name": "EMBRAER",
         "orientation": "v",
         "showlegend": true,
         "type": "scatter",
         "x": {
          "bdata": "Q859dgGxBEA=",
          "dtype": "f8"
         },
         "xaxis": "x",
         "y": {
          "bdata": "J6ekbzUypD8=",
          "dtype": "f8"
         },
         "yaxis": "y"
        },
        {
         "customdata": [
          [
           "MAGAZ LUIZA"
          ]
         ],
         "hovertemplate": "Ticker=%{customdata[0]}<br>Mean (7 days)=%{x}<br>Standard Deviation (7 days)=%{y}<extra></extra>",
         "legendgroup": "MAGAZ LUIZA",
         "marker": {
          "color": "#ab63fa",
          "symbol": "circle"
         },
         "mode": "markers",
         "name": "MAGAZ LUIZA",
         "orientation": "v",
         "showlegend": true,
         "type": "scatter",
         "x": {
          "bdata": "8ZuBDyFtwT8=",
          "dtype": "f8"
         },
         "xaxis": "x",
         "y": {
          "bdata": "OeO1vhaMXj8=",
          "dtype": "f8"
         },
         "yaxis": "y"
        },
        {
         "customdata": [
          [
           "BRASIL"
          ]
         ],
         "hovertemplate": "Ticker=%{customdata[0]}<br>Mean (7 days)=%{x}<br>Standard Deviation (7 days)=%{y}<extra></extra>",
         "legendgroup": "BRASIL",
         "marker": {
          "color": "#FFA15A",
          "symbol": "circle"
         },
         "mode": "markers",
         "name": "BRASIL",
         "orientation": "v",
         "showlegend": true,
         "type": "scatter",
         "x": {
          "bdata": "zom7PcfFBkA=",
          "dtype": "f8"
         },
         "xaxis": "x",
         "y": {
          "bdata": "7Ftvf07okD8=",
          "dtype": "f8"
         },
         "yaxis": "y"
        },
        {
         "customdata": [
          [
           "REDE D OR"
          ]
         ],
         "hovertemplate": "Ticker=%{customdata[0]}<br>Mean (7 days)=%{x}<br>Standard Deviation (7 days)=%{y}<extra></extra>",
         "legendgroup": "REDE D OR",
         "marker": {
          "color": "#19d3f3",
          "symbol": "circle"
         },
         "mode": "markers",
         "name": "REDE D OR",
         "orientation": "v",
         "showlegend": true,
         "type": "scatter",
         "x": {
          "bdata": "cmiR7Xw//T8=",
          "dtype": "f8"
         },
         "xaxis": "x",
         "y": {
          "bdata": "f67nFA1njD8=",
          "dtype": "f8"
         },
         "yaxis": "y"
        },
        {
         "customdata": [
          [
           "DIRECIONAL"
          ]
         ],
         "hovertemplate": "Ticker=%{customdata[0]}<br>Mean (7 days)=%{x}<br>Standard Deviation (7 days)=%{y}<extra></extra>",
         "legendgroup": "DIRECIONAL",
         "marker": {
          "color": "#FF6692",
          "symbol": "circle"
         },
         "mode": "markers",
         "name": "DIRECIONAL",
         "orientation": "v",
         "showlegend": true,
         "type": "scatter",
         "x": {
          "bdata": "OyJhHJ11yj8=",
          "dtype": "f8"
         },
         "xaxis": "x",
         "y": {
          "bdata": "mHGULtfdaz8=",
          "dtype": "f8"
         },
         "yaxis": "y"
        },
        {
         "customdata": [
          [
           "BBSEGURIDADE"
          ]
         ],
         "hovertemplate": "Ticker=%{customdata[0]}<br>Mean (7 days)=%{x}<br>Standard Deviation (7 days)=%{y}<extra></extra>",
         "legendgroup": "BBSEGURIDADE",
         "marker": {
          "color": "#B6E880",
          "symbol": "circle"
         },
         "mode": "markers",
         "name": "BBSEGURIDADE",
         "orientation": "v",
         "showlegend": true,
         "type": "scatter",
         "x": {
          "bdata": "X/EVX/EV8T8=",
          "dtype": "f8"
         },
         "xaxis": "x",
         "y": {
          "bdata": "zI/gzGDxdD8=",
          "dtype": "f8"
         },
         "yaxis": "y"
        },
        {
         "customdata": [
          [
           "PETROBRAS"
          ],
          [
           "PETROBRAS"
          ]
         ],
         "hovertemplate": "Ticker=%{customdata[0]}<br>Mean (7 days)=%{x}<br>Standard Deviation (7 days)=%{y}<extra></extra>",
         "legendgroup": "PETROBRAS",
         "marker": {
          "color": "#FF97FF",
          "symbol": "circle"
         },
         "mode": "markers",
         "name": "PETROBRAS",
         "orientation": "v",
         "showlegend": true,
         "type": "scatter",
         "x": {
          "bdata": "VSa3KsonG0AX2c73U+MSQA==",
          "dtype": "f8"
         },
         "xaxis": "x",
         "y": {
          "bdata": "hPlPUt+Drj/Eqn2FaK+nPw==",
          "dtype": "f8"
         },
         "yaxis": "y"
        },
        {
         "customdata": [
          [
           "LOJAS RENNER"
          ]
         ],
         "hovertemplate": "Ticker=%{customdata[0]}<br>Mean (7 days)=%{x}<br>Standard Deviation (7 days)=%{y}<extra></extra>",
         "legendgroup": "LOJAS RENNER",
         "marker": {
          "color": "#FECB52",
          "symbol": "circle"
         },
         "mode": "markers",
         "name": "LOJAS RENNER",
         "orientation": "v",
         "showlegend": true,
         "type": "scatter",
         "x": {
          "bdata": "RySMo7NO7T8=",
          "dtype": "f8"
         },
         "xaxis": "x",
         "y": {
          "bdata": "KWIcZPMuhz8=",
          "dtype": "f8"
         },
         "yaxis": "y"
        },
        {
         "customdata": [
          [
           "PORTO SEGURO"
          ]
         ],
         "hovertemplate": "Ticker=%{customdata[0]}<br>Mean (7 days)=%{x}<br>Standard Deviation (7 days)=%{y}<extra></extra>",
         "legendgroup": "PORTO SEGURO",
         "marker": {
          "color": "#636efa",
          "symbol": "circle"
         },
         "mode": "markers",
         "name": "PORTO SEGURO",
         "orientation": "v",
         "showlegend": true,
         "type": "scatter",
         "x": {
          "bdata": "ybnPLiA23T8=",
          "dtype": "f8"
         },
         "xaxis": "x",
         "y": {
          "bdata": "Z5cSlm5Sbz8=",
          "dtype": "f8"
         },
         "yaxis": "y"
        },
        {
         "customdata": [
          [
           "SID NACIONAL"
          ]
         ],
         "hovertemplate": "Ticker=%{customdata[0]}<br>Mean (7 days)=%{x}<br>Standard Deviation (7 days)=%{y}<extra></extra>",
         "legendgroup": "SID NACIONAL",
         "marker": {
          "color": "#EF553B",
          "symbol": "circle"
         },
         "mode": "markers",
         "name": "SID NACIONAL",
         "orientation": "v",
         "showlegend": true,
         "type": "scatter",
         "x": {
          "bdata": "6axTJrcq0j8=",
          "dtype": "f8"
         },
         "xaxis": "x",
         "y": {
          "bdata": "AaL2kPoWaj8=",
          "dtype": "f8"
         },
         "yaxis": "y"
        },
        {
         "customdata": [
          [
           "HAPVIDA"
          ]
         ],
         "hovertemplate": "Ticker=%{customdata[0]}<br>Mean (7 days)=%{x}<br>Standard Deviation (7 days)=%{y}<extra></extra>",
         "legendgroup": "HAPVIDA",
         "marker": {
          "color": "#00cc96",
          "symbol": "circle"
         },
         "mode": "markers",
         "name": "HAPVIDA",
         "orientation": "v",
         "showlegend": true,
         "type": "scatter",
         "x": {
          "bdata": "CawcWmQ73z8=",
          "dtype": "f8"
         },
         "xaxis": "x",
         "y": {
          "bdata": "keHjf7edhD8=",
          "dtype": "f8"
         },
         "yaxis": "y"
        },
        {
         "customdata": [
          [
           "BRF SA"
          ]
         ],
         "hovertemplate": "Ticker=%{customdata[0]}<br>Mean (7 days)=%{x}<br>Standard Deviation (7 days)=%{y}<extra></extra>",
         "legendgroup": "BRF SA",
         "marker": {
          "color": "#ab63fa",
          "symbol": "circle"
         },
         "mode": "markers",
         "name": "BRF SA",
         "orientation": "v",
         "showlegend": true,
         "type": "scatter",
         "x": {
          "bdata": "WiEqUEqG6z8=",
          "dtype": "f8"
         },
         "xaxis": "x",
         "y": {
          "bdata": "sFdaQJ23nD8=",
          "dtype": "f8"
         },
         "yaxis": "y"
        },
        {
         "customdata": [
          [
           "ITAUSA"
          ]
         ],
         "hovertemplate": "Ticker=%{customdata[0]}<br>Mean (7 days)=%{x}<br>Standard Deviation (7 days)=%{y}<extra></extra>",
         "legendgroup": "ITAUSA",
         "marker": {
          "color": "#FFA15A",
          "symbol": "circle"
         },
         "mode": "markers",
         "name": "ITAUSA",
         "orientation": "v",
         "showlegend": true,
         "type": "scatter",
         "x": {
          "bdata": "vfq1Ng9kB0A=",
          "dtype": "f8"
         },
         "xaxis": "x",
         "y": {
          "bdata": "J1byrRiXej8=",
          "dtype": "f8"
         },
         "yaxis": "y"
        },
        {
         "customdata": [
          [
           "MARFRIG"
          ]
         ],
         "hovertemplate": "Ticker=%{customdata[0]}<br>Mean (7 days)=%{x}<br>Standard Deviation (7 days)=%{y}<extra></extra>",
         "legendgroup": "MARFRIG",
         "marker": {
          "color": "#19d3f3",
          "symbol": "circle"
         },
         "mode": "markers",
         "name": "MARFRIG",
         "orientation": "v",
         "showlegend": true,
         "type": "scatter",
         "x": {
          "bdata": "TPR3slre0D8=",
          "dtype": "f8"
         },
         "xaxis": "x",
         "y": {
          "bdata": "ySOneZWscT8=",
          "dtype": "f8"
         },
         "yaxis": "y"
        },
        {
         "customdata": [
          [
           "ALLOS"
          ]
         ],
         "hovertemplate": "Ticker=%{customdata[0]}<br>Mean (7 days)=%{x}<br>Standard Deviation (7 days)=%{y}<extra></extra>",
         "legendgroup": "ALLOS",
         "marker": {
          "color": "#FF6692",
          "symbol": "circle"
         },
         "mode": "markers",
         "name": "ALLOS",
         "orientation": "v",
         "showlegend": true,
         "type": "scatter",
         "x": {
          "bdata": "WXCAG2ap3z8=",
          "dtype": "f8"
         },
         "xaxis": "x",
         "y": {
          "bdata": "nEu4yeSTcj8=",
          "dtype": "f8"
         },
         "yaxis": "y"
        },
        {
         "customdata": [
          [
           "MRV"
          ]
         ],
         "hovertemplate": "Ticker=%{customdata[0]}<br>Mean (7 days)=%{x}<br>Standard Deviation (7 days)=%{y}<extra></extra>",
         "legendgroup": "MRV",
         "marker": {
          "color": "#B6E880",
          "symbol": "circle"
         },
         "mode": "markers",
         "name": "MRV",
         "orientation": "v",
         "showlegend": true,
         "type": "scatter",
         "x": {
          "bdata": "1+aBzA/euz8=",
          "dtype": "f8"
         },
         "xaxis": "x",
         "y": {
          "bdata": "Y0HxK79NZD8=",
          "dtype": "f8"
         },
         "yaxis": "y"
        },
        {
         "customdata": [
          [
           "BRAVA"
          ]
         ],
         "hovertemplate": "Ticker=%{customdata[0]}<br>Mean (7 days)=%{x}<br>Standard Deviation (7 days)=%{y}<extra></extra>",
         "legendgroup": "BRAVA",
         "marker": {
          "color": "#FF97FF",
          "symbol": "circle"
         },
         "mode": "markers",
         "name": "BRAVA",
         "orientation": "v",
         "showlegend": true,
         "type": "scatter",
         "x": {
          "bdata": "TStEBUrJ2D8=",
          "dtype": "f8"
         },
         "xaxis": "x",
         "y": {
          "bdata": "XG7IbxMdgD8=",
          "dtype": "f8"
         },
         "yaxis": "y"
        },
        {
         "customdata": [
          [
           "SANTANDER BR"
          ]
         ],
         "hovertemplate": "Ticker=%{customdata[0]}<br>Mean (7 days)=%{x}<br>Standard Deviation (7 days)=%{y}<extra></extra>",
         "legendgroup": "SANTANDER BR",
         "marker": {
          "color": "#FECB52",
          "symbol": "circle"
         },
         "mode": "markers",
         "name": "SANTANDER BR",
         "orientation": "v",
         "showlegend": true,
         "type": "scatter",
         "x": {
          "bdata": "EzRq/4Ui3j8=",
          "dtype": "f8"
         },
         "xaxis": "x",
         "y": {
          "bdata": "YQZNaXxYaz8=",
          "dtype": "f8"
         },
         "yaxis": "y"
        },
        {
         "customdata": [
          [
           "ASSAI"
          ]
         ],
         "hovertemplate": "Ticker=%{customdata[0]}<br>Mean (7 days)=%{x}<br>Standard Deviation (7 days)=%{y}<extra></extra>",
         "legendgroup": "ASSAI",
         "marker": {
          "color": "#636efa",
          "symbol": "circle"
         },
         "mode": "markers",
         "name": "ASSAI",
         "orientation": "v",
         "showlegend": true,
         "type": "scatter",
         "x": {
          "bdata": "+UeeaYWo5D8=",
          "dtype": "f8"
         },
         "xaxis": "x",
         "y": {
          "bdata": "LZSYZjTZgT8=",
          "dtype": "f8"
         },
         "yaxis": "y"
        },
        {
         "customdata": [
          [
           "RAIZEN"
          ]
         ],
         "hovertemplate": "Ticker=%{customdata[0]}<br>Mean (7 days)=%{x}<br>Standard Deviation (7 days)=%{y}<extra></extra>",
         "legendgroup": "RAIZEN",
         "marker": {
          "color": "#EF553B",
          "symbol": "circle"
         },
         "mode": "markers",
         "name": "RAIZEN",
         "orientation": "v",
         "showlegend": true,
         "type": "scatter",
         "x": {
          "bdata": "t2GWele/tj8=",
          "dtype": "f8"
         },
         "xaxis": "x",
         "y": {
          "bdata": "cx2iDwXoUz8=",
          "dtype": "f8"
         },
         "yaxis": "y"
        },
        {
         "customdata": [
          [
           "ENERGISA"
          ]
         ],
         "hovertemplate": "Ticker=%{customdata[0]}<br>Mean (7 days)=%{x}<br>Standard Deviation (7 days)=%{y}<extra></extra>",
         "legendgroup": "ENERGISA",
         "marker": {
          "color": "#00cc96",
          "symbol": "circle"
         },
         "mode": "markers",
         "name": "ENERGISA",
         "orientation": "v",
         "showlegend": true,
         "type": "scatter",
         "x": {
          "bdata": "t6SnCV3G5j8=",
          "dtype": "f8"
         },
         "xaxis": "x",
         "y": {
          "bdata": "75Oevn8kYj8=",
          "dtype": "f8"
         },
         "yaxis": "y"
        },
        {
         "customdata": [
          [
           "KLABIN S/A"
          ]
         ],
         "hovertemplate": "Ticker=%{customdata[0]}<br>Mean (7 days)=%{x}<br>Standard Deviation (7 days)=%{y}<extra></extra>",
         "legendgroup": "KLABIN S/A",
         "marker": {
          "color": "#ab63fa",
          "symbol": "circle"
         },
         "mode": "markers",
         "name": "KLABIN S/A",
         "orientation": "v",
         "showlegend": true,
         "type": "scatter",
         "x": {
          "bdata": "wMqhRbbz5T8=",
          "dtype": "f8"
         },
         "xaxis": "x",
         "y": {
          "bdata": "oBtwE63Lhz8=",
          "dtype": "f8"
         },
         "yaxis": "y"
        },
        {
         "customdata": [
          [
           "GERDAU"
          ]
         ],
         "hovertemplate": "Ticker=%{customdata[0]}<br>Mean (7 days)=%{x}<br>Standard Deviation (7 days)=%{y}<extra></extra>",
         "legendgroup": "GERDAU",
         "marker": {
          "color": "#FFA15A",
          "symbol": "circle"
         },
         "mode": "markers",
         "name": "GERDAU",
         "orientation": "v",
         "showlegend": true,
         "type": "scatter",
         "x": {
          "bdata": "j0gYR2ed8D8=",
          "dtype": "f8"
         },
         "xaxis": "x",
         "y": {
          "bdata": "pKcJo+7Dcz8=",
          "dtype": "f8"
         },
         "yaxis": "y"
        },
        {
         "customdata": [
          [
           "CEMIG"
          ]
         ],
         "hovertemplate": "Ticker=%{customdata[0]}<br>Mean (7 days)=%{x}<br>Standard Deviation (7 days)=%{y}<extra></extra>",
         "legendgroup": "CEMIG",
         "marker": {
          "color": "#19d3f3",
          "symbol": "circle"
         },
         "mode": "markers",
         "name": "CEMIG",
         "orientation": "v",
         "showlegend": true,
         "type": "scatter",
         "x": {
          "bdata": "ZyNV12Bf7j8=",
          "dtype": "f8"
         },
         "xaxis": "x",
         "y": {
          "bdata": "44HdI/fzfT8=",
          "dtype": "f8"
         },
         "yaxis": "y"
        },
        {
         "customdata": [
          [
           "CSNMINERACAO"
          ]
         ],
         "hovertemplate": "Ticker=%{customdata[0]}<br>Mean (7 days)=%{x}<br>Standard Deviation (7 days)=%{y}<extra></extra>",
         "legendgroup": "CSNMINERACAO",
         "marker": {
          "color": "#FF6692",
          "symbol": "circle"
         },
         "mode": "markers",
         "name": "CSNMINERACAO",
         "orientation": "v",
         "showlegend": true,
         "type": "scatter",
         "x": {
          "bdata": "7gJiU2nI2T8=",
          "dtype": "f8"
         },
         "xaxis": "x",
         "y": {
          "bdata": "rh2iDwXoUz8=",
          "dtype": "f8"
         },
         "yaxis": "y"
        },
        {
         "customdata": [
          [
           "TOTVS"
          ]
         ],
         "hovertemplate": "Ticker=%{customdata[0]}<br>Mean (7 days)=%{x}<br>Standard Deviation (7 days)=%{y}<extra></extra>",
         "legendgroup": "TOTVS",
         "marker": {
          "color": "#B6E880",
          "symbol": "circle"
         },
         "mode": "markers",
         "name": "TOTVS",
         "orientation": "v",
         "showlegend": true,
         "type": "scatter",
         "x": {
          "bdata": "jKOzTpnc8D8=",
          "dtype": "f8"
         },
         "xaxis": "x",
         "y": {
          "bdata": "c6f+Ik2Wkj8=",
          "dtype": "f8"
         },
         "yaxis": "y"
        },
        {
         "customdata": [
          [
           "MULTIPLAN"
          ]
         ],
         "hovertemplate": "Ticker=%{customdata[0]}<br>Mean (7 days)=%{x}<br>Standard Deviation (7 days)=%{y}<extra></extra>",
         "legendgroup": "MULTIPLAN",
         "marker": {
          "color": "#FF97FF",
          "symbol": "circle"
         },
         "mode": "markers",
         "name": "MULTIPLAN",
         "orientation": "v",
         "showlegend": true,
         "type": "scatter",
         "x": {
          "bdata": "S/R3slre2D8=",
          "dtype": "f8"
         },
         "xaxis": "x",
         "y": {
          "bdata": "JJSWD9eDWj8=",
          "dtype": "f8"
         },
         "yaxis": "y"
        },
        {
         "customdata": [
          [
           "EQUATORIAL"
          ]
         ],
         "hovertemplate": "Ticker=%{customdata[0]}<br>Mean (7 days)=%{x}<br>Standard Deviation (7 days)=%{y}<extra></extra>",
         "legendgroup": "EQUATORIAL",
         "marker": {
          "color": "#FECB52",
          "symbol": "circle"
         },
         "mode": "markers",
         "name": "EQUATORIAL",
         "orientation": "v",
         "showlegend": true,
         "type": "scatter",
         "x": {
          "bdata": "nbjbc1xMAEA=",
          "dtype": "f8"
         },
         "xaxis": "x",
         "y": {
          "bdata": "EMl2VjGbgT8=",
          "dtype": "f8"
         },
         "yaxis": "y"
        },
        {
         "customdata": [
          [
           "CVC BRASIL"
          ]
         ],
         "hovertemplate": "Ticker=%{customdata[0]}<br>Mean (7 days)=%{x}<br>Standard Deviation (7 days)=%{y}<extra></extra>",
         "legendgroup": "CVC BRASIL",
         "marker": {
          "color": "#636efa",
          "symbol": "circle"
         },
         "mode": "markers",
         "name": "CVC BRASIL",
         "orientation": "v",
         "showlegend": true,
         "type": "scatter",
         "x": {
          "bdata": "QGwqDTn3qT8=",
          "dtype": "f8"
         },
         "xaxis": "x",
         "y": {
          "bdata": "VpI0LRIwYD8=",
          "dtype": "f8"
         },
         "yaxis": "y"
        }
       ],
       "layout": {
        "legend": {
         "title": {
          "text": "Ticker"
         },
         "tracegroupgap": 0
        },
        "template": {
         "data": {
          "bar": [
           {
            "error_x": {
             "color": "#2a3f5f"
            },
            "error_y": {
             "color": "#2a3f5f"
            },
            "marker": {
             "line": {
              "color": "#E5ECF6",
              "width": 0.5
             },
             "pattern": {
              "fillmode": "overlay",
              "size": 10,
              "solidity": 0.2
             }
            },
            "type": "bar"
           }
          ],
          "barpolar": [
           {
            "marker": {
             "line": {
              "color": "#E5ECF6",
              "width": 0.5
             },
             "pattern": {
              "fillmode": "overlay",
              "size": 10,
              "solidity": 0.2
             }
            },
            "type": "barpolar"
           }
          ],
          "carpet": [
           {
            "aaxis": {
             "endlinecolor": "#2a3f5f",
             "gridcolor": "white",
             "linecolor": "white",
             "minorgridcolor": "white",
             "startlinecolor": "#2a3f5f"
            },
            "baxis": {
             "endlinecolor": "#2a3f5f",
             "gridcolor": "white",
             "linecolor": "white",
             "minorgridcolor": "white",
             "startlinecolor": "#2a3f5f"
            },
            "type": "carpet"
           }
          ],
          "choropleth": [
           {
            "colorbar": {
             "outlinewidth": 0,
             "ticks": ""
            },
            "type": "choropleth"
           }
          ],
          "contour": [
           {
            "colorbar": {
             "outlinewidth": 0,
             "ticks": ""
            },
            "colorscale": [
             [
              0,
              "#0d0887"
             ],
             [
              0.1111111111111111,
              "#46039f"
             ],
             [
              0.2222222222222222,
              "#7201a8"
             ],
             [
              0.3333333333333333,
              "#9c179e"
             ],
             [
              0.4444444444444444,
              "#bd3786"
             ],
             [
              0.5555555555555556,
              "#d8576b"
             ],
             [
              0.6666666666666666,
              "#ed7953"
             ],
             [
              0.7777777777777778,
              "#fb9f3a"
             ],
             [
              0.8888888888888888,
              "#fdca26"
             ],
             [
              1,
              "#f0f921"
             ]
            ],
            "type": "contour"
           }
          ],
          "contourcarpet": [
           {
            "colorbar": {
             "outlinewidth": 0,
             "ticks": ""
            },
            "type": "contourcarpet"
           }
          ],
          "heatmap": [
           {
            "colorbar": {
             "outlinewidth": 0,
             "ticks": ""
            },
            "colorscale": [
             [
              0,
              "#0d0887"
             ],
             [
              0.1111111111111111,
              "#46039f"
             ],
             [
              0.2222222222222222,
              "#7201a8"
             ],
             [
              0.3333333333333333,
              "#9c179e"
             ],
             [
              0.4444444444444444,
              "#bd3786"
             ],
             [
              0.5555555555555556,
              "#d8576b"
             ],
             [
              0.6666666666666666,
              "#ed7953"
             ],
             [
              0.7777777777777778,
              "#fb9f3a"
             ],
             [
              0.8888888888888888,
              "#fdca26"
             ],
             [
              1,
              "#f0f921"
             ]
            ],
            "type": "heatmap"
           }
          ],
          "histogram": [
           {
            "marker": {
             "pattern": {
              "fillmode": "overlay",
              "size": 10,
              "solidity": 0.2
             }
            },
            "type": "histogram"
           }
          ],
          "histogram2d": [
           {
            "colorbar": {
             "outlinewidth": 0,
             "ticks": ""
            },
            "colorscale": [
             [
              0,
              "#0d0887"
             ],
             [
              0.1111111111111111,
              "#46039f"
             ],
             [
              0.2222222222222222,
              "#7201a8"
             ],
             [
              0.3333333333333333,
              "#9c179e"
             ],
             [
              0.4444444444444444,
              "#bd3786"
             ],
             [
              0.5555555555555556,
              "#d8576b"
             ],
             [
              0.6666666666666666,
              "#ed7953"
             ],
             [
              0.7777777777777778,
              "#fb9f3a"
             ],
             [
              0.8888888888888888,
              "#fdca26"
             ],
             [
              1,
              "#f0f921"
             ]
            ],
            "type": "histogram2d"
           }
          ],
          "histogram2dcontour": [
           {
            "colorbar": {
             "outlinewidth": 0,
             "ticks": ""
            },
            "colorscale": [
             [
              0,
              "#0d0887"
             ],
             [
              0.1111111111111111,
              "#46039f"
             ],
             [
              0.2222222222222222,
              "#7201a8"
             ],
             [
              0.3333333333333333,
              "#9c179e"
             ],
             [
              0.4444444444444444,
              "#bd3786"
             ],
             [
              0.5555555555555556,
              "#d8576b"
             ],
             [
              0.6666666666666666,
              "#ed7953"
             ],
             [
              0.7777777777777778,
              "#fb9f3a"
             ],
             [
              0.8888888888888888,
              "#fdca26"
             ],
             [
              1,
              "#f0f921"
             ]
            ],
            "type": "histogram2dcontour"
           }
          ],
          "mesh3d": [
           {
            "colorbar": {
             "outlinewidth": 0,
             "ticks": ""
            },
            "type": "mesh3d"
           }
          ],
          "parcoords": [
           {
            "line": {
             "colorbar": {
              "outlinewidth": 0,
              "ticks": ""
             }
            },
            "type": "parcoords"
           }
          ],
          "pie": [
           {
            "automargin": true,
            "type": "pie"
           }
          ],
          "scatter": [
           {
            "fillpattern": {
             "fillmode": "overlay",
             "size": 10,
             "solidity": 0.2
            },
            "type": "scatter"
           }
          ],
          "scatter3d": [
           {
            "line": {
             "colorbar": {
              "outlinewidth": 0,
              "ticks": ""
             }
            },
            "marker": {
             "colorbar": {
              "outlinewidth": 0,
              "ticks": ""
             }
            },
            "type": "scatter3d"
           }
          ],
          "scattercarpet": [
           {
            "marker": {
             "colorbar": {
              "outlinewidth": 0,
              "ticks": ""
             }
            },
            "type": "scattercarpet"
           }
          ],
          "scattergeo": [
           {
            "marker": {
             "colorbar": {
              "outlinewidth": 0,
              "ticks": ""
             }
            },
            "type": "scattergeo"
           }
          ],
          "scattergl": [
           {
            "marker": {
             "colorbar": {
              "outlinewidth": 0,
              "ticks": ""
             }
            },
            "type": "scattergl"
           }
          ],
          "scattermap": [
           {
            "marker": {
             "colorbar": {
              "outlinewidth": 0,
              "ticks": ""
             }
            },
            "type": "scattermap"
           }
          ],
          "scattermapbox": [
           {
            "marker": {
             "colorbar": {
              "outlinewidth": 0,
              "ticks": ""
             }
            },
            "type": "scattermapbox"
           }
          ],
          "scatterpolar": [
           {
            "marker": {
             "colorbar": {
              "outlinewidth": 0,
              "ticks": ""
             }
            },
            "type": "scatterpolar"
           }
          ],
          "scatterpolargl": [
           {
            "marker": {
             "colorbar": {
              "outlinewidth": 0,
              "ticks": ""
             }
            },
            "type": "scatterpolargl"
           }
          ],
          "scatterternary": [
           {
            "marker": {
             "colorbar": {
              "outlinewidth": 0,
              "ticks": ""
             }
            },
            "type": "scatterternary"
           }
          ],
          "surface": [
           {
            "colorbar": {
             "outlinewidth": 0,
             "ticks": ""
            },
            "colorscale": [
             [
              0,
              "#0d0887"
             ],
             [
              0.1111111111111111,
              "#46039f"
             ],
             [
              0.2222222222222222,
              "#7201a8"
             ],
             [
              0.3333333333333333,
              "#9c179e"
             ],
             [
              0.4444444444444444,
              "#bd3786"
             ],
             [
              0.5555555555555556,
              "#d8576b"
             ],
             [
              0.6666666666666666,
              "#ed7953"
             ],
             [
              0.7777777777777778,
              "#fb9f3a"
             ],
             [
              0.8888888888888888,
              "#fdca26"
             ],
             [
              1,
              "#f0f921"
             ]
            ],
            "type": "surface"
           }
          ],
          "table": [
           {
            "cells": {
             "fill": {
              "color": "#EBF0F8"
             },
             "line": {
              "color": "white"
             }
            },
            "header": {
             "fill": {
              "color": "#C8D4E3"
             },
             "line": {
              "color": "white"
             }
            },
            "type": "table"
           }
          ]
         },
         "layout": {
          "annotationdefaults": {
           "arrowcolor": "#2a3f5f",
           "arrowhead": 0,
           "arrowwidth": 1
          },
          "autotypenumbers": "strict",
          "coloraxis": {
           "colorbar": {
            "outlinewidth": 0,
            "ticks": ""
           }
          },
          "colorscale": {
           "diverging": [
            [
             0,
             "#8e0152"
            ],
            [
             0.1,
             "#c51b7d"
            ],
            [
             0.2,
             "#de77ae"
            ],
            [
             0.3,
             "#f1b6da"
            ],
            [
             0.4,
             "#fde0ef"
            ],
            [
             0.5,
             "#f7f7f7"
            ],
            [
             0.6,
             "#e6f5d0"
            ],
            [
             0.7,
             "#b8e186"
            ],
            [
             0.8,
             "#7fbc41"
            ],
            [
             0.9,
             "#4d9221"
            ],
            [
             1,
             "#276419"
            ]
           ],
           "sequential": [
            [
             0,
             "#0d0887"
            ],
            [
             0.1111111111111111,
             "#46039f"
            ],
            [
             0.2222222222222222,
             "#7201a8"
            ],
            [
             0.3333333333333333,
             "#9c179e"
            ],
            [
             0.4444444444444444,
             "#bd3786"
            ],
            [
             0.5555555555555556,
             "#d8576b"
            ],
            [
             0.6666666666666666,
             "#ed7953"
            ],
            [
             0.7777777777777778,
             "#fb9f3a"
            ],
            [
             0.8888888888888888,
             "#fdca26"
            ],
            [
             1,
             "#f0f921"
            ]
           ],
           "sequentialminus": [
            [
             0,
             "#0d0887"
            ],
            [
             0.1111111111111111,
             "#46039f"
            ],
            [
             0.2222222222222222,
             "#7201a8"
            ],
            [
             0.3333333333333333,
             "#9c179e"
            ],
            [
             0.4444444444444444,
             "#bd3786"
            ],
            [
             0.5555555555555556,
             "#d8576b"
            ],
            [
             0.6666666666666666,
             "#ed7953"
            ],
            [
             0.7777777777777778,
             "#fb9f3a"
            ],
            [
             0.8888888888888888,
             "#fdca26"
            ],
            [
             1,
             "#f0f921"
            ]
           ]
          },
          "colorway": [
           "#636efa",
           "#EF553B",
           "#00cc96",
           "#ab63fa",
           "#FFA15A",
           "#19d3f3",
           "#FF6692",
           "#B6E880",
           "#FF97FF",
           "#FECB52"
          ],
          "font": {
           "color": "#2a3f5f"
          },
          "geo": {
           "bgcolor": "white",
           "lakecolor": "white",
           "landcolor": "#E5ECF6",
           "showlakes": true,
           "showland": true,
           "subunitcolor": "white"
          },
          "hoverlabel": {
           "align": "left"
          },
          "hovermode": "closest",
          "mapbox": {
           "style": "light"
          },
          "paper_bgcolor": "white",
          "plot_bgcolor": "#E5ECF6",
          "polar": {
           "angularaxis": {
            "gridcolor": "white",
            "linecolor": "white",
            "ticks": ""
           },
           "bgcolor": "#E5ECF6",
           "radialaxis": {
            "gridcolor": "white",
            "linecolor": "white",
            "ticks": ""
           }
          },
          "scene": {
           "xaxis": {
            "backgroundcolor": "#E5ECF6",
            "gridcolor": "white",
            "gridwidth": 2,
            "linecolor": "white",
            "showbackground": true,
            "ticks": "",
            "zerolinecolor": "white"
           },
           "yaxis": {
            "backgroundcolor": "#E5ECF6",
            "gridcolor": "white",
            "gridwidth": 2,
            "linecolor": "white",
            "showbackground": true,
            "ticks": "",
            "zerolinecolor": "white"
           },
           "zaxis": {
            "backgroundcolor": "#E5ECF6",
            "gridcolor": "white",
            "gridwidth": 2,
            "linecolor": "white",
            "showbackground": true,
            "ticks": "",
            "zerolinecolor": "white"
           }
          },
          "shapedefaults": {
           "line": {
            "color": "#2a3f5f"
           }
          },
          "ternary": {
           "aaxis": {
            "gridcolor": "white",
            "linecolor": "white",
            "ticks": ""
           },
           "baxis": {
            "gridcolor": "white",
            "linecolor": "white",
            "ticks": ""
           },
           "bgcolor": "#E5ECF6",
           "caxis": {
            "gridcolor": "white",
            "linecolor": "white",
            "ticks": ""
           }
          },
          "title": {
           "x": 0.05
          },
          "xaxis": {
           "automargin": true,
           "gridcolor": "white",
           "linecolor": "white",
           "ticks": "",
           "title": {
            "standoff": 15
           },
           "zerolinecolor": "white",
           "zerolinewidth": 2
          },
          "yaxis": {
           "automargin": true,
           "gridcolor": "white",
           "linecolor": "white",
           "ticks": "",
           "title": {
            "standoff": 15
           },
           "zerolinecolor": "white",
           "zerolinewidth": 2
          }
         }
        },
        "title": {
         "text": "Scatter: Mean vs Volatility of Participation (by Ticker)"
        },
        "xaxis": {
         "anchor": "y",
         "domain": [
          0,
          1
         ],
         "title": {
          "text": "Mean Participation (7 days)"
         }
        },
        "yaxis": {
         "anchor": "x",
         "domain": [
          0,
          1
         ],
         "title": {
          "text": "Volatility (Standard Deviation 7 days)"
         }
        }
       }
      }
     },
     "metadata": {},
     "output_type": "display_data"
    }
   ],
   "source": [
    "# --- Scatter plot mean_part_7_days vs std_part_7_days ---\n",
    "print(\"\\n--- Dashboard: Scatter plot mean_part_7_days vs std_part_7_days ---\")\n",
    "\n",
    "scatter_query = f'''\n",
    "SELECT mean_part_7_days, std_part_7_days, ticker\n",
    "FROM {TABLE}\n",
    "WHERE mean_part_7_days IS NOT NULL AND std_part_7_days IS NOT NULL AND ticker IS NOT NULL\n",
    "AND cast(reference_date as date) = date_add('day', -1, current_date)\n",
    "'''\n",
    "\n",
    "scatter_df = pd.read_sql(scatter_query, conn)\n",
    "\n",
    "fig = px.scatter(\n",
    "    scatter_df,\n",
    "    x='mean_part_7_days',\n",
    "    y='std_part_7_days',\n",
    "    color='ticker',\n",
    "    title='Scatter: Mean vs Volatility of Participation (by Ticker)',\n",
    "    labels={'mean_part_7_days': 'Mean (7 days)', 'std_part_7_days': 'Standard Deviation (7 days)', 'ticker': 'Ticker'},\n",
    "    hover_data=['ticker']\n",
    ")\n",
    "fig.update_layout(xaxis_title='Mean Participation (7 days)', yaxis_title='Volatility (Standard Deviation 7 days)')\n",
    "fig.show()"
   ]
  }
 ],
 "metadata": {
  "kernelspec": {
   "display_name": ".venv",
   "language": "python",
   "name": "python3"
  },
  "language_info": {
   "codemirror_mode": {
    "name": "ipython",
    "version": 3
   },
   "file_extension": ".py",
   "mimetype": "text/x-python",
   "name": "python",
   "nbconvert_exporter": "python",
   "pygments_lexer": "ipython3",
   "version": "3.12.10"
  }
 },
 "nbformat": 4,
 "nbformat_minor": 5
}
